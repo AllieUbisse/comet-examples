{
 "cells": [
  {
   "cell_type": "markdown",
   "metadata": {},
   "source": [
    "<img src=\"https://comet.ml/images/logo_comet_light.png\" width=\"200px\"/>\n",
    "\n",
    "# Comet.ml Python API\n",
    "\n",
    "*This page is available as an executable or viewable **Jupyter Notebook**:* <br/>\n",
    "<a href=\"https://mybinder.org/v2/gh/comet-ml/comet-examples/master?filepath=notebooks%2FComet-Python-API.ipynb\" target=\"_parent\"><img align=\"left\" src=\"https://mybinder.org/badge_logo.svg\"></a>\n",
    "<a href=\"https://nbviewer.jupyter.org/github/comet-ml/comet-examples/blob/master/notebooks/Comet-Python-API.ipynb\" target=\"_parent\"><img align=\"right\" src=\"https://raw.githubusercontent.com/jupyter/design/master/logos/Badges/nbviewer_badge.png\" width=\"109\" height=\"20\"></a>\n",
    "<br/>\n",
    "<hr/>\n",
    "Comet.ml has an extensive interface to all of your data using a [REST API](https://en.wikipedia.org/wiki/Representational_state_transfer) through [Comet.ml endpoints](https://www.comet.ml/docs/rest-api/endpoints/). Now, you can access this information easily through the Comet.ml Python SDK. Requires version comet_ml version 2.0.9 or greater.\n",
    "\n",
    "## Setup\n",
    "\n",
    "To run the following experiments, you'll need to set your COMET_API_KEY and COMET_REST_API_KEY. The easiest way to to this is to set the values in a cell like this:\n",
    "\n",
    "```python\n",
    "import comet_ml\n",
    "\n",
    "comet_ml.save(api_key=\"...\", rest_api_key=\"...\")\n",
    "```\n",
    "where you replace the ...'s with your keys.\n",
    "\n",
    "You can get your COMET_API_KEY under your quickstart link (replace YOUR_USERNAME with your Comet.ml username):\n",
    "\n",
    "https://www.comet.ml/YOUR_USERNAME/quickstart\n",
    "\n",
    "You can get your COMET_REST_API_KEY under your settings (replace YOUR_USERNAME with your Comet.ml username):\n",
    "\n",
    "https://www.comet.ml/YOUR_USERNAME/settings/account\n",
    "\n",
    "## Quick Overview\n",
    "\n",
    "To access the Python API through the Comet.ml SDK, you will need to make an API() instance. First, we import the API class and other libraries we will need. Note that this is a new interface and comes from `comet_ml.papi`:"
   ]
  },
  {
   "cell_type": "code",
   "execution_count": 1,
   "metadata": {},
   "outputs": [],
   "source": [
    "from comet_ml.papi import API\n",
    "import comet_ml\n",
    "\n",
    "import matplotlib.pyplot as plt\n",
    "%matplotlib inline"
   ]
  },
  {
   "cell_type": "markdown",
   "metadata": {},
   "source": [
    "and create the API instance:"
   ]
  },
  {
   "cell_type": "code",
   "execution_count": 2,
   "metadata": {},
   "outputs": [],
   "source": [
    "comet_api = API()"
   ]
  },
  {
   "cell_type": "markdown",
   "metadata": {},
   "source": [
    "Using the `comet_api` instance, you can get the name of your workspaces:"
   ]
  },
  {
   "cell_type": "code",
   "execution_count": 3,
   "metadata": {},
   "outputs": [
    {
     "data": {
      "text/plain": [
       "['collaboration', 'conx', 'team-comet-ml', 'ceceshao1', 'dsblank']"
      ]
     },
     "execution_count": 3,
     "metadata": {},
     "output_type": "execute_result"
    }
   ],
   "source": [
    "comet_api.get()"
   ]
  },
  {
   "cell_type": "markdown",
   "metadata": {},
   "source": [
    "If you reference your workspace by name using comet_api.get(WORKSPACE_NAME), you'll see your projects:"
   ]
  },
  {
   "cell_type": "code",
   "execution_count": 4,
   "metadata": {},
   "outputs": [
    {
     "name": "stdout",
     "output_type": "stream",
     "text": [
      "['optimizer-11', 'pytorch', 'comet-examples', 'mnist-001', 'xor', 'java-sdk', 'test-007', 'visualizations', 'xor3', 'opt-prod-iii', 'mnist-002', 'dscout', 'strata', 'optimizer-12', 'xor2', 'test-epochs', 'test-experiment', 'odcs-east-2019', 'histograms', 'optimizer-1-0-0', 'multi-process', 'conx', 'prj-name', 'predictor-00', 'optimizer-3', 'optimizer-5', 'optimizer-2-1', 'optimizer-12', 'ludwig', 'pypy', 'tensorflow', 'optimizer-2', 'odsc-east', 'comet-notebooks', 'optimizer-1', 'optimizer-4', 'odsc-east-2019', 'temp', 'pycon2019', 'keras-optimizer-example', 'chainer', 'mnist-014', 'notebook-test', 'optimizer', 'multi-process', 'interactive-figures', 'general', 'predictive-learning-curve', 'jupyter-experiments', 'google-ml', 'matplotlib', 'keras', 'fastai', 'test']\n"
     ]
    }
   ],
   "source": [
    "print(comet_api.get(\"dsblank\"))"
   ]
  },
  {
   "cell_type": "markdown",
   "metadata": {},
   "source": [
    "Or, get the projects from another user or shared workspace:"
   ]
  },
  {
   "cell_type": "code",
   "execution_count": 5,
   "metadata": {},
   "outputs": [
    {
     "data": {
      "text/plain": [
       "['ludwig',\n",
       " 'comet-sagemaker',\n",
       " 'fasttext',\n",
       " 'comet-notebooks',\n",
       " 'parameter-space-exploration',\n",
       " 'home-credit']"
      ]
     },
     "execution_count": 5,
     "metadata": {},
     "output_type": "execute_result"
    }
   ],
   "source": [
    "comet_api.get(\"cometpublic\")"
   ]
  },
  {
   "cell_type": "markdown",
   "metadata": {},
   "source": [
    "Using the same method, you can refer to a project by name:"
   ]
  },
  {
   "cell_type": "code",
   "execution_count": 6,
   "metadata": {},
   "outputs": [
    {
     "data": {
      "text/plain": [
       "[<APIExperiment 'dsblank/keras/5dc346a883964bd2b8864c40940fd864'>,\n",
       " <APIExperiment 'dsblank/keras/351afa6e498f452ca743c19d3e131767'>,\n",
       " <APIExperiment 'dsblank/keras/72b89ab961cd42db91535026687f86fb'>,\n",
       " <APIExperiment 'dsblank/keras/d5d3cf989efd4b5f8841bd64fee5f817'>,\n",
       " <APIExperiment 'dsblank/keras/12ab8382de254a9bb678bf3d6131e255'>,\n",
       " <APIExperiment 'dsblank/keras/51cf6e588a3346cdb560fd0c09d49610'>]"
      ]
     },
     "execution_count": 6,
     "metadata": {},
     "output_type": "execute_result"
    }
   ],
   "source": [
    "comet_api.get(\"dsblank\", \"keras\")"
   ]
  },
  {
   "cell_type": "markdown",
   "metadata": {},
   "source": [
    "Or, using the slash delimiter:"
   ]
  },
  {
   "cell_type": "code",
   "execution_count": 7,
   "metadata": {},
   "outputs": [
    {
     "data": {
      "text/plain": [
       "[<APIExperiment 'dsblank/keras/5dc346a883964bd2b8864c40940fd864'>,\n",
       " <APIExperiment 'dsblank/keras/351afa6e498f452ca743c19d3e131767'>,\n",
       " <APIExperiment 'dsblank/keras/72b89ab961cd42db91535026687f86fb'>,\n",
       " <APIExperiment 'dsblank/keras/d5d3cf989efd4b5f8841bd64fee5f817'>,\n",
       " <APIExperiment 'dsblank/keras/12ab8382de254a9bb678bf3d6131e255'>,\n",
       " <APIExperiment 'dsblank/keras/51cf6e588a3346cdb560fd0c09d49610'>]"
      ]
     },
     "execution_count": 7,
     "metadata": {},
     "output_type": "execute_result"
    }
   ],
   "source": [
    "comet_api.get(\"dsblank/keras\")"
   ]
  },
  {
   "cell_type": "markdown",
   "metadata": {},
   "source": [
    "And one more level, get an `APIExperiment` object:"
   ]
  },
  {
   "cell_type": "code",
   "execution_count": 8,
   "metadata": {},
   "outputs": [
    {
     "data": {
      "text/plain": [
       "<APIExperiment 'dsblank/keras/5dc346a883964bd2b8864c40940fd864'>"
      ]
     },
     "execution_count": 8,
     "metadata": {},
     "output_type": "execute_result"
    }
   ],
   "source": [
    "comet_api.get(\"dsblank\", \"keras\", '5dc346a883964bd2b8864c40940fd864')"
   ]
  },
  {
   "cell_type": "markdown",
   "metadata": {},
   "source": [
    "Or, again using the slash shorthand:"
   ]
  },
  {
   "cell_type": "code",
   "execution_count": 9,
   "metadata": {},
   "outputs": [
    {
     "data": {
      "text/plain": [
       "<APIExperiment 'dsblank/keras/5dc346a883964bd2b8864c40940fd864'>"
      ]
     },
     "execution_count": 9,
     "metadata": {},
     "output_type": "execute_result"
    }
   ],
   "source": [
    "comet_api.get(\"dsblank/keras/5dc346a883964bd2b8864c40940fd864\")"
   ]
  },
  {
   "cell_type": "markdown",
   "metadata": {},
   "source": [
    "Let's get an experiment and save it to a variable named `exp`:"
   ]
  },
  {
   "cell_type": "code",
   "execution_count": 10,
   "metadata": {},
   "outputs": [],
   "source": [
    "exp = comet_api.get(\"dsblank/keras/51cf6e588a3346cdb560fd0c09d49610\")"
   ]
  },
  {
   "cell_type": "code",
   "execution_count": 11,
   "metadata": {},
   "outputs": [
    {
     "data": {
      "text/plain": [
       "<APIExperiment 'dsblank/keras/51cf6e588a3346cdb560fd0c09d49610'>"
      ]
     },
     "execution_count": 11,
     "metadata": {},
     "output_type": "execute_result"
    }
   ],
   "source": [
    "exp"
   ]
  },
  {
   "cell_type": "markdown",
   "metadata": {},
   "source": [
    "There are a number of items you get from the APIExperiment instance:"
   ]
  },
  {
   "cell_type": "code",
   "execution_count": 12,
   "metadata": {},
   "outputs": [
    {
     "name": "stdout",
     "output_type": "stream",
     "text": [
      "Help on APIExperiment in module comet_ml.papi object:\n",
      "\n",
      "class APIExperiment(builtins.object)\n",
      " |  The APIExperiment class is used to access data from the\n",
      " |  Comet.ml Python API.\n",
      " |  \n",
      " |  You can use an instance of the APIExperiment() class to easily\n",
      " |  access all of your logged experiment information\n",
      " |  at [Comet.ml](https://www.comet.ml), including metrics, parameters,\n",
      " |  images, tags, and assets.\n",
      " |  \n",
      " |  ```python\n",
      " |  >>> from comet_ml.papi import API\n",
      " |  >>>> comet_api = API()\n",
      " |  \n",
      " |  ## Get an APIExperiment:\n",
      " |  >>>  experiment = comet_api.get(\"cometpublic/comet-notebooks/example 001\")\n",
      " |  \n",
      " |  ## Get metrics:\n",
      " |  >>> experiment.get_metrics(\"train_accuracy\")\n",
      " |  ```\n",
      " |  \n",
      " |  For more usage examples, see [Comet Python API examples](../python-api/).\n",
      " |  \n",
      " |  Methods defined here:\n",
      " |  \n",
      " |  __init__(self, api, workspace, project, experiment_key, project_id)\n",
      " |      Python API Experiment interface.\n",
      " |  \n",
      " |  __repr__(self)\n",
      " |      Return repr(self).\n",
      " |  \n",
      " |  add_tags(self, tags)\n",
      " |      Append onto an experiment's list of tags.\n",
      " |  \n",
      " |  as_json(self)\n",
      " |      The experiment data in JSON-like format.\n",
      " |  \n",
      " |  display(self, clear=False, wait=True, new=0, autoraise=True)\n",
      " |      Show the Comet.ml experiment page in an IFrame in a\n",
      " |      Jupyter notebook or Jupyter lab, OR open a browser\n",
      " |      window or tab.\n",
      " |      \n",
      " |      For Jupyter environments:\n",
      " |      \n",
      " |      Args:\n",
      " |          clear: to clear the output area, use clear=True\n",
      " |          wait: to wait for the next displayed item, use\n",
      " |                wait=True (cuts down on flashing)\n",
      " |      \n",
      " |      For non-Jupyter environments:\n",
      " |      \n",
      " |      Args:\n",
      " |          new: open a new browser window if new=1, otherwise re-use\n",
      " |               existing window/tab\n",
      " |          autoraise: make the browser tab/window active\n",
      " |  \n",
      " |  get_asset(self, asset_id, return_type='binary')\n",
      " |      Get an asset, given the asset_id.\n",
      " |      \n",
      " |      Arguments:\n",
      " |          asset_id: the asset ID\n",
      " |          return_type: the type of object returned. Default is\n",
      " |              \"binary\". Options: \"binary\" or \"text\"\n",
      " |  \n",
      " |  get_asset_list(self)\n",
      " |      Get a list of assets associated with the experiment.\n",
      " |  \n",
      " |  get_code(self)\n",
      " |      Get the associated source code for this experiment.\n",
      " |  \n",
      " |  get_git_metadata(self)\n",
      " |      Get the git-metadata associated with this experiment.\n",
      " |  \n",
      " |  get_git_patch(self)\n",
      " |      Get the git-patch associated with this experiment.\n",
      " |  \n",
      " |  get_graph(self)\n",
      " |      Get the associated graph/model description for this\n",
      " |      experiment.\n",
      " |  \n",
      " |  get_html(self)\n",
      " |      Get the HTML associated with this experiment.\n",
      " |  \n",
      " |  get_images(self)\n",
      " |      Get the associated image data for this experiment.\n",
      " |      \n",
      " |      The image data comes as a dictionary with the following\n",
      " |      keys:\n",
      " |      \n",
      " |          apiKey\n",
      " |          runId\n",
      " |          experimentKey\n",
      " |          projectId\n",
      " |          figCounter\n",
      " |          figName\n",
      " |          step\n",
      " |          runContext\n",
      " |          fileName\n",
      " |          imagePath\n",
      " |  \n",
      " |  get_installed_packages(self)\n",
      " |      Get the associated installed packages for this experiment.\n",
      " |  \n",
      " |  get_metrics(self, metric=None, interval='step')\n",
      " |      Get all of the logged metrics. Optionally, just get the given metric name\n",
      " |      with given interval.\n",
      " |      \n",
      " |      Args:\n",
      " |          metric: Optional. String. If given, filter the metrics by name, and\n",
      " |              return in [(interval, metric), ...] format\n",
      " |          interval: Optional. String. Valid values are: \"step\", \"timestamp\", \n",
      " |              \"epoch\", and \"offset\".\n",
      " |      \n",
      " |      Examples:\n",
      " |      \n",
      " |      ```\n",
      " |      >>> exp.get_metrics()\n",
      " |      \n",
      " |      >>> exp.get_metrics(\"acc\")\n",
      " |      \n",
      " |      >>> exp.get_metrics(\"acc\", \"timestamp\")\n",
      " |      ```\n",
      " |  \n",
      " |  get_metrics_summary(self, metric=None)\n",
      " |      Return the experiment metrics summary.  Optionally, also if you\n",
      " |      provide the metric name, the function will only return the\n",
      " |      summary of the metric.\n",
      " |      \n",
      " |      Examples:\n",
      " |      ```\n",
      " |          >>> from comet_ml import API\n",
      " |          >>> comet_api = API()\n",
      " |          >>> comet_api.get_metrics_summary(\"accuracy\")\n",
      " |          [0.0, 0.1, 0.5, ...]\n",
      " |          >>> comet_api.get_metrics_summary(\"loss\")\n",
      " |          [1.3, 1.2, 0.9, 0.6, ...]\n",
      " |          >>> comet_api.get_metrics_summary()\n",
      " |          [{\"name\": \"accuracy\", ...}, {\"name\": \"loss\", ...}]\n",
      " |      ```\n",
      " |  \n",
      " |  get_name(self)\n",
      " |      The name of the experiment. If None, then it has never been looked up.\n",
      " |  \n",
      " |  get_os_packages(self)\n",
      " |      Get the associated installed packages for this experiment.\n",
      " |  \n",
      " |  get_others_summary(self, other=None, value=None)\n",
      " |      Get the other items logged in summary form.\n",
      " |  \n",
      " |  get_parameters_summary(self, parameter=None)\n",
      " |      Return the experiment parameters summary.  Optionally, also if you\n",
      " |      provide a parameter name, the method will only return the\n",
      " |      summary of the given parameter.\n",
      " |      \n",
      " |      Examples:\n",
      " |      ```\n",
      " |      >>> from comet_ml.papi import API\n",
      " |      >>> comet_api = API()\n",
      " |      >>> comet_api.get(\"myworkspace/project1\").get_parameters_summary()[0][\"valueCurrent\"]\n",
      " |      0.1\n",
      " |      >>> [[(exp, \"hidden_size\", int(param[\"valueCurrent\"]))\n",
      " |      ...   for param in exp.get_parameters_summary()\n",
      " |      ...   if param[\"name\"] == \"hidden_size\"][0]\n",
      " |      ...  for exp in comet_api.get_experiments(\"dsblank/pytorch/.*\")]\n",
      " |      [(<APIExperiment>, 'hidden_size', 128),\n",
      " |       (<APIExperiment>, 'hidden_size', 64)]\n",
      " |      >>> comet_api.get(\"myworkspace/myproject\").parameters\n",
      " |      [{\"name\": \"learning_rate\", ...}, {\"name\": \"hidden_layer_size\", ...}]\n",
      " |      ```\n",
      " |  \n",
      " |  get_stdout(self)\n",
      " |      Get the associated standard output for this experiment.\n",
      " |  \n",
      " |  get_system_details(self)\n",
      " |  \n",
      " |  get_tags(self)\n",
      " |      Get the associated tags for this experiment.\n",
      " |  \n",
      " |  log_asset(self, filename, step=None, overwrite=None, context=None)\n",
      " |      Upload an asset to an experiment.\n",
      " |  \n",
      " |  log_html(self, html, overwrite=False)\n",
      " |      Set, or append onto, an experiment's HTML.\n",
      " |  \n",
      " |  log_image(self, filename, image_name=None, step=None, overwrite=None, context=None)\n",
      " |      Upload an image asset to an experiment.\n",
      " |  \n",
      " |  log_metric(self, metric, value, step=None)\n",
      " |      Set a metric name/value pair for an experiment.\n",
      " |  \n",
      " |  log_other(self, key, value)\n",
      " |      Set an other key/value pair for an experiment.\n",
      " |  \n",
      " |  log_parameter(self, parameter, value, step=None)\n",
      " |      Set a parameter name/value pair for an experiment.\n",
      " |  \n",
      " |  log_start_end(self, start, end)\n",
      " |      Set an experiment start/end time in miliseconds.\n",
      " |  \n",
      " |  ----------------------------------------------------------------------\n",
      " |  Data descriptors defined here:\n",
      " |  \n",
      " |  __dict__\n",
      " |      dictionary for instance variables (if defined)\n",
      " |  \n",
      " |  __weakref__\n",
      " |      list of weak references to the object (if defined)\n",
      "\n"
     ]
    }
   ],
   "source": [
    "help(exp)"
   ]
  },
  {
   "cell_type": "markdown",
   "metadata": {},
   "source": [
    "For example, we can explore the `other` property, which shows items saved with Experiment.log_other(NAME, VALUE):"
   ]
  },
  {
   "cell_type": "code",
   "execution_count": 13,
   "metadata": {},
   "outputs": [
    {
     "data": {
      "text/plain": [
       "[{'name': 'Name',\n",
       "  'valueMax': 'example 001',\n",
       "  'valueMin': 'example 001',\n",
       "  'valueCurrent': 'example 001',\n",
       "  'timestampMax': 1544452402114,\n",
       "  'timestampMin': 1544452402114,\n",
       "  'timestampCurrent': 1544452402114},\n",
       " {'name': 'trainable_params',\n",
       "  'valueMax': '134794',\n",
       "  'valueMin': '134794',\n",
       "  'valueCurrent': '134794',\n",
       "  'timestampMax': 1542738532810,\n",
       "  'timestampMin': 1542738532810,\n",
       "  'timestampCurrent': 1542738532810}]"
      ]
     },
     "execution_count": 13,
     "metadata": {},
     "output_type": "execute_result"
    }
   ],
   "source": [
    "exp.get_others_summary()"
   ]
  },
  {
   "cell_type": "markdown",
   "metadata": {},
   "source": [
    "In this example, we see that the experiment has the `Name` \"example 001\". We can use `Name` to also look up experiments:"
   ]
  },
  {
   "cell_type": "code",
   "execution_count": 14,
   "metadata": {},
   "outputs": [
    {
     "data": {
      "text/plain": [
       "('51cf6e588a3346cdb560fd0c09d49610', 'example 001')"
      ]
     },
     "execution_count": 14,
     "metadata": {},
     "output_type": "execute_result"
    }
   ],
   "source": [
    "exp = comet_api.get(\"dsblank/keras/example 001\")\n",
    "exp.id, exp.name"
   ]
  },
  {
   "cell_type": "markdown",
   "metadata": {},
   "source": [
    "Perhaps one of the most useful abilities for the Python API is to access your experiment's data in order to create a variation of a plot. To access the raw metric data, use the `.get_metrics()` method of the APIExperiment:"
   ]
  },
  {
   "cell_type": "code",
   "execution_count": 73,
   "metadata": {},
   "outputs": [
    {
     "data": {
      "text/plain": [
       "1127"
      ]
     },
     "execution_count": 73,
     "metadata": {},
     "output_type": "execute_result"
    }
   ],
   "source": [
    "len(exp.get_metrics())"
   ]
  },
  {
   "cell_type": "markdown",
   "metadata": {},
   "source": [
    "We see here were over 2000 metrics logged during the training of this experiment. We can get the first using indexing with an integer:"
   ]
  },
  {
   "cell_type": "code",
   "execution_count": 16,
   "metadata": {},
   "outputs": [
    {
     "data": {
      "text/plain": [
       "{'metricName': 'acc',\n",
       " 'metricValue': '0.09166666865348816',\n",
       " 'timestamp': 1542738532966,\n",
       " 'step': 1,\n",
       " 'epoch': None,\n",
       " 'runContext': None,\n",
       " 'offset': 21}"
      ]
     },
     "execution_count": 16,
     "metadata": {},
     "output_type": "execute_result"
    }
   ],
   "source": [
    "exp.get_metrics()[0]"
   ]
  },
  {
   "cell_type": "markdown",
   "metadata": {},
   "source": [
    "That shows that the \"acc\" (accuracy) metric had a value of about 0.09 at step 1 of the experiment.\n",
    "\n",
    "We can also use a string as an index to query all of the dictionaries in `metrics_raw` to only give those values at each step, like so:"
   ]
  },
  {
   "cell_type": "code",
   "execution_count": 17,
   "metadata": {},
   "outputs": [],
   "source": [
    "acc_metrics = exp.get_metrics(\"acc\")"
   ]
  },
  {
   "cell_type": "code",
   "execution_count": 18,
   "metadata": {},
   "outputs": [
    {
     "data": {
      "text/plain": [
       "510"
      ]
     },
     "execution_count": 18,
     "metadata": {},
     "output_type": "execute_result"
    }
   ],
   "source": [
    "len(acc_metrics)"
   ]
  },
  {
   "cell_type": "code",
   "execution_count": 19,
   "metadata": {},
   "outputs": [
    {
     "data": {
      "text/plain": [
       "(1, 0.09166666865348816)"
      ]
     },
     "execution_count": 19,
     "metadata": {},
     "output_type": "execute_result"
    }
   ],
   "source": [
    "acc_metrics[0]"
   ]
  },
  {
   "cell_type": "markdown",
   "metadata": {},
   "source": [
    "Therefore, `exp.get_metrics(\"acc\")` gives us (step, value) for all \"acc\" items. We can then easily use Python's built in zip and matplotlib to plot these values:"
   ]
  },
  {
   "cell_type": "code",
   "execution_count": 20,
   "metadata": {},
   "outputs": [],
   "source": [
    "steps, acc = zip(*acc_metrics)"
   ]
  },
  {
   "cell_type": "code",
   "execution_count": 21,
   "metadata": {},
   "outputs": [
    {
     "data": {
      "image/png": "[encoded data removed]",
      "text/plain": [
       "<Figure size 432x288 with 1 Axes>"
      ]
     },
     "metadata": {
      "needs_background": "light"
     },
     "output_type": "display_data"
    }
   ],
   "source": [
    "plt.plot(steps, acc);"
   ]
  },
  {
   "cell_type": "markdown",
   "metadata": {},
   "source": [
    "That's it for a quick overview. Now let's look in detail at each component."
   ]
  },
  {
   "cell_type": "markdown",
   "metadata": {},
   "source": [
    "## Workspaces\n",
    "\n",
    "`comet_api.get()` reports your workspace names:"
   ]
  },
  {
   "cell_type": "code",
   "execution_count": 43,
   "metadata": {},
   "outputs": [
    {
     "data": {
      "text/plain": [
       "['collaboration', 'conx', 'team-comet-ml', 'ceceshao1', 'dsblank']"
      ]
     },
     "execution_count": 43,
     "metadata": {},
     "output_type": "execute_result"
    }
   ],
   "source": [
    "comet_api.get()"
   ]
  },
  {
   "cell_type": "markdown",
   "metadata": {},
   "source": [
    "You can also interate over those names:"
   ]
  },
  {
   "cell_type": "code",
   "execution_count": 44,
   "metadata": {},
   "outputs": [
    {
     "name": "stdout",
     "output_type": "stream",
     "text": [
      "collaboration\n",
      "conx\n",
      "team-comet-ml\n",
      "ceceshao1\n",
      "dsblank\n"
     ]
    }
   ],
   "source": [
    "for workspace in comet_api.get():\n",
    "    print(workspace)"
   ]
  },
  {
   "cell_type": "markdown",
   "metadata": {},
   "source": [
    "As we saw above, you can also access other public workspaces as well:"
   ]
  },
  {
   "cell_type": "code",
   "execution_count": 45,
   "metadata": {},
   "outputs": [
    {
     "data": {
      "text/plain": [
       "['ludwig',\n",
       " 'comet-sagemaker',\n",
       " 'fasttext',\n",
       " 'comet-notebooks',\n",
       " 'parameter-space-exploration',\n",
       " 'home-credit']"
      ]
     },
     "execution_count": 45,
     "metadata": {},
     "output_type": "execute_result"
    }
   ],
   "source": [
    "comet_api.get(\"cometpublic\")"
   ]
  },
  {
   "cell_type": "markdown",
   "metadata": {},
   "source": [
    "## Projects\n",
    "\n",
    "Under get(WORKSPACE_NAME), you'll find the projects:"
   ]
  },
  {
   "cell_type": "code",
   "execution_count": 46,
   "metadata": {},
   "outputs": [
    {
     "data": {
      "text/plain": [
       "['ludwig',\n",
       " 'comet-sagemaker',\n",
       " 'fasttext',\n",
       " 'comet-notebooks',\n",
       " 'parameter-space-exploration',\n",
       " 'home-credit']"
      ]
     },
     "execution_count": 46,
     "metadata": {},
     "output_type": "execute_result"
    }
   ],
   "source": [
    "comet_api.get(\"cometpublic\")"
   ]
  },
  {
   "cell_type": "code",
   "execution_count": 47,
   "metadata": {},
   "outputs": [],
   "source": [
    "project = comet_api.get(\"cometpublic\", \"comet-notebooks\")\n",
    "## OR:\n",
    "#project = comet_api.get(\"cometpublic/comet-notebooks\")"
   ]
  },
  {
   "cell_type": "markdown",
   "metadata": {},
   "source": [
    "If you just print out, or iterate over a project, you get access to the experiments:"
   ]
  },
  {
   "cell_type": "code",
   "execution_count": 48,
   "metadata": {},
   "outputs": [
    {
     "data": {
      "text/plain": [
       "[<APIExperiment 'cometpublic/comet-notebooks/7092a5e4c362453fb0b3f06785a1d30c'>,\n",
       " <APIExperiment 'cometpublic/comet-notebooks/d21f94a1c71841d2961da1e6ddb5ab20'>]"
      ]
     },
     "execution_count": 48,
     "metadata": {},
     "output_type": "execute_result"
    }
   ],
   "source": [
    "project"
   ]
  },
  {
   "cell_type": "code",
   "execution_count": 51,
   "metadata": {},
   "outputs": [
    {
     "data": {
      "text/plain": [
       "('7092a5e4c362453fb0b3f06785a1d30c', '')"
      ]
     },
     "execution_count": 51,
     "metadata": {},
     "output_type": "execute_result"
    }
   ],
   "source": [
    "project[0].id, project[0].get_name()"
   ]
  },
  {
   "cell_type": "code",
   "execution_count": 52,
   "metadata": {},
   "outputs": [
    {
     "data": {
      "text/plain": [
       "('d21f94a1c71841d2961da1e6ddb5ab20', 'example 001')"
      ]
     },
     "execution_count": 52,
     "metadata": {},
     "output_type": "execute_result"
    }
   ],
   "source": [
    "project[1].id, project[1].get_name()"
   ]
  },
  {
   "cell_type": "markdown",
   "metadata": {},
   "source": [
    "## Experiments\n",
    "\n",
    "Continuing with the dictionary-like access, you can see and iterate over the experiment ids:"
   ]
  },
  {
   "cell_type": "code",
   "execution_count": 53,
   "metadata": {},
   "outputs": [
    {
     "data": {
      "text/plain": [
       "[<APIExperiment 'cometpublic/comet-notebooks/7092a5e4c362453fb0b3f06785a1d30c'>,\n",
       " <APIExperiment 'cometpublic/comet-notebooks/d21f94a1c71841d2961da1e6ddb5ab20'>]"
      ]
     },
     "execution_count": 53,
     "metadata": {},
     "output_type": "execute_result"
    }
   ],
   "source": [
    "comet_api.get(\"cometpublic\", \"comet-notebooks\")"
   ]
  },
  {
   "cell_type": "code",
   "execution_count": 54,
   "metadata": {},
   "outputs": [
    {
     "data": {
      "text/plain": [
       "<APIExperiment 'cometpublic/comet-notebooks/d21f94a1c71841d2961da1e6ddb5ab20'>"
      ]
     },
     "execution_count": 54,
     "metadata": {},
     "output_type": "execute_result"
    }
   ],
   "source": [
    "exp = comet_api.get(\"cometpublic\", \"comet-notebooks\", 'd21f94a1c71841d2961da1e6ddb5ab20')\n",
    "## OR\n",
    "# exp = comet_api.get(\"cometpublic/comet-notebooks/d21f94a1c71841d2961da1e6ddb5ab20\")\n",
    "exp"
   ]
  },
  {
   "cell_type": "code",
   "execution_count": 55,
   "metadata": {},
   "outputs": [
    {
     "data": {
      "text/plain": [
       "<APIExperiment 'cometpublic/comet-notebooks/example 001'>"
      ]
     },
     "execution_count": 55,
     "metadata": {},
     "output_type": "execute_result"
    }
   ],
   "source": [
    "exp = comet_api.get(\"cometpublic\", \"comet-notebooks\", 'example 001')\n",
    "## OR\n",
    "## exp = comet_api.get(\"cometpublic/comet-notebooks/example 001\")\n",
    "exp"
   ]
  },
  {
   "cell_type": "markdown",
   "metadata": {},
   "source": [
    "### Regular Expression Experiment Name Matching\n",
    "\n",
    "You can also use regular expressions as the name for the experiment:"
   ]
  },
  {
   "cell_type": "code",
   "execution_count": 56,
   "metadata": {},
   "outputs": [
    {
     "data": {
      "text/plain": [
       "[<APIExperiment 'cometpublic/comet-notebooks/example 001'>]"
      ]
     },
     "execution_count": 56,
     "metadata": {},
     "output_type": "execute_result"
    }
   ],
   "source": [
    "comet_api.get_experiments(\"cometpublic\", \"comet-notebooks\", \"example.*\")"
   ]
  },
  {
   "cell_type": "markdown",
   "metadata": {},
   "source": [
    "### Experiment Properties"
   ]
  },
  {
   "cell_type": "markdown",
   "metadata": {},
   "source": [
    "In this brief dictionary representation, you will see that `get_others_summary()`, `get_metrics_summary()` and `get_parameters_summary()` give summary data for each item:"
   ]
  },
  {
   "cell_type": "code",
   "execution_count": 57,
   "metadata": {},
   "outputs": [
    {
     "data": {
      "text/plain": [
       "[{'name': 'f',\n",
       "  'valueMax': '/run/user/1000/jupyter/kernel-b1c4403c-c673-4e7f-90dc-853616d231e2.json',\n",
       "  'valueMin': '/run/user/1000/jupyter/kernel-b1c4403c-c673-4e7f-90dc-853616d231e2.json',\n",
       "  'valueCurrent': '/run/user/1000/jupyter/kernel-b1c4403c-c673-4e7f-90dc-853616d231e2.json',\n",
       "  'timestampMax': 1542823692798,\n",
       "  'timestampMin': 1542823692798,\n",
       "  'timestampCurrent': 1542823692798}]"
      ]
     },
     "execution_count": 57,
     "metadata": {},
     "output_type": "execute_result"
    }
   ],
   "source": [
    "exp.get_parameters_summary()"
   ]
  },
  {
   "cell_type": "code",
   "execution_count": 58,
   "metadata": {},
   "outputs": [
    {
     "data": {
      "text/plain": [
       "('Name', 'example 001')"
      ]
     },
     "execution_count": 58,
     "metadata": {},
     "output_type": "execute_result"
    }
   ],
   "source": [
    "exp.get_others_summary()[0][\"name\"], exp.get_others_summary()[0][\"valueCurrent\"]"
   ]
  },
  {
   "cell_type": "code",
   "execution_count": 59,
   "metadata": {},
   "outputs": [
    {
     "data": {
      "text/plain": [
       "[{'name': 'train_loss',\n",
       "  'valueMax': '2.3872790336608887',\n",
       "  'valueMin': '2.3872790336608887',\n",
       "  'valueCurrent': '2.3872790336608887',\n",
       "  'timestampMax': 1542823695820,\n",
       "  'timestampMin': 1542823695820,\n",
       "  'timestampCurrent': 1542823695820,\n",
       "  'runContextMax': 'train',\n",
       "  'runContextMin': 'train',\n",
       "  'runContextCurrent': 'train',\n",
       "  'stepMax': 0,\n",
       "  'stepMin': 0,\n",
       "  'stepCurrent': 0}]"
      ]
     },
     "execution_count": 59,
     "metadata": {},
     "output_type": "execute_result"
    }
   ],
   "source": [
    "exp.get_metrics_summary(\"train_loss\")"
   ]
  },
  {
   "cell_type": "markdown",
   "metadata": {},
   "source": [
    "You can see all of the methods and propeties on an experiment instance:"
   ]
  },
  {
   "cell_type": "code",
   "execution_count": 37,
   "metadata": {},
   "outputs": [
    {
     "name": "stdout",
     "output_type": "stream",
     "text": [
      "Help on APIExperiment in module comet_ml.papi object:\n",
      "\n",
      "class APIExperiment(builtins.object)\n",
      " |  The APIExperiment class is used to access data from the\n",
      " |  Comet.ml Python API.\n",
      " |  \n",
      " |  You can use an instance of the APIExperiment() class to easily\n",
      " |  access all of your logged experiment information\n",
      " |  at [Comet.ml](https://www.comet.ml), including metrics, parameters,\n",
      " |  images, tags, and assets.\n",
      " |  \n",
      " |  ```python\n",
      " |  >>> from comet_ml.papi import API\n",
      " |  >>>> comet_api = API()\n",
      " |  \n",
      " |  ## Get an APIExperiment:\n",
      " |  >>>  experiment = comet_api.get(\"cometpublic/comet-notebooks/example 001\")\n",
      " |  \n",
      " |  ## Get metrics:\n",
      " |  >>> experiment.get_metrics(\"train_accuracy\")\n",
      " |  ```\n",
      " |  \n",
      " |  For more usage examples, see [Comet Python API examples](../python-api/).\n",
      " |  \n",
      " |  Methods defined here:\n",
      " |  \n",
      " |  __init__(self, api, workspace, project, experiment_key, project_id)\n",
      " |      Python API Experiment interface.\n",
      " |  \n",
      " |  __repr__(self)\n",
      " |      Return repr(self).\n",
      " |  \n",
      " |  add_tags(self, tags)\n",
      " |      Append onto an experiment's list of tags.\n",
      " |  \n",
      " |  as_json(self)\n",
      " |      The experiment data in JSON-like format.\n",
      " |  \n",
      " |  display(self, clear=False, wait=True, new=0, autoraise=True)\n",
      " |      Show the Comet.ml experiment page in an IFrame in a\n",
      " |      Jupyter notebook or Jupyter lab, OR open a browser\n",
      " |      window or tab.\n",
      " |      \n",
      " |      For Jupyter environments:\n",
      " |      \n",
      " |      Args:\n",
      " |          clear: to clear the output area, use clear=True\n",
      " |          wait: to wait for the next displayed item, use\n",
      " |                wait=True (cuts down on flashing)\n",
      " |      \n",
      " |      For non-Jupyter environments:\n",
      " |      \n",
      " |      Args:\n",
      " |          new: open a new browser window if new=1, otherwise re-use\n",
      " |               existing window/tab\n",
      " |          autoraise: make the browser tab/window active\n",
      " |  \n",
      " |  get_asset(self, asset_id, return_type='binary')\n",
      " |      Get an asset, given the asset_id.\n",
      " |      \n",
      " |      Arguments:\n",
      " |          asset_id: the asset ID\n",
      " |          return_type: the type of object returned. Default is\n",
      " |              \"binary\". Options: \"binary\" or \"text\"\n",
      " |  \n",
      " |  get_asset_list(self)\n",
      " |      Get a list of assets associated with the experiment.\n",
      " |  \n",
      " |  get_code(self)\n",
      " |      Get the associated source code for this experiment.\n",
      " |  \n",
      " |  get_git_metadata(self)\n",
      " |      Get the git-metadata associated with this experiment.\n",
      " |  \n",
      " |  get_git_patch(self)\n",
      " |      Get the git-patch associated with this experiment.\n",
      " |  \n",
      " |  get_graph(self)\n",
      " |      Get the associated graph/model description for this\n",
      " |      experiment.\n",
      " |  \n",
      " |  get_html(self)\n",
      " |      Get the HTML associated with this experiment.\n",
      " |  \n",
      " |  get_images(self)\n",
      " |      Get the associated image data for this experiment.\n",
      " |      \n",
      " |      The image data comes as a dictionary with the following\n",
      " |      keys:\n",
      " |      \n",
      " |          apiKey\n",
      " |          runId\n",
      " |          experimentKey\n",
      " |          projectId\n",
      " |          figCounter\n",
      " |          figName\n",
      " |          step\n",
      " |          runContext\n",
      " |          fileName\n",
      " |          imagePath\n",
      " |  \n",
      " |  get_installed_packages(self)\n",
      " |      Get the associated installed packages for this experiment.\n",
      " |  \n",
      " |  get_metrics(self, metric=None, interval='step')\n",
      " |      Get all of the logged metrics. Optionally, just get the given metric name\n",
      " |      with given interval.\n",
      " |      \n",
      " |      Args:\n",
      " |          metric: Optional. String. If given, filter the metrics by name, and\n",
      " |              return in [(interval, metric), ...] format\n",
      " |          interval: Optional. String. Valid values are: \"step\", \"timestamp\", \n",
      " |              \"epoch\", and \"offset\".\n",
      " |      \n",
      " |      Examples:\n",
      " |      \n",
      " |      ```\n",
      " |      >>> exp.get_metrics()\n",
      " |      \n",
      " |      >>> exp.get_metrics(\"acc\")\n",
      " |      \n",
      " |      >>> exp.get_metrics(\"acc\", \"timestamp\")\n",
      " |      ```\n",
      " |  \n",
      " |  get_metrics_summary(self, metric=None)\n",
      " |      Return the experiment metrics summary.  Optionally, also if you\n",
      " |      provide the metric name, the function will only return the\n",
      " |      summary of the metric.\n",
      " |      \n",
      " |      Examples:\n",
      " |      ```\n",
      " |          >>> from comet_ml import API\n",
      " |          >>> comet_api = API()\n",
      " |          >>> comet_api.get_metrics_summary(\"accuracy\")\n",
      " |          [0.0, 0.1, 0.5, ...]\n",
      " |          >>> comet_api.get_metrics_summary(\"loss\")\n",
      " |          [1.3, 1.2, 0.9, 0.6, ...]\n",
      " |          >>> comet_api.get_metrics_summary()\n",
      " |          [{\"name\": \"accuracy\", ...}, {\"name\": \"loss\", ...}]\n",
      " |      ```\n",
      " |  \n",
      " |  get_name(self)\n",
      " |      The name of the experiment. If None, then it has never been looked up.\n",
      " |  \n",
      " |  get_os_packages(self)\n",
      " |      Get the associated installed packages for this experiment.\n",
      " |  \n",
      " |  get_others_summary(self, other=None, value=None)\n",
      " |      Get the other items logged in summary form.\n",
      " |  \n",
      " |  get_parameters_summary(self, parameter=None)\n",
      " |      Return the experiment parameters summary.  Optionally, also if you\n",
      " |      provide a parameter name, the method will only return the\n",
      " |      summary of the given parameter.\n",
      " |      \n",
      " |      Examples:\n",
      " |      ```\n",
      " |      >>> from comet_ml.papi import API\n",
      " |      >>> comet_api = API()\n",
      " |      >>> comet_api.get(\"myworkspace/project1\").get_parameters_summary()[0][\"valueCurrent\"]\n",
      " |      0.1\n",
      " |      >>> [[(exp, \"hidden_size\", int(param[\"valueCurrent\"]))\n",
      " |      ...   for param in exp.get_parameters_summary()\n",
      " |      ...   if param[\"name\"] == \"hidden_size\"][0]\n",
      " |      ...  for exp in comet_api.get_experiments(\"dsblank/pytorch/.*\")]\n",
      " |      [(<APIExperiment>, 'hidden_size', 128),\n",
      " |       (<APIExperiment>, 'hidden_size', 64)]\n",
      " |      >>> comet_api.get(\"myworkspace/myproject\").parameters\n",
      " |      [{\"name\": \"learning_rate\", ...}, {\"name\": \"hidden_layer_size\", ...}]\n",
      " |      ```\n",
      " |  \n",
      " |  get_stdout(self)\n",
      " |      Get the associated standard output for this experiment.\n",
      " |  \n",
      " |  get_system_details(self)\n",
      " |  \n",
      " |  get_tags(self)\n",
      " |      Get the associated tags for this experiment.\n",
      " |  \n",
      " |  log_asset(self, filename, step=None, overwrite=None, context=None)\n",
      " |      Upload an asset to an experiment.\n",
      " |  \n",
      " |  log_html(self, html, overwrite=False)\n",
      " |      Set, or append onto, an experiment's HTML.\n",
      " |  \n",
      " |  log_image(self, filename, image_name=None, step=None, overwrite=None, context=None)\n",
      " |      Upload an image asset to an experiment.\n",
      " |  \n",
      " |  log_metric(self, metric, value, step=None)\n",
      " |      Set a metric name/value pair for an experiment.\n",
      " |  \n",
      " |  log_other(self, key, value)\n",
      " |      Set an other key/value pair for an experiment.\n",
      " |  \n",
      " |  log_parameter(self, parameter, value, step=None)\n",
      " |      Set a parameter name/value pair for an experiment.\n",
      " |  \n",
      " |  log_start_end(self, start, end)\n",
      " |      Set an experiment start/end time in miliseconds.\n",
      " |  \n",
      " |  ----------------------------------------------------------------------\n",
      " |  Data descriptors defined here:\n",
      " |  \n",
      " |  __dict__\n",
      " |      dictionary for instance variables (if defined)\n",
      " |  \n",
      " |  __weakref__\n",
      " |      list of weak references to the object (if defined)\n",
      "\n"
     ]
    }
   ],
   "source": [
    "help(exp)"
   ]
  },
  {
   "cell_type": "markdown",
   "metadata": {},
   "source": [
    "For example, just like when creating and logging data, you can also use the `.display()` method to show the Comet.ml page for that experiment right in the notebook:"
   ]
  },
  {
   "cell_type": "code",
   "execution_count": 38,
   "metadata": {},
   "outputs": [
    {
     "data": {
      "text/html": [
       "\n",
       "        <iframe\n",
       "            width=\"100%\"\n",
       "            height=\"800px\"\n",
       "            src=\"https://www.comet.ml/cometpublic/comet-notebooks/d21f94a1c71841d2961da1e6ddb5ab20\"\n",
       "            frameborder=\"0\"\n",
       "            allowfullscreen\n",
       "        ></iframe>\n",
       "        "
      ],
      "text/plain": [
       "<IPython.lib.display.IFrame at 0x7f802d7372b0>"
      ]
     },
     "metadata": {},
     "output_type": "display_data"
    }
   ],
   "source": [
    "exp.display()"
   ]
  },
  {
   "cell_type": "markdown",
   "metadata": {},
   "source": [
    "You can get an existing experiment:"
   ]
  },
  {
   "cell_type": "code",
   "execution_count": 39,
   "metadata": {},
   "outputs": [
    {
     "name": "stderr",
     "output_type": "stream",
     "text": [
      "COMET INFO: Experiment is live on comet.ml https://www.comet.ml/dsblank/chainer/596d91ae1dbc420c9b13a3ced858de3c\n",
      "\n"
     ]
    }
   ],
   "source": [
    "e = comet_api.get(\"dsblank\", \"chainer\", \"596d91ae1dbc420c9b13a3ced858de3c\")\n",
    "API_KEY = comet_ml.get_config()[\"comet.api_key\"]\n",
    "ee = comet_ml.ExistingExperiment(API_KEY, previous_experiment=e.id)"
   ]
  },
  {
   "cell_type": "markdown",
   "metadata": {},
   "source": [
    "You can make changes to the saved data using the existing experiment:\n",
    "\n",
    "https://www.comet.ml/docs/python-sdk/ExistingExperiment/"
   ]
  },
  {
   "cell_type": "code",
   "execution_count": 40,
   "metadata": {},
   "outputs": [
    {
     "name": "stderr",
     "output_type": "stream",
     "text": [
      "COMET INFO: ----------------------------\n",
      "COMET INFO: Comet.ml Experiment Summary:\n",
      "COMET INFO:   Data:\n",
      "COMET INFO:     url: https://www.comet.ml/dsblank/chainer/596d91ae1dbc420c9b13a3ced858de3c\n",
      "COMET INFO: ----------------------------\n",
      "COMET INFO: Uploading stats to Comet before program termination (may take several seconds)\n"
     ]
    }
   ],
   "source": [
    "ee.end()"
   ]
  },
  {
   "cell_type": "markdown",
   "metadata": {},
   "source": [
    "### Examples\n",
    "\n",
    "Comet.ml is working on a query API which will allow highly efficient queries of your data. However, you can also write your own query of sorts.\n",
    "\n",
    "Here is some code that prints out the names of experiments that have associated HTML (this can take a long time if you have many experiments):"
   ]
  },
  {
   "cell_type": "code",
   "execution_count": 41,
   "metadata": {
    "scrolled": false
   },
   "outputs": [
    {
     "name": "stdout",
     "output_type": "stream",
     "text": [
      "    processing project optimizer-11 ...\n",
      "        processing experiment d21f94a1c71841d2961da1e6ddb5ab20.....\n",
      "    processing project pytorch ...\n",
      "        processing experiment 26bce3d761984f3ab4cfea27950d58e1.........................................\n",
      "    processing project comet-examples ...\n",
      "        processing experiment 170b56d249f8487cbb1541d2b4ab79c3....\n",
      "    processing project mnist-001 ...\n",
      "        processing experiment c3b3a96f11894c26899e53e95a8f6759................................................................................\n",
      "    processing project xor ...\n",
      "        processing experiment ae1e88fa61554715afdb7805d676c9fc\n",
      "    processing project java-sdk ...\n",
      "        processing experiment ae1e88fa61554715afdb7805d676c9fc..............................................................................\n",
      "    processing project test-007 ...\n",
      "        processing experiment restcf42644ae90a43f4a60f9cff1b2bf6c8..........\n",
      "    processing project visualizations ...\n",
      "        processing experiment 0e0197b268604a4a8845e20246fb4fc0......................\n",
      "    processing project xor3 ...\n",
      "        processing experiment 3ec1076602054917b8782e147f167d33..\n",
      "    processing project opt-prod-iii ...\n",
      "        processing experiment eab72af32eae4c89a188fd80766428cd.................................................................................................\n",
      "    processing project mnist-002 ...\n",
      "        processing experiment 5edddb8f588f407d9f4dd13c14842409.....\n",
      "    processing project dscout ...\n",
      "        processing experiment b9a1b286c28d4428baa374e83a4e5e50.......\n",
      "    processing project strata ...\n",
      "        processing experiment 92c2f7821b624919b0fdf8d76a22e26f...........................................................................................................................................................\n",
      "    processing project optimizer-12 ...\n",
      "        processing experiment e87fda09e5da4c13aa16cfe6f9d27f68....\n",
      "    processing project xor2 ...\n",
      "        processing experiment 9d9a3de163d6410da6eecf750e41b96c..............................\n",
      "    processing project test-epochs ...\n",
      "        processing experiment d9476f72c13b46f09bf2f2cfa53384ac.\n",
      "    processing project test-experiment ...\n",
      "        processing experiment 5598e372123c42a0a7e938215fb65278....................................\n",
      "    processing project odcs-east-2019 ...\n",
      "        processing experiment e01407a1c1df4497a7e56f9864b1815f.\n",
      "    processing project histograms ...\n",
      "        processing experiment fed2040929be432f96ac4e85255faf8d...................\n",
      "    processing project optimizer-1-0-0 ...\n",
      "        processing experiment aa9b05699e634ac8b6e6a2a8ad10b703...........\n",
      "    processing project multi-process ...\n",
      "        processing experiment b8ee212eb66e4750a95dbc6b2dab9305.....\n",
      "    processing project conx ...\n",
      "        processing experiment 5474700f29ad4a7a8b25096526536f76.\n",
      "Found html in c91a851a67514d37b623fcca43777533!\n",
      "\n",
      "    processing project prj-name ...\n",
      "        processing experiment c91a851a67514d37b623fcca43777533................................................................................................................\n",
      "    processing project predictor-00 ...\n",
      "        processing experiment 66d98a0de37a42dbbac10b673bc00c5d...................\n",
      "    processing project optimizer-3 ...\n",
      "        processing experiment 903d086e3ab84eb68e26b3ce7338fd7e..........\n",
      "    processing project optimizer-5 ...\n",
      "        processing experiment 2b25695a971f46f1b806dfc9f6463b36..........\n",
      "    processing project optimizer-2-1 ...\n",
      "        processing experiment 7c31f27c00e846d9bbc48cd70168fb21..........\n",
      "    processing project optimizer-12 ...\n",
      "        processing experiment ae59ceda587a4305be614028b8466061....\n",
      "    processing project ludwig ...\n",
      "        processing experiment 9d9a3de163d6410da6eecf750e41b96c.\n",
      "Found html in b919068a27014a1b941a1de11c707a0b!\n",
      "\n",
      "    processing project pypy ...\n",
      "        processing experiment b919068a27014a1b941a1de11c707a0b.\n",
      "    processing project tensorflow ...\n",
      "        processing experiment a31b967ac9324c8da32d468aaefde826......\n",
      "    processing project optimizer-2 ...\n",
      "        processing experiment c5e39aa1f32141aa844cfa008fb022b8.....................................................................................................\n",
      "    processing project odsc-east ...\n",
      "        processing experiment 76c0cba4b7064577906e45e4a6399ace............\n",
      "    processing project comet-notebooks ...\n",
      "        processing experiment 2265ad7793ec441d8c2801b9aa4a1d28...\n",
      "    processing project optimizer-1 ...\n",
      "        processing experiment 762d2e542602401d92638ce17bcca429.........................................................................................................\n",
      "    processing project optimizer-4 ...\n",
      "        processing experiment 5fe3c6b4b49a449d9414c2f5f53fa20f.......................\n",
      "    processing project odsc-east-2019 ...\n",
      "        processing experiment 37ae20c30d3246eb98e0dde823f1d5d8....................\n",
      "    processing project temp ...\n",
      "        processing experiment a68ddb9d23ff4fb48ff8196a6ee7c827..................................\n",
      "    processing project pycon2019 ...\n",
      "        processing experiment 6b13998ba3834d4caa0cec078a1089a3.\n",
      "    processing project keras-optimizer-example ...\n",
      "        processing experiment b1a7261eca2949e9a495360cc6809c1b.........................\n",
      "    processing project chainer ...\n",
      "        processing experiment 48eb334bba2346638bd2b0dcc20da1c1..................\n",
      "Found html in 698e577fc880463381e179a2125c679a!\n",
      "\n",
      "    processing project mnist-014 ...\n",
      "        processing experiment 698e577fc880463381e179a2125c679a..........\n",
      "Found html in 47fb44c51ba94a03b09bbc7f3b1c17a1!\n",
      "\n",
      "    processing project notebook-test ...\n",
      "        processing experiment 47fb44c51ba94a03b09bbc7f3b1c17a1...\n",
      "    processing project optimizer ...\n",
      "        processing experiment 71c6856180384c2ca3d4c22ce8b9f5b6...........................\n",
      "    processing project multi-process ...\n",
      "        processing experiment d2b20a13bc844d6088b28233e2834ab3.....\n",
      "    processing project interactive-figures ...\n",
      "        processing experiment 5474700f29ad4a7a8b25096526536f76.\n",
      "    processing project general ...\n",
      "        processing experiment restd109f902b8a84a9eb8dfd42c53990696................................................................................................\n",
      "Found html in 707dd6d9f0eb43389c6ea46a7221e75e!\n",
      "\n",
      "    processing project predictive-learning-curve ...\n",
      "        processing experiment 707dd6d9f0eb43389c6ea46a7221e75e.........\n",
      "    processing project jupyter-experiments ...\n",
      "        processing experiment 8a7f27d8aa824e929b9956e0771f2c5a.\n",
      "    processing project google-ml ...\n",
      "        processing experiment 82e7d42ccaa840da84a121f6c69a6fd9..........................\n",
      "    processing project matplotlib ...\n",
      "        processing experiment 336f7d8a646049b6b8a3ffdb6d777b39....\n",
      "    processing project keras ...\n",
      "        processing experiment 69cbd8994bf44b819a95eee0e996a2d5......\n",
      "    processing project fastai ...\n",
      "        processing experiment 51cf6e588a3346cdb560fd0c09d49610............................................................................................................\n",
      "    processing project test ...\n",
      "        processing experiment bd675f0100bb4139bc3372d23bfbfeb9..\n"
     ]
    }
   ],
   "source": [
    "%%time\n",
    "workspace = \"dsblank\"\n",
    "for project in comet_api.get(workspace):\n",
    "    print(\"    processing project\", project, \"...\")\n",
    "    print(\"        processing experiment\", exp.id, end=\"\")\n",
    "    for exp in comet_api.get(workspace, project):\n",
    "        print(\".\", end=\"\")\n",
    "        if exp.get_html() != None:\n",
    "            print(\"\\nFound html in %s!\" % exp.id)\n",
    "            break\n",
    "    print()"
   ]
  },
  {
   "cell_type": "markdown",
   "metadata": {},
   "source": [
    "Here is a function that will find the first experiment that has associated images:"
   ]
  },
  {
   "cell_type": "code",
   "execution_count": 23,
   "metadata": {},
   "outputs": [],
   "source": [
    "def find_image():\n",
    "    for workspace in comet_api.get():\n",
    "        for project in comet_api.get(workspace):\n",
    "            for exp in comet_api.get(workspace, project):\n",
    "                if exp.get_images() != []:\n",
    "                    return exp"
   ]
  },
  {
   "cell_type": "code",
   "execution_count": 24,
   "metadata": {},
   "outputs": [
    {
     "data": {
      "text/plain": [
       "<APIExperiment 'team-comet-ml/lc-predictor-parallel/a358b75289c849578ab06b17d3baa8f9'>"
      ]
     },
     "execution_count": 24,
     "metadata": {},
     "output_type": "execute_result"
    }
   ],
   "source": [
    "find_image()"
   ]
  },
  {
   "cell_type": "markdown",
   "metadata": {},
   "source": [
    "Now, we get the experiment API and explore the `APIExperiment.get_images()` method:"
   ]
  },
  {
   "cell_type": "code",
   "execution_count": 25,
   "metadata": {},
   "outputs": [
    {
     "data": {
      "text/plain": [
       "[{'experimentKey': '3b56611892b7447aa8c4486a6eeb27d0',\n",
       "  'figCounter': 0,\n",
       "  'figName': 'Exponential Slowdown',\n",
       "  'step': None,\n",
       "  'runContext': None,\n",
       "  'fileName': '4ykmnOHJFZkrRD36KDrTXvHJk.svg',\n",
       "  'fileSize': 0,\n",
       "  'imagePath': 'https://s3.amazonaws.com/comet.ml/4ykmnOHJFZkrRD36KDrTXvHJk.svg',\n",
       "  'createdAt': 1542116223922,\n",
       "  'imageId': 'X94DIfASupKj74rIK6PMVDimk'}]"
      ]
     },
     "execution_count": 25,
     "metadata": {},
     "output_type": "execute_result"
    }
   ],
   "source": [
    "comet_api.get('dsblank/pytorch/3b56611892b7447aa8c4486a6eeb27d0').get_images()"
   ]
  },
  {
   "cell_type": "markdown",
   "metadata": {},
   "source": [
    "We can get a URL for the image, and display it in the notebook:"
   ]
  },
  {
   "cell_type": "code",
   "execution_count": 60,
   "metadata": {},
   "outputs": [
    {
     "data": {
      "text/plain": [
       "'https://s3.amazonaws.com/comet.ml/4ykmnOHJFZkrRD36KDrTXvHJk.svg'"
      ]
     },
     "execution_count": 60,
     "metadata": {},
     "output_type": "execute_result"
    }
   ],
   "source": [
    "url = comet_api.get('dsblank/pytorch/3b56611892b7447aa8c4486a6eeb27d0').get_images()[0][\"imagePath\"]\n",
    "url"
   ]
  },
  {
   "cell_type": "code",
   "execution_count": 61,
   "metadata": {},
   "outputs": [],
   "source": [
    "from IPython.display import Image"
   ]
  },
  {
   "cell_type": "code",
   "execution_count": 62,
   "metadata": {},
   "outputs": [
    {
     "data": {
      "text/html": [
       "<img src=\"https://s3.amazonaws.com/comet.ml/4ykmnOHJFZkrRD36KDrTXvHJk.svg\"/>"
      ],
      "text/plain": [
       "<IPython.core.display.Image object>"
      ]
     },
     "execution_count": 62,
     "metadata": {},
     "output_type": "execute_result"
    }
   ],
   "source": [
    "Image(url=url)"
   ]
  },
  {
   "cell_type": "markdown",
   "metadata": {},
   "source": [
    "Now, let's write a short program that will find the run with the best accuracy given a workspace/project string:"
   ]
  },
  {
   "cell_type": "code",
   "execution_count": 29,
   "metadata": {},
   "outputs": [],
   "source": [
    "def find_best_run(workspace, project):\n",
    "    runs = []\n",
    "    for exp in comet_api.get(workspace, project):\n",
    "        accs = [x for x in exp.get_metrics_summary() if x[\"name\"] == \"acc\"]\n",
    "        if len(accs) > 0:\n",
    "            runs.append([float(accs[0][\"valueMax\"]), exp])\n",
    "    if runs:\n",
    "        return sorted(runs, key=lambda v: v[0], reverse=True)[0]"
   ]
  },
  {
   "cell_type": "code",
   "execution_count": 30,
   "metadata": {},
   "outputs": [
    {
     "data": {
      "text/plain": [
       "[1.0, <APIExperiment 'cometpublic/fasttext/44ea2d68794d4c5e9e18b86c30562bf8'>]"
      ]
     },
     "execution_count": 30,
     "metadata": {},
     "output_type": "execute_result"
    }
   ],
   "source": [
    "find_best_run(\"cometpublic\", \"fasttext\")"
   ]
  },
  {
   "cell_type": "markdown",
   "metadata": {},
   "source": [
    "Can we get all of the `hidden_size` parameter values for the experiments in dsblank/pytorch?"
   ]
  },
  {
   "cell_type": "code",
   "execution_count": 32,
   "metadata": {},
   "outputs": [
    {
     "data": {
      "text/plain": [
       "[['100', '128', '28', '0.01', '10', '2', '2', '28'],\n",
       " ['100', 'true', '128', '28', '0.01', '10', '2', '2', '28'],\n",
       " ['100', '128', '28', '0.01', '10', '2', '2', '28'],\n",
       " ['100', '128', '28', '0.01', '10', '2', '2', '28'],\n",
       " ['100', '128', '28', '0.01', '10', '2', '2', '28'],\n",
       " ['100', '128', '28', '0.01', '10', '2', '2', '28'],\n",
       " ['100', '128', '28', '0.01', '10', '2', '2', '28'],\n",
       " ['100', '128', '28', '0.01', '10', '2', '2', '28'],\n",
       " ['100', '128', '28', '0.01', '10', '2', '2', '28'],\n",
       " ['100', '128', '28', '0.01', '10', '2', '2', '28'],\n",
       " ['100', '128', '28', '0.01', '10', '2', '2', '28'],\n",
       " ['100', '128', '28', '0.01', '10', '2', '2', '28'],\n",
       " ['100', '128', '28', '0.01', '10', '2', '2', '28'],\n",
       " ['100', '128', '28', '0.01', '10', '2', '2', '28'],\n",
       " ['100', '128', '28', '0.01', '10', '2', '2', '28'],\n",
       " ['100', '128', '28', '0.01', '10', '2', '2', '28'],\n",
       " ['100', '128', '28', '0.01', '10', '2', '2', '28'],\n",
       " ['100', '128', '28', '0.01', '10', '2', '2', '28'],\n",
       " ['100', '128', '28', '0.01', '10', '2', '2', '28'],\n",
       " ['100', '128', '28', '0.01', '10', '2', '2', '28'],\n",
       " ['100', '128', '28', '0.01', '10', '2', '2', '28'],\n",
       " ['100', '128', '28', '0.01', '10', '2', '2', '28'],\n",
       " ['100', '128', '28', '0.01', '10', '2', '2', '28'],\n",
       " ['100', '128', '28', '0.01', '10', '2', '2', '28'],\n",
       " ['100', '128', '28', '0.01', '10', '2', '2', '28'],\n",
       " ['100', '128', '28', '0.01', '10', '2', '2', '28'],\n",
       " ['100', '128', '28', '0.01', '10', '2', '2', '28'],\n",
       " ['100', '128', '28', '0.01', '10', '2', '2', '28'],\n",
       " ['100', '128', '28', '0.01', '10', '2', '2', '28'],\n",
       " ['100', '128', '28', '0.01', '10', '2', '2', '28'],\n",
       " ['100', '128', '28', '0.01', '10', '3', '2', '28'],\n",
       " ['100', '128', '28', '0.01', '10', '3', '2', '28'],\n",
       " ['100', '128', '28', '0.01', '10', '3', '2', '28'],\n",
       " ['100', '128', '28', '0.01', '10', '3', '2', '28'],\n",
       " ['100', '128', '28', '0.01', '10', '2', '2', '28', '0'],\n",
       " ['100', '128', '28', '0.01', '10', '2', '2', '28', '599'],\n",
       " ['100', '128', '28', '0.01', '10', '2', '2', '28', '599'],\n",
       " ['1199'],\n",
       " ['100', '128', '28', '0.01', '10', '2', '2', '28', '599'],\n",
       " ['100',\n",
       "  '361fadf1c712',\n",
       "  '/run/user/1000/jupyter/kernel-db3ca856-5af7-46ea-85f6-6fe462cae76b.json',\n",
       "  '128',\n",
       "  '28',\n",
       "  '0.01',\n",
       "  '10',\n",
       "  '3',\n",
       "  '2',\n",
       "  '28'],\n",
       " ['100', '128', '28', '0.01', '10', '2', '2', '28', '599']]"
      ]
     },
     "execution_count": 32,
     "metadata": {},
     "output_type": "execute_result"
    }
   ],
   "source": [
    "[[p[\"valueCurrent\"] for p in exp.get_parameters_summary()] for exp in comet_api.get(\"dsblank/pytorch\")]"
   ]
  },
  {
   "cell_type": "code",
   "execution_count": 63,
   "metadata": {},
   "outputs": [],
   "source": [
    "experiments = [[(exp, \"hidden_size\", int(param[\"valueCurrent\"])) \n",
    "                for param in exp.get_parameters_summary() \n",
    "                if param[\"name\"] == \"hidden_size\"]\n",
    "               for exp in comet_api.get(\"dsblank/pytorch\")]\n",
    "experiments = [e[0] for e in experiments if len(e) > 0]"
   ]
  },
  {
   "cell_type": "code",
   "execution_count": 64,
   "metadata": {},
   "outputs": [
    {
     "data": {
      "text/plain": [
       "(<APIExperiment 'dsblank/pytorch/5f540fc7894146f4bbfd21ebe8549fcf'>,\n",
       " 'hidden_size',\n",
       " 128)"
      ]
     },
     "execution_count": 64,
     "metadata": {},
     "output_type": "execute_result"
    }
   ],
   "source": [
    "experiments[0]"
   ]
  },
  {
   "cell_type": "markdown",
   "metadata": {},
   "source": [
    "### Assets\n",
    "\n",
    "To get an asset, you need to get the asset_id. You can see all of the assets related to a project using the `APIExperiment.get_asset_list()`:"
   ]
  },
  {
   "cell_type": "code",
   "execution_count": 65,
   "metadata": {},
   "outputs": [],
   "source": [
    "def find_asset(workspaces):\n",
    "    for ws in workspaces or comet_api.get():\n",
    "        for pj in comet_api.get(ws):\n",
    "            for exp in comet_api.get(ws, pj):\n",
    "                if exp.get_asset_list() != []:\n",
    "                    return (exp, exp.get_asset_list())\n",
    "exp, elist = find_asset([\"dsblank\"])"
   ]
  },
  {
   "cell_type": "code",
   "execution_count": 66,
   "metadata": {},
   "outputs": [
    {
     "data": {
      "text/plain": [
       "<APIExperiment 'dsblank/ludwig/b919068a27014a1b941a1de11c707a0b'>"
      ]
     },
     "execution_count": 66,
     "metadata": {},
     "output_type": "execute_result"
    }
   ],
   "source": [
    "exp"
   ]
  },
  {
   "cell_type": "code",
   "execution_count": 67,
   "metadata": {},
   "outputs": [
    {
     "data": {
      "text/plain": [
       "[{'fileName': 'class_probability.csv',\n",
       "  'fileSize': 9322,\n",
       "  'runContext': None,\n",
       "  'step': 229,\n",
       "  'link': 'https://www.comet.ml/api/asset/download?experimentKey=b919068a27014a1b941a1de11c707a0b&assetId=0962095961314f55b7b22d743039c2a8',\n",
       "  'createdAt': 1562164311321,\n",
       "  'dir': 'assets',\n",
       "  'canView': False,\n",
       "  'audio': False,\n",
       "  'video': False,\n",
       "  'histogram': False,\n",
       "  'image': False,\n",
       "  'type': None,\n",
       "  'metadata': None,\n",
       "  'assetId': '0962095961314f55b7b22d743039c2a8'},\n",
       " {'fileName': 'model_definition.json',\n",
       "  'fileSize': 217504,\n",
       "  'runContext': None,\n",
       "  'step': None,\n",
       "  'link': 'https://www.comet.ml/api/asset/download?experimentKey=b919068a27014a1b941a1de11c707a0b&assetId=12fbfe7fcc3c46d18660eed572f71221',\n",
       "  'createdAt': 1562163537592,\n",
       "  'dir': 'assets',\n",
       "  'canView': False,\n",
       "  'audio': False,\n",
       "  'video': False,\n",
       "  'histogram': False,\n",
       "  'image': False,\n",
       "  'type': None,\n",
       "  'metadata': None,\n",
       "  'assetId': '12fbfe7fcc3c46d18660eed572f71221'},\n",
       " {'fileName': 'description.json',\n",
       "  'fileSize': 5310,\n",
       "  'runContext': None,\n",
       "  'step': 229,\n",
       "  'link': 'https://www.comet.ml/api/asset/download?experimentKey=b919068a27014a1b941a1de11c707a0b&assetId=240ef714c0074890a503419e0ea67a9b',\n",
       "  'createdAt': 1562164311275,\n",
       "  'dir': 'assets',\n",
       "  'canView': False,\n",
       "  'audio': False,\n",
       "  'video': False,\n",
       "  'histogram': False,\n",
       "  'image': False,\n",
       "  'type': None,\n",
       "  'metadata': None,\n",
       "  'assetId': '240ef714c0074890a503419e0ea67a9b'},\n",
       " {'fileName': 'class_probability.npy',\n",
       "  'fileSize': 26432,\n",
       "  'runContext': None,\n",
       "  'step': 229,\n",
       "  'link': 'https://www.comet.ml/api/asset/download?experimentKey=b919068a27014a1b941a1de11c707a0b&assetId=46ec37cee69a46f3a62cf23129a85f4d',\n",
       "  'createdAt': 1562164311390,\n",
       "  'dir': 'assets',\n",
       "  'canView': False,\n",
       "  'audio': False,\n",
       "  'video': False,\n",
       "  'histogram': False,\n",
       "  'image': False,\n",
       "  'type': None,\n",
       "  'metadata': None,\n",
       "  'assetId': '46ec37cee69a46f3a62cf23129a85f4d'},\n",
       " {'fileName': 'class_predictions.npy',\n",
       "  'fileSize': 6704,\n",
       "  'runContext': None,\n",
       "  'step': 229,\n",
       "  'link': 'https://www.comet.ml/api/asset/download?experimentKey=b919068a27014a1b941a1de11c707a0b&assetId=549994b59aa34063bb194ca180a53b2a',\n",
       "  'createdAt': 1562164311448,\n",
       "  'dir': 'assets',\n",
       "  'canView': False,\n",
       "  'audio': False,\n",
       "  'video': False,\n",
       "  'histogram': False,\n",
       "  'image': False,\n",
       "  'type': None,\n",
       "  'metadata': None,\n",
       "  'assetId': '549994b59aa34063bb194ca180a53b2a'},\n",
       " {'fileName': 'test_statistics.json',\n",
       "  'fileSize': 11366,\n",
       "  'runContext': None,\n",
       "  'step': 229,\n",
       "  'link': 'https://www.comet.ml/api/asset/download?experimentKey=b919068a27014a1b941a1de11c707a0b&assetId=6c8592df61264110952795f01099568a',\n",
       "  'createdAt': 1562164311415,\n",
       "  'dir': 'assets',\n",
       "  'canView': False,\n",
       "  'audio': False,\n",
       "  'video': False,\n",
       "  'histogram': False,\n",
       "  'image': False,\n",
       "  'type': None,\n",
       "  'metadata': None,\n",
       "  'assetId': '6c8592df61264110952795f01099568a'},\n",
       " {'fileName': 'training_statistics.json',\n",
       "  'fileSize': 6048,\n",
       "  'runContext': None,\n",
       "  'step': 229,\n",
       "  'link': 'https://www.comet.ml/api/asset/download?experimentKey=b919068a27014a1b941a1de11c707a0b&assetId=84d1b8c4e4234f399ff688de307d998f',\n",
       "  'createdAt': 1562164306922,\n",
       "  'dir': 'assets',\n",
       "  'canView': False,\n",
       "  'audio': False,\n",
       "  'video': False,\n",
       "  'histogram': False,\n",
       "  'image': False,\n",
       "  'type': None,\n",
       "  'metadata': None,\n",
       "  'assetId': '84d1b8c4e4234f399ff688de307d998f'},\n",
       " {'fileName': 'class_probabilities.npy',\n",
       "  'fileSize': 26432,\n",
       "  'runContext': None,\n",
       "  'step': 229,\n",
       "  'link': 'https://www.comet.ml/api/asset/download?experimentKey=b919068a27014a1b941a1de11c707a0b&assetId=8f831cdecc6f4b63b4188a9cee6eb165',\n",
       "  'createdAt': 1562164311362,\n",
       "  'dir': 'assets',\n",
       "  'canView': False,\n",
       "  'audio': False,\n",
       "  'video': False,\n",
       "  'histogram': False,\n",
       "  'image': False,\n",
       "  'type': None,\n",
       "  'metadata': None,\n",
       "  'assetId': '8f831cdecc6f4b63b4188a9cee6eb165'},\n",
       " {'fileName': 'class_probabilities.csv',\n",
       "  'fileSize': 86305,\n",
       "  'runContext': None,\n",
       "  'step': 229,\n",
       "  'link': 'https://www.comet.ml/api/asset/download?experimentKey=b919068a27014a1b941a1de11c707a0b&assetId=f17415e274ad44abb321f68371b05400',\n",
       "  'createdAt': 1562164311464,\n",
       "  'dir': 'assets',\n",
       "  'canView': False,\n",
       "  'audio': False,\n",
       "  'video': False,\n",
       "  'histogram': False,\n",
       "  'image': False,\n",
       "  'type': None,\n",
       "  'metadata': None,\n",
       "  'assetId': 'f17415e274ad44abb321f68371b05400'},\n",
       " {'fileName': 'class_predictions.csv',\n",
       "  'fileSize': 6296,\n",
       "  'runContext': None,\n",
       "  'step': 229,\n",
       "  'link': 'https://www.comet.ml/api/asset/download?experimentKey=b919068a27014a1b941a1de11c707a0b&assetId=f558195dbc7c4853bf2fc25cad869a59',\n",
       "  'createdAt': 1562164311379,\n",
       "  'dir': 'assets',\n",
       "  'canView': False,\n",
       "  'audio': False,\n",
       "  'video': False,\n",
       "  'histogram': False,\n",
       "  'image': False,\n",
       "  'type': None,\n",
       "  'metadata': None,\n",
       "  'assetId': 'f558195dbc7c4853bf2fc25cad869a59'},\n",
       " {'fileName': 'training_statistics.json',\n",
       "  'fileSize': 6048,\n",
       "  'runContext': None,\n",
       "  'step': 229,\n",
       "  'link': 'https://www.comet.ml/api/asset/download?experimentKey=b919068a27014a1b941a1de11c707a0b&assetId=f9a268de3973422fb3d409a89dfdf443',\n",
       "  'createdAt': 1562164311331,\n",
       "  'dir': 'assets',\n",
       "  'canView': False,\n",
       "  'audio': False,\n",
       "  'video': False,\n",
       "  'histogram': False,\n",
       "  'image': False,\n",
       "  'type': None,\n",
       "  'metadata': None,\n",
       "  'assetId': 'f9a268de3973422fb3d409a89dfdf443'},\n",
       " {'fileName': 'description.json',\n",
       "  'fileSize': 5310,\n",
       "  'runContext': None,\n",
       "  'step': 229,\n",
       "  'link': 'https://www.comet.ml/api/asset/download?experimentKey=b919068a27014a1b941a1de11c707a0b&assetId=fd2221c027ee4dfea89c3010e5e3fa76',\n",
       "  'createdAt': 1562164306914,\n",
       "  'dir': 'assets',\n",
       "  'canView': False,\n",
       "  'audio': False,\n",
       "  'video': False,\n",
       "  'histogram': False,\n",
       "  'image': False,\n",
       "  'type': None,\n",
       "  'metadata': None,\n",
       "  'assetId': 'fd2221c027ee4dfea89c3010e5e3fa76'}]"
      ]
     },
     "execution_count": 67,
     "metadata": {},
     "output_type": "execute_result"
    }
   ],
   "source": [
    "elist"
   ]
  },
  {
   "cell_type": "markdown",
   "metadata": {},
   "source": [
    "From there, you can use the `APIExperiment.get_asset(asset_id)` method to get the asset."
   ]
  },
  {
   "cell_type": "code",
   "execution_count": 70,
   "metadata": {},
   "outputs": [],
   "source": [
    "description = exp.get_asset(\"f9a268de3973422fb3d409a89dfdf443\", return_type=\"json\")"
   ]
  },
  {
   "cell_type": "code",
   "execution_count": 72,
   "metadata": {},
   "outputs": [
    {
     "name": "stdout",
     "output_type": "stream",
     "text": [
      "{'test': {'class': {'accuracy': [0.7408759124087592, 0.8369829683698297, 0.816301703163017, 0.8102189781021898, 0.9209245742092458, 0.8637469586374696, 0.9209245742092458, 0.902676399026764, 0.9063260340632603, 0.9184914841849149], 'hits_at_k': [0.9781021897810219, 0.9781021897810219, 0.9781021897810219, 0.9768856447688564, 0.9854014598540146, 0.9975669099756691, 0.9914841849148418, 0.9927007299270073, 0.9939172749391727, 0.9939172749391727], 'loss': [0.8705071265970123, 0.6273185841358491, 0.5703550115989072, 0.5545295183966049, 0.2747191994149609, 0.4043830061770994, 0.28131648687840666, 0.3221173831726223, 0.3117231464153949, 0.28188090544837524]}, 'combined': {'accuracy': [0.7408759124087592, 0.8369829683698297, 0.816301703163017, 0.8102189781021898, 0.9209245742092458, 0.8637469586374696, 0.9209245742092458, 0.902676399026764, 0.9063260340632603, 0.9184914841849149], 'loss': [0.8705071265970123, 0.6273185841358491, 0.5703550115989072, 0.5545295183966049, 0.2747191994149609, 0.4043830061770994, 0.28131648687840666, 0.3221173831726223, 0.3117231464153949, 0.28188090544837524]}}, 'train': {'class': {'accuracy': [0.7482566248256625, 0.8905160390516039, 0.9020223152022315, 0.9243375174337517, 0.999302649930265, 0.9937238493723849, 1.0, 1.0, 1.0, 1.0], 'hits_at_k': [0.9825662482566249, 0.9843096234309623, 0.9912831241283124, 0.9947698744769874, 1.0, 1.0, 1.0, 1.0, 1.0, 1.0], 'loss': [0.7974234658138855, 0.4038729341791597, 0.2353067422179165, 0.23470074462092572, 0.02043243750119309, 0.03303109608185341, 0.005947058721649431, 0.005881959277580556, 0.004727719955645096, 0.0029656423549356153]}, 'combined': {'accuracy': [0.7482566248256625, 0.8905160390516039, 0.9020223152022315, 0.9243375174337517, 0.999302649930265, 0.9937238493723849, 1.0, 1.0, 1.0, 1.0], 'loss': [0.7974234658138855, 0.4038729341791597, 0.2353067422179165, 0.23470074462092572, 0.02043243750119309, 0.03303109608185341, 0.005947058721649431, 0.005881959277580556, 0.004727719955645096, 0.0029656423549356153]}}, 'validation': {'class': {'accuracy': [0.7223650385604113, 0.8020565552699229, 0.7866323907455013, 0.794344473007712, 0.897172236503856, 0.8508997429305912, 0.8946015424164524, 0.8868894601542416, 0.8894601542416453, 0.8997429305912596], 'hits_at_k': [0.9691516709511568, 0.9691516709511568, 0.9691516709511568, 0.9691516709511568, 0.9845758354755784, 0.987146529562982, 0.9974293059125964, 0.9974293059125964, 0.9974293059125964, 0.9974293059125964], 'loss': [1.4918230987395755, 0.9578448900268209, 0.7198506054638437, 0.6196955238638929, 0.32565167622884933, 0.47340625319582025, 0.36255886693482686, 0.38872339702654235, 0.3782177693815064, 0.34493230518963963]}, 'combined': {'accuracy': [0.7223650385604113, 0.8020565552699229, 0.7866323907455013, 0.794344473007712, 0.897172236503856, 0.8508997429305912, 0.8946015424164524, 0.8868894601542416, 0.8894601542416453, 0.8997429305912596], 'loss': [1.4918230987395755, 0.9578448900268209, 0.7198506054638437, 0.6196955238638929, 0.32565167622884933, 0.47340625319582025, 0.36255886693482686, 0.38872339702654235, 0.3782177693815064, 0.34493230518963963]}}}\n"
     ]
    }
   ],
   "source": [
    "print(description)"
   ]
  },
  {
   "cell_type": "markdown",
   "metadata": {},
   "source": [
    "We hope that this gives you some ideas of how you can use the Comet Python API!"
   ]
  }
 ],
 "metadata": {
  "kernelspec": {
   "display_name": "Python 3",
   "language": "python",
   "name": "python3"
  },
  "language_info": {
   "codemirror_mode": {
    "name": "ipython",
    "version": 3
   },
   "file_extension": ".py",
   "mimetype": "text/x-python",
   "name": "python",
   "nbconvert_exporter": "python",
   "pygments_lexer": "ipython3",
   "version": "3.6.8"
  }
 },
 "nbformat": 4,
 "nbformat_minor": 2
}
