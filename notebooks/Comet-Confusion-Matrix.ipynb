{
 "cells": [
  {
   "cell_type": "markdown",
   "metadata": {},
   "source": [
    "<img src=\"https://www.comet.ml/images/logo_comet_light.png\" width=\"200px\"/>\n",
    "\n",
    "# Comet.ml Confusion Matrix\n",
    "\n",
    "*This page is available as an executable or viewable **Jupyter Notebook**:* <br/>\n",
    "<a href=\"https://mybinder.org/v2/gh/comet-ml/comet-examples/master?filepath=notebooks%2FComet-Confusion-Matrix.ipynb\" target=\"_parent\"><img align=\"left\" src=\"https://mybinder.org/badge_logo.svg\"></a>\n",
    "<a href=\"https://nbviewer.jupyter.org/github/comet-ml/comet-examples/blob/master/notebooks/Comet-Confusion-Matrix.ipynb\" target=\"_parent\"><img align=\"right\" src=\"https://raw.githubusercontent.com/jupyter/design/master/logos/Badges/nbviewer_badge.png\" width=\"109\" height=\"20\"></a>\n",
    "<br/>\n",
    "<hr/>\n",
    "Comet.ml can generate a variety of visualizations, including line charts, scatter charts, bar charts, and histograms. This notebook explores Comet's confusion matrix chart."
   ]
  },
  {
   "cell_type": "markdown",
   "metadata": {},
   "source": [
    "## Setup\n",
    "\n",
    "The first thing we'll do in this notebook tutorial is install **comet_ml** and other items that we'll need for this demonstration. That will include **keras**, **tensorflow**, and **numpy**.\n",
    "\n",
    "First, comet_ml (you may want to do this slightly differently on your computer):"
   ]
  },
  {
   "cell_type": "code",
   "execution_count": null,
   "metadata": {},
   "outputs": [],
   "source": [
    "%pip install --upgrade --upgrade-strategy eager --user comet_ml "
   ]
  },
  {
   "cell_type": "markdown",
   "metadata": {},
   "source": [
    "And now tensorflow, keras, and numpy:"
   ]
  },
  {
   "cell_type": "code",
   "execution_count": null,
   "metadata": {},
   "outputs": [],
   "source": [
    "%pip install --upgrade --upgrade-strategy eager --user keras tensorflow numpy"
   ]
  },
  {
   "cell_type": "markdown",
   "metadata": {},
   "source": [
    "As the output may suggest, if anything got updated, it might be a good idea to restart the kernel and continue from here."
   ]
  },
  {
   "cell_type": "markdown",
   "metadata": {},
   "source": [
    "### Comet Configuration"
   ]
  },
  {
   "cell_type": "markdown",
   "metadata": {},
   "source": [
    "To run the following experiments, you'll need to set your COMET_API_KEY. The easiest way to to this is to set the values in a cell like this:\n",
    "\n",
    "```python\n",
    "import comet_ml\n",
    "\n",
    "comet_ml.config.save(api_key=\"...\")\n",
    "```\n",
    "where you replace the ...'s with your key.\n",
    "\n",
    "You can get your COMET_API_KEY under your quickstart link (replace YOUR_USERNAME with your Comet.ml username):\n",
    "\n",
    "https://www.comet.ml/YOUR_USERNAME/quickstart\n",
    "\n"
   ]
  },
  {
   "cell_type": "markdown",
   "metadata": {},
   "source": [
    "## Example 1: Simple Confusion Matrix\n",
    "\n",
    "First, we will create an experiment:"
   ]
  },
  {
   "cell_type": "code",
   "execution_count": 1,
   "metadata": {},
   "outputs": [],
   "source": [
    "from comet_ml import Experiment"
   ]
  },
  {
   "cell_type": "markdown",
   "metadata": {},
   "source": [
    "We're not interested at the moment in logging environment details or the code and related items, so I'll not log those:"
   ]
  },
  {
   "cell_type": "code",
   "execution_count": 2,
   "metadata": {},
   "outputs": [
    {
     "name": "stderr",
     "output_type": "stream",
     "text": [
      "COMET INFO: Experiment is live on comet.ml https://www.comet.ml/cometpublic/confusion-matrix/0d1a88a5038b4507a31061039c269f36\n",
      "\n"
     ]
    }
   ],
   "source": [
    "experiment = Experiment(project_name=\"confusion-matrix\", log_env_details=False, log_code=False)"
   ]
  },
  {
   "cell_type": "markdown",
   "metadata": {},
   "source": [
    "As a simple example, let's consider that we have these six patterns that are our output targets (desired output):"
   ]
  },
  {
   "cell_type": "code",
   "execution_count": 3,
   "metadata": {},
   "outputs": [],
   "source": [
    "desired_output = [\n",
    "    [1, 0, 0],\n",
    "    [0, 1, 0],\n",
    "    [0, 0, 1],\n",
    "    [1, 0, 0],\n",
    "    [0, 1, 0],\n",
    "    [0, 0, 1],\n",
    " ]"
   ]
  },
  {
   "cell_type": "markdown",
   "metadata": {},
   "source": [
    "Imagine that this is a classification task where each target (desired output) is composed of three output values, with one unit \"on\" (set to 1) and the others \"off\" (set to 0). This is sometimes called a \"one-hot\" representation and is a common way of representing categories. There are 6 patterns, where there are 2 each for category.\n",
    "\n",
    "Now, let's make up some sample data that an model might produce. Let's say initially that the output is pretty random and doesn't even add up to 1 for each row. This may be unrealistic as many such classification tasks might use an error/loss output metric that is based on [cross entropy](http://www.cse.unsw.edu.au/~billw/cs9444/crossentropy.html) which would make the sum of values closer to 1. That might be desirable, but is not required for our example here."
   ]
  },
  {
   "cell_type": "code",
   "execution_count": 4,
   "metadata": {},
   "outputs": [],
   "source": [
    "actual_output = [\n",
    "    [0.1, 0.5, 0.4],\n",
    "    [0.2, 0.2, 0.3],\n",
    "    [0.7, 0.4, 0.5],\n",
    "    [0.3, 0.8, 0.3],\n",
    "    [0.0, 0.5, 0.3],\n",
    "    [0.1, 0.5, 0.5],\n",
    " ]"
   ]
  },
  {
   "cell_type": "markdown",
   "metadata": {},
   "source": [
    "Our goal now is to visualize how much the model mixes up the categories. That is, we'd like to see the Confusion Matrix comparing all categories against each other. We can do that easily by simply logging it with the experiment:"
   ]
  },
  {
   "cell_type": "code",
   "execution_count": 5,
   "metadata": {},
   "outputs": [],
   "source": [
    "experiment.log_confusion_matrix(desired_output, actual_output);"
   ]
  },
  {
   "cell_type": "markdown",
   "metadata": {},
   "source": [
    "That's it! We can now end the experiment and take a look at the resulting matrix:"
   ]
  },
  {
   "cell_type": "code",
   "execution_count": 6,
   "metadata": {},
   "outputs": [
    {
     "name": "stderr",
     "output_type": "stream",
     "text": [
      "COMET INFO: ----------------------------\n",
      "COMET INFO: Comet.ml Experiment Summary:\n",
      "COMET INFO:   Data:\n",
      "COMET INFO:     url: https://www.comet.ml/cometpublic/confusion-matrix/0d1a88a5038b4507a31061039c269f36\n",
      "COMET INFO:   Uploads:\n",
      "COMET INFO:     confusion-matrix: 1\n",
      "COMET INFO: ----------------------------\n",
      "COMET INFO: Uploading stats to Comet before program termination (may take several seconds)\n"
     ]
    }
   ],
   "source": [
    "experiment.end()"
   ]
  },
  {
   "cell_type": "code",
   "execution_count": 7,
   "metadata": {},
   "outputs": [
    {
     "data": {
      "text/html": [
       "\n",
       "        <iframe\n",
       "            width=\"100%\"\n",
       "            height=\"800px\"\n",
       "            src=\"https://www.comet.ml/cometpublic/confusion-matrix/0d1a88a5038b4507a31061039c269f36?experiment-tab=confusionMatrix\"\n",
       "            frameborder=\"0\"\n",
       "            allowfullscreen\n",
       "        ></iframe>\n",
       "        "
      ],
      "text/plain": [
       "<IPython.lib.display.IFrame at 0x7fa93fa00dd8>"
      ]
     },
     "metadata": {},
     "output_type": "display_data"
    }
   ],
   "source": [
    "experiment.display(tab=\"confusion-matrices\")"
   ]
  },
  {
   "cell_type": "markdown",
   "metadata": {},
   "source": [
    "For more details on this tab, please see the details on the [Confusion Matrix user interface](https://www.comet.ml/docs/user-interface/#confusion-matrices-tab)."
   ]
  },
  {
   "cell_type": "markdown",
   "metadata": {},
   "source": [
    "## Example #2: Log Confusion Matrices During Learning\n",
    "\n",
    "This example will create a series of confusion matrices showing how the model gets less confused as training proceeds.\n",
    "\n",
    "We will train the standard MNIST digit classification task.\n",
    "\n",
    "We import the items that we will need:"
   ]
  },
  {
   "cell_type": "code",
   "execution_count": 8,
   "metadata": {},
   "outputs": [
    {
     "name": "stderr",
     "output_type": "stream",
     "text": [
      "Using TensorFlow backend.\n"
     ]
    }
   ],
   "source": [
    "from tensorflow.keras.callbacks import Callback\n",
    "from tensorflow.keras.layers import Dense\n",
    "from tensorflow.keras.models import Sequential\n",
    "from tensorflow.keras.optimizers import RMSprop\n",
    "from tensorflow.keras.utils import to_categorical\n",
    "\n",
    "from keras.datasets import mnist\n"
   ]
  },
  {
   "cell_type": "markdown",
   "metadata": {},
   "source": [
    "We load the training set:"
   ]
  },
  {
   "cell_type": "code",
   "execution_count": 9,
   "metadata": {},
   "outputs": [],
   "source": [
    "num_classes = 10\n",
    "\n",
    "# the data, shuffled and split between train and test sets\n",
    "(x_train, y_train), (x_test, y_test) = mnist.load_data()\n",
    "\n",
    "x_train = x_train.reshape(60000, 784)\n",
    "x_test = x_test.reshape(10000, 784)\n",
    "x_train = x_train.astype(\"float32\")\n",
    "x_test = x_test.astype(\"float32\")\n",
    "x_train /= 255\n",
    "x_test /= 255\n",
    "\n",
    "# convert class vectors to binary class matrices\n",
    "y_train = to_categorical(y_train, num_classes)\n",
    "y_test = to_categorical(y_test, num_classes)"
   ]
  },
  {
   "cell_type": "markdown",
   "metadata": {},
   "source": [
    "Define a function to create the model:"
   ]
  },
  {
   "cell_type": "code",
   "execution_count": 10,
   "metadata": {},
   "outputs": [],
   "source": [
    "def create_model():\n",
    "    model = Sequential()\n",
    "    model.add(Dense(128, activation=\"sigmoid\", input_shape=(784,)))\n",
    "    model.add(Dense(128, activation=\"sigmoid\"))\n",
    "    model.add(Dense(128, activation=\"sigmoid\"))\n",
    "    model.add(Dense(10, activation=\"softmax\"))\n",
    "    model.compile(\n",
    "        loss=\"categorical_crossentropy\", optimizer=RMSprop(), metrics=[\"accuracy\"]\n",
    "    )\n",
    "    return model"
   ]
  },
  {
   "cell_type": "markdown",
   "metadata": {},
   "source": [
    "Next, we define a Keras callback to log the confusion matrix:"
   ]
  },
  {
   "cell_type": "code",
   "execution_count": 11,
   "metadata": {},
   "outputs": [],
   "source": [
    "class ConfusionMatrixCallback(Callback):\n",
    "    def __init__(self, experiment, inputs, targets):\n",
    "        self.experiment = experiment\n",
    "        self.inputs = inputs\n",
    "        self.targets = targets\n",
    "\n",
    "    def on_epoch_end(self, epoch, logs={}):\n",
    "        predicted = self.model.predict(self.inputs)\n",
    "        self.experiment.log_confusion_matrix(\n",
    "            self.targets,\n",
    "            predicted,\n",
    "            title=\"Confusion Matrix, Epoch #%d\" % (epoch + 1),\n",
    "            file_name=\"confusion-matrix-%03d.json\" % (epoch + 1),\n",
    "        )"
   ]
  },
  {
   "cell_type": "markdown",
   "metadata": {},
   "source": [
    "And create another Comet experiment:"
   ]
  },
  {
   "cell_type": "code",
   "execution_count": 12,
   "metadata": {},
   "outputs": [
    {
     "name": "stderr",
     "output_type": "stream",
     "text": [
      "COMET INFO: Experiment is live on comet.ml https://www.comet.ml/cometpublic/confusion-matrix/743b63b55d23429dad41a1274bd7e6fb\n",
      "\n"
     ]
    }
   ],
   "source": [
    "experiment = Experiment(project_name=\"confusion-matrix\", log_env_details=False, log_code=False)"
   ]
  },
  {
   "cell_type": "markdown",
   "metadata": {},
   "source": [
    "Before any training, we want to log the confusion so that we can see what it looks like before any adjusting of weights in the network:"
   ]
  },
  {
   "cell_type": "code",
   "execution_count": 13,
   "metadata": {},
   "outputs": [],
   "source": [
    "model = create_model()\n",
    "\n",
    "y_predicted = model.predict(x_test)"
   ]
  },
  {
   "cell_type": "markdown",
   "metadata": {},
   "source": [
    "We also supply the step (zero, before training), a title, and file_name:"
   ]
  },
  {
   "cell_type": "code",
   "execution_count": 14,
   "metadata": {},
   "outputs": [],
   "source": [
    "experiment.log_confusion_matrix(\n",
    "    y_test,\n",
    "    y_predicted,\n",
    "    step=0,\n",
    "    title=\"Confusion Matrix, Epoch #0\",\n",
    "    file_name=\"confusion-matrix-%03d.json\" % 0,\n",
    ");"
   ]
  },
  {
   "cell_type": "markdown",
   "metadata": {},
   "source": [
    "We now create the callback and train the data for 5 epochs:"
   ]
  },
  {
   "cell_type": "code",
   "execution_count": 15,
   "metadata": {},
   "outputs": [
    {
     "name": "stderr",
     "output_type": "stream",
     "text": [
      "COMET INFO: Ignoring automatic log_parameter('verbose') because 'keras:verbose' is in COMET_LOGGING_PARAMETERS_IGNORE\n",
      "COMET INFO: Ignoring automatic log_parameter('do_validation') because 'keras:do_validation' is in COMET_LOGGING_PARAMETERS_IGNORE\n"
     ]
    },
    {
     "name": "stdout",
     "output_type": "stream",
     "text": [
      "Train on 60000 samples, validate on 10000 samples\n",
      "Epoch 1/5\n"
     ]
    },
    {
     "name": "stderr",
     "output_type": "stream",
     "text": [
      "COMET INFO: Ignoring automatic log_metric('batch_batch') because 'keras:batch_batch' is in COMET_LOGGING_METRICS_IGNORE\n",
      "COMET INFO: Ignoring automatic log_metric('batch_size') because 'keras:batch_size' is in COMET_LOGGING_METRICS_IGNORE\n"
     ]
    },
    {
     "name": "stdout",
     "output_type": "stream",
     "text": [
      "60000/60000 [==============================] - 7s 118us/sample - loss: 0.7812 - accuracy: 0.7751 - val_loss: 0.3121 - val_accuracy: 0.9102\n",
      "Epoch 2/5\n",
      "60000/60000 [==============================] - 7s 114us/sample - loss: 0.2613 - accuracy: 0.9240 - val_loss: 0.2074 - val_accuracy: 0.9373\n",
      "Epoch 3/5\n",
      "60000/60000 [==============================] - 7s 116us/sample - loss: 0.1877 - accuracy: 0.9447 - val_loss: 0.1652 - val_accuracy: 0.9492\n",
      "Epoch 4/5\n",
      "60000/60000 [==============================] - 7s 113us/sample - loss: 0.1473 - accuracy: 0.9559 - val_loss: 0.1406 - val_accuracy: 0.9579\n",
      "Epoch 5/5\n",
      "60000/60000 [==============================] - 7s 113us/sample - loss: 0.1218 - accuracy: 0.9629 - val_loss: 0.1229 - val_accuracy: 0.9632\n"
     ]
    },
    {
     "data": {
      "text/plain": [
       "<tensorflow.python.keras.callbacks.History at 0x7fa8c3f2ab38>"
      ]
     },
     "execution_count": 15,
     "metadata": {},
     "output_type": "execute_result"
    }
   ],
   "source": [
    "callback = ConfusionMatrixCallback(experiment, x_test, y_test)\n",
    "\n",
    "model.fit(\n",
    "    x_train,\n",
    "    y_train,\n",
    "    batch_size=120,\n",
    "    epochs=5,\n",
    "    callbacks=[callback],\n",
    "    validation_data=(x_test, y_test),\n",
    ")"
   ]
  },
  {
   "cell_type": "code",
   "execution_count": 16,
   "metadata": {},
   "outputs": [
    {
     "name": "stderr",
     "output_type": "stream",
     "text": [
      "COMET INFO: ----------------------------\n",
      "COMET INFO: Comet.ml Experiment Summary:\n",
      "COMET INFO:   Data:\n",
      "COMET INFO:     url: https://www.comet.ml/cometpublic/confusion-matrix/743b63b55d23429dad41a1274bd7e6fb\n",
      "COMET INFO:   Metrics [count] (min, max):\n",
      "COMET INFO:     accuracy [5]                : (0.7750999927520752, 0.962933361530304)\n",
      "COMET INFO:     batch_accuracy [250]        : (0.14166666567325592, 0.9643939137458801)\n",
      "COMET INFO:     batch_loss [250]            : (0.0368625782430172, 2.6164801120758057)\n",
      "COMET INFO:     epoch_duration [5]          : (6.749969814998622, 7.092286439998134)\n",
      "COMET INFO:     loss [5]                    : (0.12177954505011439, 0.7811669090390205)\n",
      "COMET INFO:     step                        : 2920\n",
      "COMET INFO:     val_accuracy [5]            : (0.9101999998092651, 0.9631999731063843)\n",
      "COMET INFO:     val_loss [5]                : (0.12290808337088674, 0.31211401319503784)\n",
      "COMET INFO:     validate_batch_accuracy [45]: (0.8861111402511597, 0.9916666746139526)\n",
      "COMET INFO:     validate_batch_loss [45]    : (0.03381219133734703, 0.6426334381103516)\n",
      "COMET INFO:   Other [count]:\n",
      "COMET INFO:     trainable_params: 134794\n",
      "COMET INFO:   Uploads:\n",
      "COMET INFO:     confusion-matrix: 6\n",
      "COMET INFO: ----------------------------\n",
      "COMET INFO: Uploading stats to Comet before program termination (may take several seconds)\n",
      "COMET INFO: Waiting for completion of the file uploads (may take several seconds)\n",
      "COMET INFO: Still uploading\n"
     ]
    }
   ],
   "source": [
    "experiment.end()"
   ]
  },
  {
   "cell_type": "markdown",
   "metadata": {},
   "source": [
    "Now we take a look at the matrices created over the training. You can switch between confusion matrices by selecting the name in the upper, left-hand corner."
   ]
  },
  {
   "cell_type": "code",
   "execution_count": 17,
   "metadata": {},
   "outputs": [
    {
     "data": {
      "text/html": [
       "\n",
       "        <iframe\n",
       "            width=\"100%\"\n",
       "            height=\"800px\"\n",
       "            src=\"https://www.comet.ml/cometpublic/confusion-matrix/743b63b55d23429dad41a1274bd7e6fb?experiment-tab=confusionMatrix\"\n",
       "            frameborder=\"0\"\n",
       "            allowfullscreen\n",
       "        ></iframe>\n",
       "        "
      ],
      "text/plain": [
       "<IPython.lib.display.IFrame at 0x7fa92296b240>"
      ]
     },
     "metadata": {},
     "output_type": "display_data"
    }
   ],
   "source": [
    "experiment.display(tab=\"confusion-matrices\")"
   ]
  },
  {
   "cell_type": "markdown",
   "metadata": {},
   "source": [
    "## Example 3: Reuse ConfusionMatrix instance\n",
    "\n",
    "Now, we ant to create example images for each of the cells in the matrix. In addition, we want to re-use the images if we can.\n",
    "\n",
    "For this, we will create a `ConfusionMatrix` instance and re-use it."
   ]
  },
  {
   "cell_type": "code",
   "execution_count": 18,
   "metadata": {},
   "outputs": [],
   "source": [
    "from comet_ml import ConfusionMatrix"
   ]
  },
  {
   "cell_type": "markdown",
   "metadata": {},
   "source": [
    "To create an example for each item, we write an `index_to_example` function that takes an index position (offset into the training data), create and log an image, and then return the `assetId` as a key in a dict:"
   ]
  },
  {
   "cell_type": "code",
   "execution_count": 19,
   "metadata": {},
   "outputs": [],
   "source": [
    "def index_to_example(index):\n",
    "    image_array = x_test[index]\n",
    "    image_name = \"confusion-matrix-%05d.png\" % index\n",
    "    results = experiment.log_image(\n",
    "        image_array, name=image_name, image_shape=(28, 28, 1)\n",
    "    )\n",
    "    # Return sample, assetId (index is added automatically)\n",
    "    return {\"sample\": image_name, \"assetId\": results[\"imageId\"]}"
   ]
  },
  {
   "cell_type": "markdown",
   "metadata": {},
   "source": [
    "We create a callback, like, before; however, this time we will keep track of an instance of the `ConfusionMatrix`:"
   ]
  },
  {
   "cell_type": "code",
   "execution_count": 20,
   "metadata": {},
   "outputs": [],
   "source": [
    "class ConfusionMatrixCallback(Callback):\n",
    "    def __init__(self, experiment, inputs, targets, confusion_matrix):\n",
    "        self.experiment = experiment\n",
    "        self.inputs = inputs\n",
    "        self.targets = targets\n",
    "        self.confusion_matrix = confusion_matrix\n",
    "\n",
    "    def on_epoch_end(self, epoch, logs={}):\n",
    "        predicted = self.model.predict(self.inputs)\n",
    "        self.confusion_matrix.compute_matrix(self.targets, predicted)\n",
    "        self.experiment.log_confusion_matrix(\n",
    "            matrix=self.confusion_matrix,\n",
    "            title=\"Confusion Matrix, Epoch #%d\" % (epoch + 1),\n",
    "            file_name=\"confusion-matrix-%03d.json\" % (epoch + 1),\n",
    "        )"
   ]
  },
  {
   "cell_type": "markdown",
   "metadata": {},
   "source": [
    "We create another Comet experiment:"
   ]
  },
  {
   "cell_type": "code",
   "execution_count": 21,
   "metadata": {},
   "outputs": [
    {
     "name": "stderr",
     "output_type": "stream",
     "text": [
      "COMET INFO: Experiment is live on comet.ml https://www.comet.ml/cometpublic/confusion-matrix/9206a808997f44d6b90a910f8dc25bc9\n",
      "\n"
     ]
    }
   ],
   "source": [
    "experiment = Experiment(project_name=\"confusion-matrix\", log_env_details=False, log_code=False)"
   ]
  },
  {
   "cell_type": "markdown",
   "metadata": {},
   "source": [
    "And another model:"
   ]
  },
  {
   "cell_type": "code",
   "execution_count": 22,
   "metadata": {},
   "outputs": [],
   "source": [
    "model = create_model()"
   ]
  },
  {
   "cell_type": "markdown",
   "metadata": {},
   "source": [
    "Again, before training, we log the confusion matrix:"
   ]
  },
  {
   "cell_type": "code",
   "execution_count": 23,
   "metadata": {},
   "outputs": [],
   "source": [
    "# Before any training:\n",
    "y_predicted = model.predict(x_test)"
   ]
  },
  {
   "cell_type": "markdown",
   "metadata": {},
   "source": [
    "First, we make an instance, passing in the `index_to_example` function:"
   ]
  },
  {
   "cell_type": "code",
   "execution_count": 24,
   "metadata": {},
   "outputs": [],
   "source": [
    "confusion_matrix = ConfusionMatrix(index_to_example_function=index_to_example)"
   ]
  },
  {
   "cell_type": "markdown",
   "metadata": {},
   "source": [
    "Now, we use the `comet_matrix` method of the `ConfusionMatrix` class:"
   ]
  },
  {
   "cell_type": "code",
   "execution_count": 25,
   "metadata": {},
   "outputs": [],
   "source": [
    "confusion_matrix.compute_matrix(y_test, y_predicted)"
   ]
  },
  {
   "cell_type": "markdown",
   "metadata": {},
   "source": [
    "We can use the `ConfusionMatrix` instance to see a rough ASCII version:"
   ]
  },
  {
   "cell_type": "code",
   "execution_count": 26,
   "metadata": {},
   "outputs": [
    {
     "name": "stdout",
     "output_type": "stream",
     "text": [
      "   A                Confusion Matrix            \n",
      "   c               Predicted Category           \n",
      "   t       0   1   2   3   4   5   6   7   8   9\n",
      "   u   0   0   0   0   0   0   0   0   0 980   0\n",
      "   a   1   0   0   0   0   0   0   0   0 113   0\n",
      "   l   2   0   0   0   0   0   0   0   0 103   0\n",
      "       3   0   0   0   0   0   0   0   0 101   0\n",
      "   C   4   0   0   0   0   0   0   0   0 982   0\n",
      "   a   5   0   0   0   0   0   0   0   0 892   0\n",
      "   t   6   0   0   0   0   0   0   0   0 958   0\n",
      "   e   7   0   0   0   0   0   0   0   0 102   0\n",
      "   g   8   0   0   0   0   0   0   0   0 974   0\n",
      "   o   9   0   0   0   0   0   0   0   0 100   0\n",
      "   r\n"
     ]
    }
   ],
   "source": [
    "confusion_matrix.display()"
   ]
  },
  {
   "cell_type": "markdown",
   "metadata": {},
   "source": [
    "This time, instead of logging the actual and predicted vectors, we instead pass in the entire ConfusionMatrix as the matrix:"
   ]
  },
  {
   "cell_type": "code",
   "execution_count": 27,
   "metadata": {},
   "outputs": [],
   "source": [
    "experiment.log_confusion_matrix(\n",
    "    matrix=confusion_matrix,\n",
    "    step=0,\n",
    "    title=\"Confusion Matrix, Epoch #0\",\n",
    "    file_name=\"confusion-matrix-%03d.json\" % 0,\n",
    ");"
   ]
  },
  {
   "cell_type": "markdown",
   "metadata": {},
   "source": [
    "Again, we create callbacks, and train the network (this will take just a little more time, as it is generating the assets on the fly):"
   ]
  },
  {
   "cell_type": "code",
   "execution_count": 28,
   "metadata": {},
   "outputs": [
    {
     "name": "stdout",
     "output_type": "stream",
     "text": [
      "Train on 60000 samples, validate on 10000 samples\n",
      "Epoch 1/5\n",
      "60000/60000 [==============================] - 39s 653us/sample - loss: 0.7895 - accuracy: 0.7731 - val_loss: 0.3226 - val_accuracy: 0.9046\n",
      "Epoch 2/5\n",
      "60000/60000 [==============================] - 12s 198us/sample - loss: 0.2653 - accuracy: 0.9219 - val_loss: 0.2205 - val_accuracy: 0.9327\n",
      "Epoch 3/5\n",
      "60000/60000 [==============================] - 11s 178us/sample - loss: 0.1900 - accuracy: 0.9447 - val_loss: 0.1631 - val_accuracy: 0.9525\n",
      "Epoch 4/5\n",
      "60000/60000 [==============================] - 7s 109us/sample - loss: 0.1472 - accuracy: 0.9565 - val_loss: 0.1450 - val_accuracy: 0.9567\n",
      "Epoch 5/5\n",
      "60000/60000 [==============================] - 8s 127us/sample - loss: 0.1202 - accuracy: 0.9640 - val_loss: 0.1264 - val_accuracy: 0.9618\n"
     ]
    },
    {
     "data": {
      "text/plain": [
       "<tensorflow.python.keras.callbacks.History at 0x7fa8d0612160>"
      ]
     },
     "execution_count": 28,
     "metadata": {},
     "output_type": "execute_result"
    }
   ],
   "source": [
    "callback = ConfusionMatrixCallback(experiment, x_test, y_test, confusion_matrix)\n",
    "\n",
    "model.fit(\n",
    "    x_train,\n",
    "    y_train,\n",
    "    batch_size=120,\n",
    "    epochs=5,\n",
    "    callbacks=[callback],\n",
    "    validation_data=(x_test, y_test),\n",
    ")"
   ]
  },
  {
   "cell_type": "markdown",
   "metadata": {},
   "source": [
    "We end the experiment (here you can see how many assets were uploaded):"
   ]
  },
  {
   "cell_type": "code",
   "execution_count": 29,
   "metadata": {},
   "outputs": [
    {
     "name": "stderr",
     "output_type": "stream",
     "text": [
      "COMET INFO: ----------------------------\n",
      "COMET INFO: Comet.ml Experiment Summary:\n",
      "COMET INFO:   Data:\n",
      "COMET INFO:     url: https://www.comet.ml/cometpublic/confusion-matrix/9206a808997f44d6b90a910f8dc25bc9\n",
      "COMET INFO:   Metrics [count] (min, max):\n",
      "COMET INFO:     accuracy [5]                : (0.7730500102043152, 0.9639999866485596)\n",
      "COMET INFO:     batch_accuracy [250]        : (0.09166666865348816, 0.9642958045005798)\n",
      "COMET INFO:     batch_loss [250]            : (0.03238104283809662, 2.7076375484466553)\n",
      "COMET INFO:     epoch_duration [5]          : (6.485461345997464, 39.099558262001665)\n",
      "COMET INFO:     loss [5]                    : (0.12022181416675448, 0.7895453806519508)\n",
      "COMET INFO:     step                        : 2920\n",
      "COMET INFO:     val_accuracy [5]            : (0.9046000242233276, 0.9617999792098999)\n",
      "COMET INFO:     val_loss [5]                : (0.12641188504733145, 0.3226115715056658)\n",
      "COMET INFO:     validate_batch_accuracy [45]: (0.8808943033218384, 1.0)\n",
      "COMET INFO:     validate_batch_loss [45]    : (0.028914928436279297, 0.6366378664970398)\n",
      "COMET INFO:   Other [count]:\n",
      "COMET INFO:     trainable_params: 134794\n",
      "COMET INFO:   Uploads:\n",
      "COMET INFO:     confusion-matrix: 6\n",
      "COMET INFO:     images          : 1184\n",
      "COMET INFO: ----------------------------\n",
      "COMET INFO: Uploading stats to Comet before program termination (may take several seconds)\n",
      "COMET INFO: Waiting for completion of the file uploads (may take several seconds)\n",
      "COMET INFO: Still uploading\n"
     ]
    }
   ],
   "source": [
    "experiment.end()"
   ]
  },
  {
   "cell_type": "markdown",
   "metadata": {},
   "source": [
    "And see the full confusion matrix, complete with sample images in each cell (click on a cell to see the examples):"
   ]
  },
  {
   "cell_type": "code",
   "execution_count": 30,
   "metadata": {},
   "outputs": [
    {
     "data": {
      "text/html": [
       "\n",
       "        <iframe\n",
       "            width=\"100%\"\n",
       "            height=\"800px\"\n",
       "            src=\"https://www.comet.ml/cometpublic/confusion-matrix/9206a808997f44d6b90a910f8dc25bc9?experiment-tab=confusionMatrix\"\n",
       "            frameborder=\"0\"\n",
       "            allowfullscreen\n",
       "        ></iframe>\n",
       "        "
      ],
      "text/plain": [
       "<IPython.lib.display.IFrame at 0x7fa8af3c9e10>"
      ]
     },
     "metadata": {},
     "output_type": "display_data"
    }
   ],
   "source": [
    "experiment.display(tab=\"confusion-matrices\")"
   ]
  },
  {
   "cell_type": "markdown",
   "metadata": {},
   "source": [
    "In the `index_to_example` function you can return:\n",
    "\n",
    "* an integer, representing the index\n",
    "* a string, representing text to show in the Example View\n",
    "* an URL, representing a link to show in the Example View\n",
    "* a `{\"sample\": NAME, \"assetId\": ASSET-ID}` dictionary, representing an image asset"
   ]
  },
  {
   "cell_type": "markdown",
   "metadata": {},
   "source": [
    "The `ConfusionMatrix` object allows many options, including:\n",
    "\n",
    "* automatically finding the \"most confused\" categories, if more than 25\n",
    "* limit the categories shown (use `ConfusionMatrix(selected=[...])`)\n",
    "* change the row and column labels\n",
    "* change the category labels\n",
    "* change the title\n",
    "* display text, URLs, or images in Example View"
   ]
  },
  {
   "cell_type": "markdown",
   "metadata": {},
   "source": [
    "We hope that this gives you some ideas of how you can use the Comet Confusion Matrix! If you have questions or comments, feel free to visit the [Comet issue tracker](https://github.com/comet-ml/issue-tracking) and leave us a note."
   ]
  }
 ],
 "metadata": {
  "kernelspec": {
   "display_name": "Python 3",
   "language": "python",
   "name": "python3"
  },
  "language_info": {
   "codemirror_mode": {
    "name": "ipython",
    "version": 3
   },
   "file_extension": ".py",
   "mimetype": "text/x-python",
   "name": "python",
   "nbconvert_exporter": "python",
   "pygments_lexer": "ipython3",
   "version": "3.6.9"
  }
 },
 "nbformat": 4,
 "nbformat_minor": 2
}
