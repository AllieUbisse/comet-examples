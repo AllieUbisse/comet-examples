{
 "cells": [
  {
   "cell_type": "markdown",
   "metadata": {},
   "source": [
    "<img src=\"https://comet.ml/images/logo_comet_light.png\" width=\"200px\"/>\n",
    "\n",
    "# Comet.ml Confusion Matrix\n",
    "\n",
    "*This page is available as an executable or viewable **Jupyter Notebook**:* <br/>\n",
    "<a href=\"https://mybinder.org/v2/gh/comet-ml/comet-examples/master?filepath=notebooks%2FComet-Confusion-Matrix.ipynb\" target=\"_parent\"><img align=\"left\" src=\"https://mybinder.org/badge_logo.svg\"></a>\n",
    "<a href=\"https://nbviewer.jupyter.org/github/comet-ml/comet-examples/blob/master/notebooks/Comet-Confusion-Matrix.ipynb\" target=\"_parent\"><img align=\"right\" src=\"https://raw.githubusercontent.com/jupyter/design/master/logos/Badges/nbviewer_badge.png\" width=\"109\" height=\"20\"></a>\n",
    "<br/>\n",
    "<hr/>\n",
    "Comet.ml can generate a variety of visualizations, including line charts, scatter charts, bar charts, and histograms. This notebook explores Comet's confusion matrix chart."
   ]
  },
  {
   "cell_type": "markdown",
   "metadata": {},
   "source": [
    "## Setup\n",
    "\n",
    "The first thing we'll do in this notebook tutorial is install **comet_ml** and other items that we'll need for this deomonstration. That will include **keras**, **tensorflow**, and **numpy**.\n",
    "\n",
    "First, comet_ml (you may want to do this slightly differently on your computer):"
   ]
  },
  {
   "cell_type": "code",
   "execution_count": null,
   "metadata": {},
   "outputs": [],
   "source": [
    "%pip install --upgrade --upgrade-strategy eager --user comet_ml "
   ]
  },
  {
   "cell_type": "markdown",
   "metadata": {},
   "source": [
    "And now tensorflow, keras, and numpy:"
   ]
  },
  {
   "cell_type": "code",
   "execution_count": null,
   "metadata": {},
   "outputs": [],
   "source": [
    "%pip install --upgrade --upgrade-strategy eager --user keras tensorflow numpy"
   ]
  },
  {
   "cell_type": "markdown",
   "metadata": {},
   "source": [
    "As the output may suggest, if anything got updated, it might be a good idea to restart the kernel and continue from here."
   ]
  },
  {
   "cell_type": "markdown",
   "metadata": {},
   "source": [
    "### Comet Configuration"
   ]
  },
  {
   "cell_type": "markdown",
   "metadata": {},
   "source": [
    "To run the following experiments, you'll need to set your COMET_API_KEY. The easiest way to to this is to set the values in a cell like this:\n",
    "\n",
    "```python\n",
    "import comet_ml\n",
    "\n",
    "comet_ml.save(api_key=\"...\")\n",
    "```\n",
    "where you replace the ...'s with your key.\n",
    "\n",
    "You can get your COMET_API_KEY under your quickstart link (replace YOUR_USERNAME with your Comet.ml username):\n",
    "\n",
    "https://www.comet.ml/YOUR_USERNAME/quickstart\n",
    "\n"
   ]
  },
  {
   "cell_type": "markdown",
   "metadata": {},
   "source": [
    "## Example 1: Simple Confusion Matrix\n",
    "\n",
    "First, we will create an experiment:"
   ]
  },
  {
   "cell_type": "code",
   "execution_count": 1,
   "metadata": {},
   "outputs": [],
   "source": [
    "from comet_ml import Experiment"
   ]
  },
  {
   "cell_type": "markdown",
   "metadata": {},
   "source": [
    "We're not interested at the moment in logging environment details or the code and related items, so I'll not log those:"
   ]
  },
  {
   "cell_type": "code",
   "execution_count": 2,
   "metadata": {},
   "outputs": [
    {
     "name": "stderr",
     "output_type": "stream",
     "text": [
      "COMET INFO: Experiment is live on comet.ml https://staging.comet.ml/testuser/confusion-matrix/582c05687fee4e4a94c7901e0827dfe5\n",
      "\n"
     ]
    }
   ],
   "source": [
    "experiment = Experiment(project_name=\"confusion-matrix\", log_env_details=False, log_code=False)"
   ]
  },
  {
   "cell_type": "markdown",
   "metadata": {},
   "source": [
    "As a simple example, let's consider that we have these six patterns that are our ouput targets (desired output):"
   ]
  },
  {
   "cell_type": "code",
   "execution_count": 3,
   "metadata": {},
   "outputs": [],
   "source": [
    "desired_output = [\n",
    "    [1, 0, 0],\n",
    "    [0, 1, 0],\n",
    "    [0, 0, 1],\n",
    "    [1, 0, 0],\n",
    "    [0, 1, 0],\n",
    "    [0, 0, 1],\n",
    " ]"
   ]
  },
  {
   "cell_type": "markdown",
   "metadata": {},
   "source": [
    "Imagine that this is a classification task where each target (desired output) is composed of three output values, with one unit \"on\" (set to 1) and the others \"off\" (set to 0). This is sometimes called a \"one-hot\" representation and is a common way of representing categories. There are 6 patterns, where there are 2 each for category.\n",
    "\n",
    "Now, let's make up some sample data that an model might produce. Let's say initially that the output is pretty random and doesn't even add up to 1 for each row. This may be unrealistic as many such classification tasks might use an error/loss output metric that is based on [cross entropy](http://www.cse.unsw.edu.au/~billw/cs9444/crossentropy.html) which would make the sum of values closer to 1. That might be desirable, but is not required for our example here."
   ]
  },
  {
   "cell_type": "code",
   "execution_count": 4,
   "metadata": {},
   "outputs": [],
   "source": [
    "actual_output = [\n",
    "    [0.1, 0.5, 0.4],\n",
    "    [0.2, 0.2, 0.3],\n",
    "    [0.7, 0.4, 0.5],\n",
    "    [0.3, 0.8, 0.3],\n",
    "    [0.0, 0.5, 0.3],\n",
    "    [0.1, 0.5, 0.5],\n",
    " ]"
   ]
  },
  {
   "cell_type": "markdown",
   "metadata": {},
   "source": [
    "Our goal now is to visualize how much the model mixes up the categories. That is, we'd like to see the Confusion Matrix comparing all categories against each other. We can do that easily by simply logging it with the experiment:"
   ]
  },
  {
   "cell_type": "code",
   "execution_count": 5,
   "metadata": {},
   "outputs": [],
   "source": [
    "experiment.log_confusion_matrix(desired_output, actual_output);"
   ]
  },
  {
   "cell_type": "markdown",
   "metadata": {},
   "source": [
    "That's it! We can now end the experiment and take a look at the resulting matrix:"
   ]
  },
  {
   "cell_type": "code",
   "execution_count": 6,
   "metadata": {},
   "outputs": [
    {
     "name": "stderr",
     "output_type": "stream",
     "text": [
      "COMET INFO: ----------------------------\n",
      "COMET INFO: Comet.ml Experiment Summary:\n",
      "COMET INFO:   Data:\n",
      "COMET INFO:     url: https://staging.comet.ml/testuser/confusion-matrix/582c05687fee4e4a94c7901e0827dfe5\n",
      "COMET INFO:   Uploads:\n",
      "COMET INFO:     confusion-matrix: 1\n",
      "COMET INFO: ----------------------------\n",
      "COMET INFO: Uploading stats to Comet before program termination (may take several seconds)\n"
     ]
    }
   ],
   "source": [
    "experiment.end()"
   ]
  },
  {
   "cell_type": "code",
   "execution_count": 7,
   "metadata": {},
   "outputs": [
    {
     "data": {
      "text/html": [
       "\n",
       "        <iframe\n",
       "            width=\"100%\"\n",
       "            height=\"800px\"\n",
       "            src=\"https://staging.comet.ml/testuser/confusion-matrix/582c05687fee4e4a94c7901e0827dfe5?experiment-tab=confusionMatrix\"\n",
       "            frameborder=\"0\"\n",
       "            allowfullscreen\n",
       "        ></iframe>\n",
       "        "
      ],
      "text/plain": [
       "<IPython.lib.display.IFrame at 0x7ff9c5195668>"
      ]
     },
     "metadata": {},
     "output_type": "display_data"
    }
   ],
   "source": [
    "experiment.display(tab=\"confusion-matrices\")"
   ]
  },
  {
   "cell_type": "markdown",
   "metadata": {},
   "source": [
    "## Example #2: Log Confusion Matrices During Learning"
   ]
  },
  {
   "cell_type": "code",
   "execution_count": 8,
   "metadata": {},
   "outputs": [
    {
     "name": "stderr",
     "output_type": "stream",
     "text": [
      "Using TensorFlow backend.\n"
     ]
    }
   ],
   "source": [
    "from comet_ml.utils import ConfusionMatrix\n",
    "\n",
    "from tensorflow.keras.callbacks import Callback\n",
    "from tensorflow.keras.layers import Dense\n",
    "from tensorflow.keras.models import Sequential\n",
    "from tensorflow.keras.optimizers import RMSprop\n",
    "from tensorflow.keras.utils import to_categorical\n",
    "\n",
    "from keras.datasets import mnist\n"
   ]
  },
  {
   "cell_type": "code",
   "execution_count": 9,
   "metadata": {},
   "outputs": [],
   "source": [
    "num_classes = 10\n",
    "\n",
    "# the data, shuffled and split between train and test sets\n",
    "(x_train, y_train), (x_test, y_test) = mnist.load_data()\n",
    "\n",
    "x_train = x_train.reshape(60000, 784)\n",
    "x_test = x_test.reshape(10000, 784)\n",
    "x_train = x_train.astype(\"float32\")\n",
    "x_test = x_test.astype(\"float32\")\n",
    "x_train /= 255\n",
    "x_test /= 255\n",
    "\n",
    "# convert class vectors to binary class matrices\n",
    "y_train = to_categorical(y_train, num_classes)\n",
    "y_test = to_categorical(y_test, num_classes)"
   ]
  },
  {
   "cell_type": "code",
   "execution_count": 10,
   "metadata": {},
   "outputs": [],
   "source": [
    "def create_model():\n",
    "    model = Sequential()\n",
    "    model.add(Dense(128, activation=\"sigmoid\", input_shape=(784,)))\n",
    "    model.add(Dense(128, activation=\"sigmoid\"))\n",
    "    model.add(Dense(128, activation=\"sigmoid\"))\n",
    "    model.add(Dense(10, activation=\"softmax\"))\n",
    "    model.compile(\n",
    "        loss=\"categorical_crossentropy\", optimizer=RMSprop(), metrics=[\"accuracy\"]\n",
    "    )\n",
    "    return model"
   ]
  },
  {
   "cell_type": "code",
   "execution_count": 11,
   "metadata": {},
   "outputs": [],
   "source": [
    "class ConfusionMatrixCallback(Callback):\n",
    "    def __init__(self, experiment, inputs, targets):\n",
    "        self.experiment = experiment\n",
    "        self.inputs = inputs\n",
    "        self.targets = targets\n",
    "\n",
    "    def on_epoch_end(self, epoch, logs={}):\n",
    "        predicted = self.model.predict(self.inputs)\n",
    "        self.experiment.log_confusion_matrix(\n",
    "            self.targets,\n",
    "            predicted,\n",
    "            title=\"Confusion Matrix, Epoch #%d\" % (epoch + 1),\n",
    "            file_name=\"confusion-matrix-%03d.json\" % (epoch + 1),\n",
    "        )"
   ]
  },
  {
   "cell_type": "code",
   "execution_count": 12,
   "metadata": {},
   "outputs": [
    {
     "name": "stderr",
     "output_type": "stream",
     "text": [
      "COMET INFO: Experiment is live on comet.ml https://staging.comet.ml/testuser/confusion-matrix/e0d1d179cc0e4066b0557b2f39ffce2f\n",
      "\n"
     ]
    }
   ],
   "source": [
    "experiment = Experiment(project_name=\"confusion-matrix\", log_env_details=False, log_code=False)"
   ]
  },
  {
   "cell_type": "markdown",
   "metadata": {},
   "source": [
    "Before any training:"
   ]
  },
  {
   "cell_type": "code",
   "execution_count": 13,
   "metadata": {},
   "outputs": [],
   "source": [
    "model = create_model()\n",
    "\n",
    "y_predicted = model.predict(x_test)\n",
    "\n",
    "experiment.log_confusion_matrix(\n",
    "    y_test,\n",
    "    y_predicted,\n",
    "    step=0,\n",
    "    title=\"Confusion Matrix, Epoch #0\",\n",
    "    file_name=\"confusion-matrix-%03d.json\" % 0,\n",
    ");"
   ]
  },
  {
   "cell_type": "code",
   "execution_count": 14,
   "metadata": {},
   "outputs": [
    {
     "name": "stderr",
     "output_type": "stream",
     "text": [
      "COMET INFO: Ignoring automatic log_parameter('verbose') because 'keras:verbose' is in COMET_LOGGING_PARAMETERS_IGNORE\n",
      "COMET INFO: Ignoring automatic log_parameter('do_validation') because 'keras:do_validation' is in COMET_LOGGING_PARAMETERS_IGNORE\n"
     ]
    },
    {
     "name": "stdout",
     "output_type": "stream",
     "text": [
      "Train on 60000 samples, validate on 10000 samples\n",
      "Epoch 1/5\n"
     ]
    },
    {
     "name": "stderr",
     "output_type": "stream",
     "text": [
      "COMET INFO: Ignoring automatic log_metric('batch_batch') because 'keras:batch_batch' is in COMET_LOGGING_METRICS_IGNORE\n",
      "COMET INFO: Ignoring automatic log_metric('batch_size') because 'keras:batch_size' is in COMET_LOGGING_METRICS_IGNORE\n"
     ]
    },
    {
     "name": "stdout",
     "output_type": "stream",
     "text": [
      "60000/60000 [==============================] - 6s 104us/sample - loss: 0.7737 - accuracy: 0.7761 - val_loss: 0.3231 - val_accuracy: 0.9052\n",
      "Epoch 2/5\n",
      "60000/60000 [==============================] - 7s 114us/sample - loss: 0.2722 - accuracy: 0.9203 - val_loss: 0.2132 - val_accuracy: 0.9387\n",
      "Epoch 3/5\n",
      "60000/60000 [==============================] - 5s 89us/sample - loss: 0.1893 - accuracy: 0.9442 - val_loss: 0.1673 - val_accuracy: 0.9502\n",
      "Epoch 4/5\n",
      "60000/60000 [==============================] - 7s 111us/sample - loss: 0.1469 - accuracy: 0.9562 - val_loss: 0.1427 - val_accuracy: 0.9578\n",
      "Epoch 5/5\n",
      "60000/60000 [==============================] - 7s 112us/sample - loss: 0.1200 - accuracy: 0.9639 - val_loss: 0.1248 - val_accuracy: 0.9639\n"
     ]
    },
    {
     "data": {
      "text/plain": [
       "<tensorflow.python.keras.callbacks.History at 0x7ff9496acd30>"
      ]
     },
     "execution_count": 14,
     "metadata": {},
     "output_type": "execute_result"
    }
   ],
   "source": [
    "callback = ConfusionMatrixCallback(experiment, x_test, y_test)\n",
    "\n",
    "model.fit(\n",
    "    x_train,\n",
    "    y_train,\n",
    "    batch_size=120,\n",
    "    epochs=5,\n",
    "    callbacks=[callback],\n",
    "    validation_data=(x_test, y_test),\n",
    ")"
   ]
  },
  {
   "cell_type": "code",
   "execution_count": 15,
   "metadata": {},
   "outputs": [
    {
     "name": "stderr",
     "output_type": "stream",
     "text": [
      "COMET INFO: ----------------------------\n",
      "COMET INFO: Comet.ml Experiment Summary:\n",
      "COMET INFO:   Data:\n",
      "COMET INFO:     url: https://staging.comet.ml/testuser/confusion-matrix/e0d1d179cc0e4066b0557b2f39ffce2f\n",
      "COMET INFO:   Metrics [count] (min, max):\n",
      "COMET INFO:     accuracy [5]                : (0.7760833501815796, 0.963866651058197)\n",
      "COMET INFO:     batch_accuracy [250]        : (0.07500000298023224, 0.9750000238418579)\n",
      "COMET INFO:     batch_loss [250]            : (0.02728164941072464, 2.5384292602539062)\n",
      "COMET INFO:     epoch_duration [5]          : (5.349212733999593, 6.861876343999029)\n",
      "COMET INFO:     loss [5]                    : (0.12004035719856619, 0.7737466164529324)\n",
      "COMET INFO:     step                        : 2920\n",
      "COMET INFO:     val_accuracy [5]            : (0.9052000045776367, 0.9639000296592712)\n",
      "COMET INFO:     val_loss [5]                : (0.1247768894834444, 0.32307542380690574)\n",
      "COMET INFO:     validate_batch_accuracy [45]: (0.880081295967102, 1.0)\n",
      "COMET INFO:     validate_batch_loss [45]    : (0.03055317886173725, 0.6478360295295715)\n",
      "COMET INFO:   Other [count]:\n",
      "COMET INFO:     trainable_params: 134794\n",
      "COMET INFO:   Uploads:\n",
      "COMET INFO:     confusion-matrix: 6\n",
      "COMET INFO: ----------------------------\n",
      "COMET INFO: Uploading stats to Comet before program termination (may take several seconds)\n"
     ]
    }
   ],
   "source": [
    "experiment.end()"
   ]
  },
  {
   "cell_type": "code",
   "execution_count": 16,
   "metadata": {},
   "outputs": [
    {
     "data": {
      "text/html": [
       "\n",
       "        <iframe\n",
       "            width=\"100%\"\n",
       "            height=\"800px\"\n",
       "            src=\"https://staging.comet.ml/testuser/confusion-matrix/e0d1d179cc0e4066b0557b2f39ffce2f?experiment-tab=confusionMatrix\"\n",
       "            frameborder=\"0\"\n",
       "            allowfullscreen\n",
       "        ></iframe>\n",
       "        "
      ],
      "text/plain": [
       "<IPython.lib.display.IFrame at 0x7ff94a9926d8>"
      ]
     },
     "metadata": {},
     "output_type": "display_data"
    }
   ],
   "source": [
    "experiment.display(tab=\"confusion-matrices\")"
   ]
  },
  {
   "cell_type": "markdown",
   "metadata": {},
   "source": [
    "## Example 3: Reuse ConfusionMatrix instance"
   ]
  },
  {
   "cell_type": "code",
   "execution_count": 17,
   "metadata": {},
   "outputs": [],
   "source": [
    "def index_to_example(index):\n",
    "    image_array = x_test[index]\n",
    "    image_name = \"confusion-matrix-%05d.png\" % index\n",
    "    results = experiment.log_image(\n",
    "        image_array, name=image_name, image_shape=(28, 28, 1)\n",
    "    )\n",
    "    # Return sample, assetId (index is added automatically)\n",
    "    return {\"sample\": image_name, \"assetId\": results[\"imageId\"]}\n",
    "\n",
    "\n",
    "class ConfusionMatrixCallback(Callback):\n",
    "    def __init__(self, experiment, inputs, targets, cm):\n",
    "        self.experiment = experiment\n",
    "        self.inputs = inputs\n",
    "        self.targets = targets\n",
    "        self.cm = cm\n",
    "\n",
    "    def on_epoch_end(self, epoch, logs={}):\n",
    "        predicted = self.model.predict(self.inputs)\n",
    "        self.cm.compute_matrix(self.targets, predicted)\n",
    "        self.experiment.log_confusion_matrix(\n",
    "            matrix=self.cm,\n",
    "            title=\"Confusion Matrix, Epoch #%d\" % (epoch + 1),\n",
    "            file_name=\"confusion-matrix-%03d.json\" % (epoch + 1),\n",
    "        )"
   ]
  },
  {
   "cell_type": "code",
   "execution_count": 18,
   "metadata": {},
   "outputs": [
    {
     "name": "stderr",
     "output_type": "stream",
     "text": [
      "COMET INFO: Experiment is live on comet.ml https://staging.comet.ml/testuser/confusion-matrix/d9f38aee643b4599a1cd2e25b6337ded\n",
      "\n"
     ]
    }
   ],
   "source": [
    "experiment = Experiment(project_name=\"confusion-matrix\", log_env_details=False, log_code=False)"
   ]
  },
  {
   "cell_type": "code",
   "execution_count": 19,
   "metadata": {},
   "outputs": [],
   "source": [
    "model = create_model()"
   ]
  },
  {
   "cell_type": "code",
   "execution_count": 20,
   "metadata": {},
   "outputs": [],
   "source": [
    "# Before any training:\n",
    "y_predicted = model.predict(x_test)"
   ]
  },
  {
   "cell_type": "code",
   "execution_count": 21,
   "metadata": {},
   "outputs": [],
   "source": [
    "CM = ConfusionMatrix(index_to_example_function=index_to_example)"
   ]
  },
  {
   "cell_type": "code",
   "execution_count": 23,
   "metadata": {},
   "outputs": [],
   "source": [
    "CM.compute_matrix(y_test, y_predicted)"
   ]
  },
  {
   "cell_type": "code",
   "execution_count": 24,
   "metadata": {},
   "outputs": [
    {
     "name": "stdout",
     "output_type": "stream",
     "text": [
      "   A                Confusion Matrix            \n",
      "   c               Predicted Category           \n",
      "   t       0   1   2   3   4   5   6   7   8   9\n",
      "   u   0   0   0   0   0   0   0   0   0 980   0\n",
      "   a   1   0   0   0   0   0   0   0   0 113   0\n",
      "   l   2   0   0   0   0   0   0   0   0 103   0\n",
      "       3   0   0   0   0   0   0   0   0 101   0\n",
      "   C   4   0   0   0   0   0   0   0   0 982   0\n",
      "   a   5   0   0   0   0   0   0   0   0 892   0\n",
      "   t   6   0   0   0   0   0   0   0   0 958   0\n",
      "   e   7   0   0   0   0   0   0   0   0 102   0\n",
      "   g   8   0   0   0   0   0   0   0   0 974   0\n",
      "   o   9   0   0   0   0   0   0   0   0 100   0\n",
      "   r\n"
     ]
    }
   ],
   "source": [
    "CM.display()"
   ]
  },
  {
   "cell_type": "code",
   "execution_count": 25,
   "metadata": {},
   "outputs": [
    {
     "data": {
      "text/plain": [
       "{'web': 'https://staging.comet.ml/api/asset/download?assetId=8cfb31ffafb24946892d1e97bb50f971&experimentKey=d9f38aee643b4599a1cd2e25b6337ded',\n",
       " 'api': 'https://staging.comet.ml/api/rest/v1/asset/get-asset?assetId=8cfb31ffafb24946892d1e97bb50f971&experimentKey=d9f38aee643b4599a1cd2e25b6337ded',\n",
       " 'assetId': '8cfb31ffafb24946892d1e97bb50f971'}"
      ]
     },
     "execution_count": 25,
     "metadata": {},
     "output_type": "execute_result"
    }
   ],
   "source": [
    "experiment.log_confusion_matrix(\n",
    "    matrix=CM,\n",
    "    step=0,\n",
    "    title=\"Confusion Matrix, Epoch #0\",\n",
    "    file_name=\"confusion-matrix-%03d.json\" % 0,\n",
    ");"
   ]
  },
  {
   "cell_type": "code",
   "execution_count": 26,
   "metadata": {},
   "outputs": [
    {
     "name": "stdout",
     "output_type": "stream",
     "text": [
      "Train on 60000 samples, validate on 10000 samples\n",
      "Epoch 1/5\n",
      "60000/60000 [==============================] - 37s 625us/sample - loss: 0.7795 - accuracy: 0.7755 - val_loss: 0.3053 - val_accuracy: 0.9118\n",
      "Epoch 2/5\n",
      "60000/60000 [==============================] - 11s 176us/sample - loss: 0.2609 - accuracy: 0.9229 - val_loss: 0.2181 - val_accuracy: 0.9350\n",
      "Epoch 3/5\n",
      "60000/60000 [==============================] - 8s 140us/sample - loss: 0.1884 - accuracy: 0.9439 - val_loss: 0.1731 - val_accuracy: 0.9489\n",
      "Epoch 4/5\n",
      "60000/60000 [==============================] - 8s 137us/sample - loss: 0.1472 - accuracy: 0.9555 - val_loss: 0.1544 - val_accuracy: 0.9536\n",
      "Epoch 5/5\n",
      "60000/60000 [==============================] - 9s 143us/sample - loss: 0.1203 - accuracy: 0.9641 - val_loss: 0.1286 - val_accuracy: 0.9632\n"
     ]
    },
    {
     "data": {
      "text/plain": [
       "<tensorflow.python.keras.callbacks.History at 0x7ff94976c400>"
      ]
     },
     "execution_count": 26,
     "metadata": {},
     "output_type": "execute_result"
    }
   ],
   "source": [
    "callback = ConfusionMatrixCallback(experiment, x_test, y_test, CM)\n",
    "\n",
    "model.fit(\n",
    "    x_train,\n",
    "    y_train,\n",
    "    batch_size=120,\n",
    "    epochs=5,\n",
    "    callbacks=[callback],\n",
    "    validation_data=(x_test, y_test),\n",
    ")"
   ]
  },
  {
   "cell_type": "code",
   "execution_count": 27,
   "metadata": {},
   "outputs": [
    {
     "name": "stderr",
     "output_type": "stream",
     "text": [
      "COMET INFO: ----------------------------\n",
      "COMET INFO: Comet.ml Experiment Summary:\n",
      "COMET INFO:   Data:\n",
      "COMET INFO:     url: https://staging.comet.ml/testuser/confusion-matrix/d9f38aee643b4599a1cd2e25b6337ded\n",
      "COMET INFO:   Metrics [count] (min, max):\n",
      "COMET INFO:     accuracy [5]                : (0.7754833102226257, 0.9641166925430298)\n",
      "COMET INFO:     batch_accuracy [250]        : (0.0833333358168602, 0.9666666388511658)\n",
      "COMET INFO:     batch_loss [250]            : (0.046925898641347885, 2.69844913482666)\n",
      "COMET INFO:     epoch_duration [5]          : (8.152320004999638, 37.434222419000434)\n",
      "COMET INFO:     loss [5]                    : (0.12025839633122086, 0.7795354133248329)\n",
      "COMET INFO:     step                        : 2920\n",
      "COMET INFO:     val_accuracy [5]            : (0.9118000268936157, 0.9631999731063843)\n",
      "COMET INFO:     val_loss [5]                : (0.12855259421095253, 0.3052644800543785)\n",
      "COMET INFO:     validate_batch_accuracy [45]: (0.8884146213531494, 1.0)\n",
      "COMET INFO:     validate_batch_loss [45]    : (0.02970197983086109, 0.5757723450660706)\n",
      "COMET INFO:   Other [count]:\n",
      "COMET INFO:     trainable_params: 134794\n",
      "COMET INFO:   Uploads:\n",
      "COMET INFO:     confusion-matrix: 6\n",
      "COMET INFO:     images          : 1151\n",
      "COMET INFO: ----------------------------\n",
      "COMET INFO: Uploading stats to Comet before program termination (may take several seconds)\n"
     ]
    }
   ],
   "source": [
    "experiment.end()"
   ]
  },
  {
   "cell_type": "code",
   "execution_count": 29,
   "metadata": {},
   "outputs": [
    {
     "data": {
      "text/html": [
       "\n",
       "        <iframe\n",
       "            width=\"100%\"\n",
       "            height=\"800px\"\n",
       "            src=\"https://staging.comet.ml/testuser/confusion-matrix/d9f38aee643b4599a1cd2e25b6337ded?experiment-tab=confusionMatrix\"\n",
       "            frameborder=\"0\"\n",
       "            allowfullscreen\n",
       "        ></iframe>\n",
       "        "
      ],
      "text/plain": [
       "<IPython.lib.display.IFrame at 0x7ff938012518>"
      ]
     },
     "metadata": {},
     "output_type": "display_data"
    }
   ],
   "source": [
    "experiment.display(tab=\"confusion-matrices\")"
   ]
  },
  {
   "cell_type": "markdown",
   "metadata": {},
   "source": [
    "Data structure/asset type: \"confusion-matrix\"\n",
    "\n",
    "JSON format:\n",
    "\n",
    "```\n",
    "{\n",
    "    \"version\": 1,\n",
    "    \"title\": \"Confusion Matrix\",\n",
    "    \"labels\": <List of N strings>,\n",
    "    \"matrix\": <N x N list of lists of integers, [ROW][COL] order>,\n",
    "    \"rowLabel\": \"Actual Category\",\n",
    "    \"columnLabel\": \"Predicted Category\",\n",
    "    \"maxSamplesPerCell\": 25,\n",
    "    \"sampleMatrix\": <N x N list of list of cells, or null>,\n",
    "    \"type\": \"integer\" | \"string\" | \"link\" | \"image\",\n",
    "}\n",
    "```\n",
    "\n",
    "The matrix is the [ROW][COL] integers of confusion. labels are for\n",
    "rows (top to bottom) and cols (left to right). The diagonal (top-left\n",
    "to bottom-right) are the \"correct\" cells (predicted and true are the\n",
    "same).\n",
    "\n",
    "If the sampleMatrix is null, there are no examples.\n",
    "\n",
    "A cell can be null, or a dictionary/object with keys/values:\n",
    "\n",
    "* index: an integer representing example number\n",
    "* sample: string\n",
    "* assetId: string or null (null if not asset)\n",
    "\n",
    "When type == \"integer\", the cell is a list of\n",
    "associated example numbers (usually the index, but\n",
    "can be anything.)\n",
    "\n",
    "Otherwise:\n",
    "\n",
    "* when type == \"string\", s is the string to show\n",
    "* when type == \"link\", s is a URL\n",
    "* when type == \"image\", s is the name of the asset, a is assetId\n",
    "\n",
    "When the asset is logged, it is logged with:\n",
    "\n",
    "* step\n",
    "* file_name (\"confusion-matrix.json\")\n",
    "* asset_type (\"confusion-matrix\")"
   ]
  },
  {
   "cell_type": "markdown",
   "metadata": {},
   "source": [
    "We hope that this gives you some ideas of how you can use the Comet Confusion Matrix! If you have questions or comments, feel free to visit the [Comet issue tracker](https://github.com/comet-ml/issue-tracking) and leave us a note."
   ]
  }
 ],
 "metadata": {
  "kernelspec": {
   "display_name": "Python 3",
   "language": "python",
   "name": "python3"
  },
  "language_info": {
   "codemirror_mode": {
    "name": "ipython",
    "version": 3
   },
   "file_extension": ".py",
   "mimetype": "text/x-python",
   "name": "python",
   "nbconvert_exporter": "python",
   "pygments_lexer": "ipython3",
   "version": "3.6.9"
  }
 },
 "nbformat": 4,
 "nbformat_minor": 2
}
