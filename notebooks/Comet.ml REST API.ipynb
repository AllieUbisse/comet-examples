{
 "cells": [
  {
   "cell_type": "markdown",
   "metadata": {},
   "source": [
    "<img src=\"https://comet.ml/images/logo_comet_light.png\" width=\"200px\"/>\n",
    "\n",
    "# Comet.ml REST API\n",
    "\n",
    "Comet.ml has an extensive interface to all of your data using a [REST API](https://en.wikipedia.org/wiki/Representational_state_transfer) through [Comet.ml endpoints](https://www.comet.ml/docs/rest-api/endpoints/). Now, you can access this information easily through the Comet.ml Python SDK. Requires version comet_ml version 1.0.40 or greater.\n",
    "\n",
    "## Setup\n",
    "\n",
    "To run the following experiments, you'll need to set your COMET_API_KEY and COMET_REST_API_KEY. The easiest way to to this is to set the values in a cell like this:\n",
    "\n",
    "```python\n",
    "%%writefile .env\n",
    "COMET_API_KEY=\"...\"\n",
    "COMET_REST_API_KEY=\"..\"\n",
    "```\n",
    "where you replace the ...'s with your keys.\n",
    "\n",
    "You can get your COMET_API_KEY under your quickstart link (replace YOURID with your Comet.ml ID):\n",
    "\n",
    "https://www.comet.ml/YOURID/quickstart\n",
    "\n",
    "You can get your COMET_REST_API_KEY under your settings (replace YOURID with your Comet.ml ID):\n",
    "\n",
    "https://www.comet.ml/YOURID/settings/account\n",
    "\n",
    "## Quick Overview\n",
    "\n",
    "To access the REST API through the comet.ml SDK, you will need to make an API() instance. First, we import the API class, and other libraries we will need:"
   ]
  },
  {
   "cell_type": "code",
   "execution_count": 1,
   "metadata": {},
   "outputs": [],
   "source": [
    "from comet_ml import API\n",
    "\n",
    "import matplotlib.pyplot as plt\n",
    "%matplotlib inline"
   ]
  },
  {
   "cell_type": "markdown",
   "metadata": {},
   "source": [
    "and creat the API instance:"
   ]
  },
  {
   "cell_type": "code",
   "execution_count": 2,
   "metadata": {},
   "outputs": [],
   "source": [
    "api = API()"
   ]
  },
  {
   "cell_type": "markdown",
   "metadata": {},
   "source": [
    "Using the `api` instance, you can get the name of your workspaces:"
   ]
  },
  {
   "cell_type": "code",
   "execution_count": 3,
   "metadata": {},
   "outputs": [
    {
     "data": {
      "text/plain": [
       "['dsblank']"
      ]
     },
     "execution_count": 3,
     "metadata": {},
     "output_type": "execute_result"
    }
   ],
   "source": [
    "api.workspaces"
   ]
  },
  {
   "cell_type": "markdown",
   "metadata": {},
   "source": [
    "If you reference your workspace by name from api.workspaces, you'll see your projects:"
   ]
  },
  {
   "cell_type": "code",
   "execution_count": 4,
   "metadata": {},
   "outputs": [
    {
     "data": {
      "text/plain": [
       "['pytorch', 'mnist-001', 'visualizations', 'testing', 'pypy', 'tensorflow', 'chainer', 'mnist-014', 'optimizer', 'general', 'jupyter-experiments', 'keras', 'fastai']"
      ]
     },
     "execution_count": 4,
     "metadata": {},
     "output_type": "execute_result"
    }
   ],
   "source": [
    "api.workspaces[\"dsblank\"]"
   ]
  },
  {
   "cell_type": "markdown",
   "metadata": {},
   "source": [
    "Or, get the projects from another user's workspace:"
   ]
  },
  {
   "cell_type": "code",
   "execution_count": 5,
   "metadata": {},
   "outputs": [
    {
     "data": {
      "text/plain": [
       "['fasttext', 'comet-notebooks', 'parameter-space-exploration', 'home-credit']"
      ]
     },
     "execution_count": 5,
     "metadata": {},
     "output_type": "execute_result"
    }
   ],
   "source": [
    "api.workspaces[\"cometpublic\"]"
   ]
  },
  {
   "cell_type": "markdown",
   "metadata": {},
   "source": [
    "Using the same method, you can refer to a project by name:"
   ]
  },
  {
   "cell_type": "code",
   "execution_count": 6,
   "metadata": {},
   "outputs": [
    {
     "data": {
      "text/plain": [
       "['5dc346a883964bd2b8864c40940fd864', '351afa6e498f452ca743c19d3e131767', '72b89ab961cd42db91535026687f86fb', 'd5d3cf989efd4b5f8841bd64fee5f817', '12ab8382de254a9bb678bf3d6131e255', '51cf6e588a3346cdb560fd0c09d49610']"
      ]
     },
     "execution_count": 6,
     "metadata": {},
     "output_type": "execute_result"
    }
   ],
   "source": [
    "api.workspaces[\"dsblank\"][\"keras\"]"
   ]
  },
  {
   "cell_type": "markdown",
   "metadata": {},
   "source": [
    "Or, using the slash delimiter:"
   ]
  },
  {
   "cell_type": "code",
   "execution_count": 7,
   "metadata": {},
   "outputs": [
    {
     "data": {
      "text/plain": [
       "['5dc346a883964bd2b8864c40940fd864', '351afa6e498f452ca743c19d3e131767', '72b89ab961cd42db91535026687f86fb', 'd5d3cf989efd4b5f8841bd64fee5f817', '12ab8382de254a9bb678bf3d6131e255', '51cf6e588a3346cdb560fd0c09d49610']"
      ]
     },
     "execution_count": 7,
     "metadata": {},
     "output_type": "execute_result"
    }
   ],
   "source": [
    "api.workspaces[\"dsblank/keras\"]"
   ]
  },
  {
   "cell_type": "markdown",
   "metadata": {},
   "source": [
    "And one more level, get the details of an experiment:"
   ]
  },
  {
   "cell_type": "code",
   "execution_count": 8,
   "metadata": {},
   "outputs": [
    {
     "data": {
      "text/plain": [
       "<Experiment 'dsblank/keras/51cf6e588a3346cdb560fd0c09d49610'>"
      ]
     },
     "execution_count": 8,
     "metadata": {},
     "output_type": "execute_result"
    }
   ],
   "source": [
    "api.workspaces[\"dsblank\"][\"keras\"]['51cf6e588a3346cdb560fd0c09d49610']"
   ]
  },
  {
   "cell_type": "markdown",
   "metadata": {},
   "source": [
    "Or, again using the slash shorthand:"
   ]
  },
  {
   "cell_type": "code",
   "execution_count": 9,
   "metadata": {},
   "outputs": [
    {
     "data": {
      "text/plain": [
       "<Experiment 'dsblank/keras/51cf6e588a3346cdb560fd0c09d49610'>"
      ]
     },
     "execution_count": 9,
     "metadata": {},
     "output_type": "execute_result"
    }
   ],
   "source": [
    "api.workspaces[\"dsblank/keras/51cf6e588a3346cdb560fd0c09d49610\"]"
   ]
  },
  {
   "cell_type": "markdown",
   "metadata": {},
   "source": [
    "Let's get the experiment and save it to a variable named `exp`:"
   ]
  },
  {
   "cell_type": "code",
   "execution_count": 10,
   "metadata": {},
   "outputs": [],
   "source": [
    "exp = api.workspaces[\"cometpublic/comet-notebooks/d21f94a1c71841d2961da1e6ddb5ab20\"]"
   ]
  },
  {
   "cell_type": "code",
   "execution_count": 11,
   "metadata": {},
   "outputs": [
    {
     "data": {
      "text/plain": [
       "<Experiment 'cometpublic/comet-notebooks/d21f94a1c71841d2961da1e6ddb5ab20'>"
      ]
     },
     "execution_count": 11,
     "metadata": {},
     "output_type": "execute_result"
    }
   ],
   "source": [
    "exp"
   ]
  },
  {
   "cell_type": "markdown",
   "metadata": {},
   "source": [
    "There are a number of items you get from the Experiment:"
   ]
  },
  {
   "cell_type": "code",
   "execution_count": 12,
   "metadata": {},
   "outputs": [
    {
     "name": "stdout",
     "output_type": "stream",
     "text": [
      "Help on Experiment in module comet_ml.api object:\n",
      "\n",
      "class Experiment(builtins.object)\n",
      " |  Methods defined here:\n",
      " |  \n",
      " |  __init__(self, api, workspace, project, experiment_key)\n",
      " |      REST API Experiment interface.\n",
      " |  \n",
      " |  __repr__(self)\n",
      " |      Return repr(self).\n",
      " |  \n",
      " |  display(self, clear=False, wait=True, new=0, autoraise=True)\n",
      " |      Show the comet.ml experiment page in an IFrame in a\n",
      " |      Jupyter notebook or Jupyter lab, OR open a browser\n",
      " |      window or tab.\n",
      " |      \n",
      " |      For Jupyter environments:\n",
      " |      \n",
      " |      Args:\n",
      " |          clear: to clear the output area, use clear=True\n",
      " |          wait: to wait for the next displayed item, use\n",
      " |                wait=True (cuts down on flashing)\n",
      " |      \n",
      " |      For non-Jupyter environments:\n",
      " |      \n",
      " |      Args:\n",
      " |          new: open a new browser window if new=1, otherwise re-use\n",
      " |               existing window/tab\n",
      " |          autoraise: make the browser tab/window active\n",
      " |  \n",
      " |  get_asset(self, asset_id)\n",
      " |      Get an asset from this experiment.\n",
      " |  \n",
      " |  ----------------------------------------------------------------------\n",
      " |  Data descriptors defined here:\n",
      " |  \n",
      " |  __dict__\n",
      " |      dictionary for instance variables (if defined)\n",
      " |  \n",
      " |  __weakref__\n",
      " |      list of weak references to the object (if defined)\n",
      " |  \n",
      " |  asset_list\n",
      " |      Get the asssociated asset-list for this experiment.\n",
      " |  \n",
      " |  code\n",
      " |      Get the associated source code for this experiment.\n",
      " |  \n",
      " |  data\n",
      " |      The experiment data in JSON-like format.\n",
      " |  \n",
      " |  existing_experiment\n",
      " |      Get an ExistingExperiment() object for this\n",
      " |      experiment.\n",
      " |  \n",
      " |  git_metadata\n",
      " |      Get the asssociated git-metadata for this experiment.\n",
      " |  \n",
      " |  git_patch\n",
      " |      Get the asssociated git-patch for this experiment.\n",
      " |  \n",
      " |  graph\n",
      " |      Get the associated graph/model description for this\n",
      " |      experiment.\n",
      " |  \n",
      " |  html\n",
      " |      Get the HTML associated with this experiment.\n",
      " |  \n",
      " |  images\n",
      " |      Get the associated image data for this experiment.\n",
      " |      \n",
      " |      The image data comes as a dictionary with the following\n",
      " |      keys:\n",
      " |      \n",
      " |          apiKey\n",
      " |          runId\n",
      " |          experimentKey\n",
      " |          projectId\n",
      " |          figCounter\n",
      " |          figName\n",
      " |          step\n",
      " |          runContext\n",
      " |          fileName\n",
      " |          imagePath\n",
      " |  \n",
      " |  installed_packages\n",
      " |      Get the associated installed packages for this experiment.\n",
      " |  \n",
      " |  metrics\n",
      " |      Get the asssociated metrics for this experiment.\n",
      " |  \n",
      " |  metrics_raw\n",
      " |      Get the asssociated raw metrics for this experiment.\n",
      " |  \n",
      " |  os_packages\n",
      " |      Get the associated installed packages for this experiment.\n",
      " |  \n",
      " |  other\n",
      " |      Get the asssociated other items (things logged with `log_other`)\n",
      " |      for this experiment.\n",
      " |  \n",
      " |  parameters\n",
      " |      Get the asssociated parameters for this experiment.\n",
      " |  \n",
      " |  stdout\n",
      " |      Get the associated standard output for this experiment.\n",
      "\n"
     ]
    }
   ],
   "source": [
    "help(exp)"
   ]
  },
  {
   "cell_type": "markdown",
   "metadata": {},
   "source": [
    "For example, we can explore the `other` property, which shows items saved with Experiment.log_other(NAME, VALUE):"
   ]
  },
  {
   "cell_type": "code",
   "execution_count": 13,
   "metadata": {},
   "outputs": [
    {
     "data": {
      "text/plain": [
       "[{'name': 'Name',\n",
       "  'valueMax': 'example 002',\n",
       "  'valueMin': 'example 002',\n",
       "  'valueCurrent': 'example 002',\n",
       "  'timestampMax': 1544533427335,\n",
       "  'timestampMin': 1544533427335,\n",
       "  'timestampCurrent': 1544533427335}]"
      ]
     },
     "execution_count": 13,
     "metadata": {},
     "output_type": "execute_result"
    }
   ],
   "source": [
    "exp.other"
   ]
  },
  {
   "cell_type": "markdown",
   "metadata": {},
   "source": [
    "In this example, we see that the experiment has the `Name` \"example 001\". We can use `Name` to also look up experiments:"
   ]
  },
  {
   "cell_type": "code",
   "execution_count": 14,
   "metadata": {},
   "outputs": [
    {
     "data": {
      "text/plain": [
       "<Experiment 'dsblank/keras/example 001'>"
      ]
     },
     "execution_count": 14,
     "metadata": {},
     "output_type": "execute_result"
    }
   ],
   "source": [
    "exp = api.workspaces[\"dsblank/keras/example 001\"]\n",
    "exp"
   ]
  },
  {
   "cell_type": "markdown",
   "metadata": {},
   "source": [
    "Perhaps one of the most useful abilities for the REST API is to access your experiment's data in order to create a variation of a plot. To access the raw metric data, use the `.metrics_raw` property of the experiment:"
   ]
  },
  {
   "cell_type": "code",
   "execution_count": 15,
   "metadata": {},
   "outputs": [
    {
     "data": {
      "text/plain": [
       "2040"
      ]
     },
     "execution_count": 15,
     "metadata": {},
     "output_type": "execute_result"
    }
   ],
   "source": [
    "len(exp.metrics_raw)"
   ]
  },
  {
   "cell_type": "markdown",
   "metadata": {},
   "source": [
    "Thus, there were 2040 metrics logged during the training of this experiment. We can get the first using indexing with an integer:"
   ]
  },
  {
   "cell_type": "code",
   "execution_count": 16,
   "metadata": {},
   "outputs": [
    {
     "data": {
      "text/plain": [
       "{'metricName': 'acc',\n",
       " 'metricValue': '0.09166666865348816',\n",
       " 'timestamp': 1542738532966,\n",
       " 'step': 1,\n",
       " 'runContext': None,\n",
       " 'offset': 21}"
      ]
     },
     "execution_count": 16,
     "metadata": {},
     "output_type": "execute_result"
    }
   ],
   "source": [
    "exp.metrics_raw[0]"
   ]
  },
  {
   "cell_type": "markdown",
   "metadata": {},
   "source": [
    "That shows that the \"acc\" (accuracy) metric had a value of about 0.09 at step 1 of the experiment.\n",
    "\n",
    "We can also use a string as an index to query all of the dictionaries in `metrics_raw` to only give those values at each step, like so:"
   ]
  },
  {
   "cell_type": "code",
   "execution_count": 17,
   "metadata": {},
   "outputs": [],
   "source": [
    "acc_metrics = exp.metrics_raw[\"acc\"]"
   ]
  },
  {
   "cell_type": "code",
   "execution_count": 18,
   "metadata": {},
   "outputs": [
    {
     "data": {
      "text/plain": [
       "510"
      ]
     },
     "execution_count": 18,
     "metadata": {},
     "output_type": "execute_result"
    }
   ],
   "source": [
    "len(acc_metrics)"
   ]
  },
  {
   "cell_type": "code",
   "execution_count": 19,
   "metadata": {},
   "outputs": [
    {
     "data": {
      "text/plain": [
       "(1, 0.09166666865348816)"
      ]
     },
     "execution_count": 19,
     "metadata": {},
     "output_type": "execute_result"
    }
   ],
   "source": [
    "acc_metrics[0]"
   ]
  },
  {
   "cell_type": "markdown",
   "metadata": {},
   "source": [
    "Therefore, `exp.metrics_raw[\"acc\"]` gives us (step, value) for all \"acc\" items. We can then easily use Python's built in zip and matplotlib to plot these values:"
   ]
  },
  {
   "cell_type": "code",
   "execution_count": 20,
   "metadata": {},
   "outputs": [],
   "source": [
    "steps, acc = zip(*acc_metrics)"
   ]
  },
  {
   "cell_type": "code",
   "execution_count": 21,
   "metadata": {},
   "outputs": [
    {
     "data": {
      "image/png": "[encoded data removed]",
      "text/plain": [
       "<Figure size 432x288 with 1 Axes>"
      ]
     },
     "metadata": {
      "needs_background": "light"
     },
     "output_type": "display_data"
    }
   ],
   "source": [
    "plt.plot(steps, acc);"
   ]
  },
  {
   "cell_type": "markdown",
   "metadata": {},
   "source": [
    "That's it for a quick overview. Now let's look in detail at each component, and introduce the low-level REST API as well."
   ]
  },
  {
   "cell_type": "markdown",
   "metadata": {},
   "source": [
    "## Workspaces\n",
    "\n",
    "By default, api.workspaces reports only your workspace names:"
   ]
  },
  {
   "cell_type": "code",
   "execution_count": 22,
   "metadata": {},
   "outputs": [
    {
     "data": {
      "text/plain": [
       "['dsblank']"
      ]
     },
     "execution_count": 22,
     "metadata": {},
     "output_type": "execute_result"
    }
   ],
   "source": [
    "api.workspaces"
   ]
  },
  {
   "cell_type": "markdown",
   "metadata": {},
   "source": [
    "You can also interate over those names:"
   ]
  },
  {
   "cell_type": "code",
   "execution_count": 23,
   "metadata": {},
   "outputs": [
    {
     "name": "stdout",
     "output_type": "stream",
     "text": [
      "dsblank\n"
     ]
    }
   ],
   "source": [
    "for workspace in api.workspaces:\n",
    "    print(workspace)"
   ]
  },
  {
   "cell_type": "markdown",
   "metadata": {},
   "source": [
    "As we saw above, you can also access other public workspaces as well:"
   ]
  },
  {
   "cell_type": "code",
   "execution_count": 24,
   "metadata": {},
   "outputs": [
    {
     "data": {
      "text/plain": [
       "['fasttext', 'comet-notebooks', 'parameter-space-exploration', 'home-credit']"
      ]
     },
     "execution_count": 24,
     "metadata": {},
     "output_type": "execute_result"
    }
   ],
   "source": [
    "api.workspaces[\"cometpublic\"]"
   ]
  },
  {
   "cell_type": "markdown",
   "metadata": {},
   "source": [
    "## Projects\n",
    "\n",
    "Under the workspace, you'll find the projects:"
   ]
  },
  {
   "cell_type": "code",
   "execution_count": 25,
   "metadata": {},
   "outputs": [
    {
     "data": {
      "text/plain": [
       "['fasttext', 'comet-notebooks', 'parameter-space-exploration', 'home-credit']"
      ]
     },
     "execution_count": 25,
     "metadata": {},
     "output_type": "execute_result"
    }
   ],
   "source": [
    "api.workspaces[\"cometpublic\"]"
   ]
  },
  {
   "cell_type": "code",
   "execution_count": 26,
   "metadata": {},
   "outputs": [],
   "source": [
    "project = api.workspaces[\"cometpublic\"][\"comet-notebooks\"]\n",
    "## OR:\n",
    "#project = api.workspaces[\"cometpublic/comet-notebooks\"]"
   ]
  },
  {
   "cell_type": "markdown",
   "metadata": {},
   "source": [
    "If you just print out, or iterate over a project, you get access to the experiment ids:"
   ]
  },
  {
   "cell_type": "code",
   "execution_count": 27,
   "metadata": {},
   "outputs": [
    {
     "data": {
      "text/plain": [
       "['7092a5e4c362453fb0b3f06785a1d30c', 'example 002']"
      ]
     },
     "execution_count": 27,
     "metadata": {},
     "output_type": "execute_result"
    }
   ],
   "source": [
    "project"
   ]
  },
  {
   "cell_type": "code",
   "execution_count": 28,
   "metadata": {},
   "outputs": [
    {
     "data": {
      "text/plain": [
       "'7092a5e4c362453fb0b3f06785a1d30c'"
      ]
     },
     "execution_count": 28,
     "metadata": {},
     "output_type": "execute_result"
    }
   ],
   "source": [
    "project[0].experiment_key"
   ]
  },
  {
   "cell_type": "code",
   "execution_count": 29,
   "metadata": {},
   "outputs": [
    {
     "data": {
      "text/plain": [
       "'d21f94a1c71841d2961da1e6ddb5ab20'"
      ]
     },
     "execution_count": 29,
     "metadata": {},
     "output_type": "execute_result"
    }
   ],
   "source": [
    "project[1].experiment_key"
   ]
  },
  {
   "cell_type": "markdown",
   "metadata": {},
   "source": [
    "However, you can also access all of the project data via the `.data` property:"
   ]
  },
  {
   "cell_type": "code",
   "execution_count": 30,
   "metadata": {},
   "outputs": [
    {
     "data": {
      "text/plain": [
       "{'project_id': '63776506878949eb9ac225a2a24b87f6',\n",
       " 'user_name': 'cometpublic',\n",
       " 'project_name': 'comet-notebooks',\n",
       " 'project_desc': '',\n",
       " 'team_id': 'cometpublic-default',\n",
       " 'is_owner': False,\n",
       " 'is_public': True,\n",
       " 'is_shared': False,\n",
       " 'num_of_experiments': 2,\n",
       " 'last_updated': 1544533464653,\n",
       " 'team_name': 'cometpublic',\n",
       " 'experiments': {'7092a5e4c362453fb0b3f06785a1d30c': {'code_sha': '0193bacf',\n",
       "   'file_name': 'Jupyter interactive',\n",
       "   'file_path': 'Jupyter interactive',\n",
       "   'duration_millis': 123000,\n",
       "   'start_server_timestamp': 1542824533698,\n",
       "   'end_server_timestamp': 1542824657041,\n",
       "   'has_images': True,\n",
       "   'experiment_key': '7092a5e4c362453fb0b3f06785a1d30c',\n",
       "   'is_key': True},\n",
       "  'd21f94a1c71841d2961da1e6ddb5ab20': {'code_sha': '66e8551f',\n",
       "   'file_name': 'Jupyter interactive',\n",
       "   'file_path': 'Jupyter interactive',\n",
       "   'duration_millis': 1709771000,\n",
       "   'start_server_timestamp': 1542823692825,\n",
       "   'end_server_timestamp': 1544533464652,\n",
       "   'has_images': False,\n",
       "   'experiment_key': 'd21f94a1c71841d2961da1e6ddb5ab20',\n",
       "   'is_key': True,\n",
       "   '_other': [{'name': 'Name',\n",
       "     'valueMax': 'example 002',\n",
       "     'valueMin': 'example 002',\n",
       "     'valueCurrent': 'example 002',\n",
       "     'timestampMax': 1544533427335,\n",
       "     'timestampMin': 1544533427335,\n",
       "     'timestampCurrent': 1544533427335}],\n",
       "   'other': ['Name'],\n",
       "   '_name': 'example 002'},\n",
       "  'example 002': {'code_sha': '66e8551f',\n",
       "   'file_name': 'Jupyter interactive',\n",
       "   'file_path': 'Jupyter interactive',\n",
       "   'duration_millis': 1709771000,\n",
       "   'start_server_timestamp': 1542823692825,\n",
       "   'end_server_timestamp': 1544533464652,\n",
       "   'has_images': False,\n",
       "   'experiment_key': 'd21f94a1c71841d2961da1e6ddb5ab20',\n",
       "   'is_key': False,\n",
       "   '_other': [{'name': 'Name',\n",
       "     'valueMax': 'example 002',\n",
       "     'valueMin': 'example 002',\n",
       "     'valueCurrent': 'example 002',\n",
       "     'timestampMax': 1544533427335,\n",
       "     'timestampMin': 1544533427335,\n",
       "     'timestampCurrent': 1544533427335}],\n",
       "   'other': ['Name']}}}"
      ]
     },
     "execution_count": 30,
     "metadata": {},
     "output_type": "execute_result"
    }
   ],
   "source": [
    "project.data"
   ]
  },
  {
   "cell_type": "markdown",
   "metadata": {},
   "source": [
    "And that's everything there is to a project object:"
   ]
  },
  {
   "cell_type": "code",
   "execution_count": 31,
   "metadata": {},
   "outputs": [
    {
     "name": "stdout",
     "output_type": "stream",
     "text": [
      "Help on Experiments in module comet_ml.api object:\n",
      "\n",
      "class Experiments(builtins.object)\n",
      " |  Methods defined here:\n",
      " |  \n",
      " |  __getitem__(self, item)\n",
      " |  \n",
      " |  __init__(self, api, workspace, project)\n",
      " |      Initialize self.  See help(type(self)) for accurate signature.\n",
      " |  \n",
      " |  __iter__(self)\n",
      " |  \n",
      " |  __len__(self)\n",
      " |  \n",
      " |  __repr__(self)\n",
      " |      Return repr(self).\n",
      " |  \n",
      " |  ----------------------------------------------------------------------\n",
      " |  Data descriptors defined here:\n",
      " |  \n",
      " |  __dict__\n",
      " |      dictionary for instance variables (if defined)\n",
      " |  \n",
      " |  __weakref__\n",
      " |      list of weak references to the object (if defined)\n",
      " |  \n",
      " |  data\n",
      " |      The project data in JSON format.\n",
      "\n"
     ]
    }
   ],
   "source": [
    "help(project)"
   ]
  },
  {
   "cell_type": "markdown",
   "metadata": {},
   "source": [
    "## Experiments\n",
    "\n",
    "Continuing with the dictionary-like access, you can see and iterate over the experiment ids:"
   ]
  },
  {
   "cell_type": "code",
   "execution_count": 32,
   "metadata": {},
   "outputs": [
    {
     "data": {
      "text/plain": [
       "['7092a5e4c362453fb0b3f06785a1d30c', 'example 002']"
      ]
     },
     "execution_count": 32,
     "metadata": {},
     "output_type": "execute_result"
    }
   ],
   "source": [
    "api.workspaces[\"cometpublic\"][\"comet-notebooks\"]"
   ]
  },
  {
   "cell_type": "code",
   "execution_count": 33,
   "metadata": {},
   "outputs": [],
   "source": [
    "exp = api.workspaces[\"cometpublic\"][\"comet-notebooks\"]['d21f94a1c71841d2961da1e6ddb5ab20']\n",
    "## OR\n",
    "# exp = api.workspaces[\"cometpublic/comet-notebooks/d21f94a1c71841d2961da1e6ddb5ab20\"]"
   ]
  },
  {
   "cell_type": "markdown",
   "metadata": {},
   "source": [
    "### Regular Expression Experiment Name Matching\n",
    "\n",
    "You can also use regular expressions as the name for the experiment:"
   ]
  },
  {
   "cell_type": "code",
   "execution_count": 34,
   "metadata": {},
   "outputs": [
    {
     "data": {
      "text/plain": [
       "[<Experiment 'cometpublic/comet-notebooks/example 002'>]"
      ]
     },
     "execution_count": 34,
     "metadata": {},
     "output_type": "execute_result"
    }
   ],
   "source": [
    "api.workspaces[\"cometpublic\"][\"comet-notebooks\"][\"example.*\"]"
   ]
  },
  {
   "cell_type": "markdown",
   "metadata": {},
   "source": [
    "### Experiment Properties"
   ]
  },
  {
   "cell_type": "markdown",
   "metadata": {},
   "source": [
    "Experiments also have a `.data` property:"
   ]
  },
  {
   "cell_type": "code",
   "execution_count": 35,
   "metadata": {},
   "outputs": [
    {
     "data": {
      "text/plain": [
       "{'code_sha': '66e8551f',\n",
       " 'file_name': 'Jupyter interactive',\n",
       " 'file_path': 'Jupyter interactive',\n",
       " 'duration_millis': 1709771000,\n",
       " 'start_server_timestamp': 1542823692825,\n",
       " 'end_server_timestamp': 1544533464652,\n",
       " 'has_images': False,\n",
       " 'experiment_key': 'd21f94a1c71841d2961da1e6ddb5ab20',\n",
       " 'is_key': True,\n",
       " '_other': [{'name': 'Name',\n",
       "   'valueMax': 'example 002',\n",
       "   'valueMin': 'example 002',\n",
       "   'valueCurrent': 'example 002',\n",
       "   'timestampMax': 1544533427335,\n",
       "   'timestampMin': 1544533427335,\n",
       "   'timestampCurrent': 1544533427335}],\n",
       " 'other': ['Name'],\n",
       " '_name': 'example 002',\n",
       " 'metrics': ['train_accuracy',\n",
       "  'train_curr_epoch',\n",
       "  'train_loss',\n",
       "  'train_val_loss'],\n",
       " 'parameters': ['f']}"
      ]
     },
     "execution_count": 35,
     "metadata": {},
     "output_type": "execute_result"
    }
   ],
   "source": [
    "exp.data"
   ]
  },
  {
   "cell_type": "markdown",
   "metadata": {},
   "source": [
    "In this brief dictionary representation, you will see that `other`, `metrics` and `parameters` give a list of names. However, as we saw above, you can get more information through properties of those same names:\n",
    "\n",
    "names through exp.data[\"properties\"] and more detail at exp.properties:"
   ]
  },
  {
   "cell_type": "code",
   "execution_count": 36,
   "metadata": {},
   "outputs": [
    {
     "data": {
      "text/plain": [
       "{'name': 'f',\n",
       " 'valueMax': '/run/user/1000/jupyter/kernel-b1c4403c-c673-4e7f-90dc-853616d231e2.json',\n",
       " 'valueMin': '/run/user/1000/jupyter/kernel-b1c4403c-c673-4e7f-90dc-853616d231e2.json',\n",
       " 'valueCurrent': '/run/user/1000/jupyter/kernel-b1c4403c-c673-4e7f-90dc-853616d231e2.json',\n",
       " 'timestampMax': 1542823692798,\n",
       " 'timestampMin': 1542823692798,\n",
       " 'timestampCurrent': 1542823692798}"
      ]
     },
     "execution_count": 36,
     "metadata": {},
     "output_type": "execute_result"
    }
   ],
   "source": [
    "exp.parameters[0]"
   ]
  },
  {
   "cell_type": "markdown",
   "metadata": {},
   "source": [
    "names through exp.data[\"other\"] and more detail at exp.other:"
   ]
  },
  {
   "cell_type": "code",
   "execution_count": 37,
   "metadata": {},
   "outputs": [
    {
     "data": {
      "text/plain": [
       "('Name', 'example 002')"
      ]
     },
     "execution_count": 37,
     "metadata": {},
     "output_type": "execute_result"
    }
   ],
   "source": [
    "exp.other[0][\"name\"], exp.other[0][\"valueCurrent\"]"
   ]
  },
  {
   "cell_type": "markdown",
   "metadata": {},
   "source": [
    "names through exp.data[\"metrics\"] and more detail at exp.metrics:"
   ]
  },
  {
   "cell_type": "code",
   "execution_count": 38,
   "metadata": {},
   "outputs": [
    {
     "data": {
      "text/plain": [
       "[{'name': 'train_accuracy',\n",
       "  'valueMax': '0.0',\n",
       "  'valueMin': '0.0',\n",
       "  'valueCurrent': '0.0',\n",
       "  'timestampMax': 1542823699380,\n",
       "  'timestampMin': 1542823699380,\n",
       "  'timestampCurrent': 1542823704609,\n",
       "  'runContextMax': 'train',\n",
       "  'runContextMin': 'train',\n",
       "  'runContextCurrent': 'train',\n",
       "  'stepMax': 1,\n",
       "  'stepMin': 1,\n",
       "  'stepCurrent': 3},\n",
       " {'name': 'train_curr_epoch',\n",
       "  'valueMax': '1.0',\n",
       "  'valueMin': '0.0',\n",
       "  'valueCurrent': '1.0',\n",
       "  'timestampMax': 1542823693885,\n",
       "  'timestampMin': 1542823693885,\n",
       "  'timestampCurrent': 1542823699380,\n",
       "  'runContextMax': 'train',\n",
       "  'runContextMin': 'train',\n",
       "  'runContextCurrent': 'train'},\n",
       " {'name': 'train_loss',\n",
       "  'valueMax': '2.3872790336608887',\n",
       "  'valueMin': '2.3872790336608887',\n",
       "  'valueCurrent': '2.3872790336608887',\n",
       "  'timestampMax': 1542823695820,\n",
       "  'timestampMin': 1542823695820,\n",
       "  'timestampCurrent': 1542823695820,\n",
       "  'runContextMax': 'train',\n",
       "  'runContextMin': 'train',\n",
       "  'runContextCurrent': 'train',\n",
       "  'stepMax': 0,\n",
       "  'stepMin': 0,\n",
       "  'stepCurrent': 0},\n",
       " {'name': 'train_val_loss',\n",
       "  'valueMax': '2.3066751956939697',\n",
       "  'valueMin': '2.2724671363830566',\n",
       "  'valueCurrent': '2.2724671363830566',\n",
       "  'timestampMax': 1542823699379,\n",
       "  'timestampMin': 1542823699379,\n",
       "  'timestampCurrent': 1542823704609,\n",
       "  'runContextMax': 'train',\n",
       "  'runContextMin': 'train',\n",
       "  'runContextCurrent': 'train',\n",
       "  'stepMax': 1,\n",
       "  'stepMin': 3,\n",
       "  'stepCurrent': 3}]"
      ]
     },
     "execution_count": 38,
     "metadata": {},
     "output_type": "execute_result"
    }
   ],
   "source": [
    "exp.metrics"
   ]
  },
  {
   "cell_type": "markdown",
   "metadata": {},
   "source": [
    "You can see all of the methods and propeties on an experiment instance:"
   ]
  },
  {
   "cell_type": "code",
   "execution_count": 39,
   "metadata": {},
   "outputs": [
    {
     "name": "stdout",
     "output_type": "stream",
     "text": [
      "Help on Experiment in module comet_ml.api object:\n",
      "\n",
      "class Experiment(builtins.object)\n",
      " |  Methods defined here:\n",
      " |  \n",
      " |  __init__(self, api, workspace, project, experiment_key)\n",
      " |      REST API Experiment interface.\n",
      " |  \n",
      " |  __repr__(self)\n",
      " |      Return repr(self).\n",
      " |  \n",
      " |  display(self, clear=False, wait=True, new=0, autoraise=True)\n",
      " |      Show the comet.ml experiment page in an IFrame in a\n",
      " |      Jupyter notebook or Jupyter lab, OR open a browser\n",
      " |      window or tab.\n",
      " |      \n",
      " |      For Jupyter environments:\n",
      " |      \n",
      " |      Args:\n",
      " |          clear: to clear the output area, use clear=True\n",
      " |          wait: to wait for the next displayed item, use\n",
      " |                wait=True (cuts down on flashing)\n",
      " |      \n",
      " |      For non-Jupyter environments:\n",
      " |      \n",
      " |      Args:\n",
      " |          new: open a new browser window if new=1, otherwise re-use\n",
      " |               existing window/tab\n",
      " |          autoraise: make the browser tab/window active\n",
      " |  \n",
      " |  get_asset(self, asset_id)\n",
      " |      Get an asset from this experiment.\n",
      " |  \n",
      " |  ----------------------------------------------------------------------\n",
      " |  Data descriptors defined here:\n",
      " |  \n",
      " |  __dict__\n",
      " |      dictionary for instance variables (if defined)\n",
      " |  \n",
      " |  __weakref__\n",
      " |      list of weak references to the object (if defined)\n",
      " |  \n",
      " |  asset_list\n",
      " |      Get the asssociated asset-list for this experiment.\n",
      " |  \n",
      " |  code\n",
      " |      Get the associated source code for this experiment.\n",
      " |  \n",
      " |  data\n",
      " |      The experiment data in JSON-like format.\n",
      " |  \n",
      " |  existing_experiment\n",
      " |      Get an ExistingExperiment() object for this\n",
      " |      experiment.\n",
      " |  \n",
      " |  git_metadata\n",
      " |      Get the asssociated git-metadata for this experiment.\n",
      " |  \n",
      " |  git_patch\n",
      " |      Get the asssociated git-patch for this experiment.\n",
      " |  \n",
      " |  graph\n",
      " |      Get the associated graph/model description for this\n",
      " |      experiment.\n",
      " |  \n",
      " |  html\n",
      " |      Get the HTML associated with this experiment.\n",
      " |  \n",
      " |  images\n",
      " |      Get the associated image data for this experiment.\n",
      " |      \n",
      " |      The image data comes as a dictionary with the following\n",
      " |      keys:\n",
      " |      \n",
      " |          apiKey\n",
      " |          runId\n",
      " |          experimentKey\n",
      " |          projectId\n",
      " |          figCounter\n",
      " |          figName\n",
      " |          step\n",
      " |          runContext\n",
      " |          fileName\n",
      " |          imagePath\n",
      " |  \n",
      " |  installed_packages\n",
      " |      Get the associated installed packages for this experiment.\n",
      " |  \n",
      " |  metrics\n",
      " |      Get the asssociated metrics for this experiment.\n",
      " |  \n",
      " |  metrics_raw\n",
      " |      Get the asssociated raw metrics for this experiment.\n",
      " |  \n",
      " |  os_packages\n",
      " |      Get the associated installed packages for this experiment.\n",
      " |  \n",
      " |  other\n",
      " |      Get the asssociated other items (things logged with `log_other`)\n",
      " |      for this experiment.\n",
      " |  \n",
      " |  parameters\n",
      " |      Get the asssociated parameters for this experiment.\n",
      " |  \n",
      " |  stdout\n",
      " |      Get the associated standard output for this experiment.\n",
      "\n"
     ]
    }
   ],
   "source": [
    "help(exp)"
   ]
  },
  {
   "cell_type": "markdown",
   "metadata": {},
   "source": [
    "For example, just like when creating and logging data, you can also use the `.display()` method to show the Comet.ml page for that experiment right in the notebook:"
   ]
  },
  {
   "cell_type": "code",
   "execution_count": 40,
   "metadata": {},
   "outputs": [
    {
     "data": {
      "text/plain": [
       "'https://www.comet.ml/cometpublic/comet-notebooks/d21f94a1c71841d2961da1e6ddb5ab20'"
      ]
     },
     "execution_count": 40,
     "metadata": {},
     "output_type": "execute_result"
    }
   ],
   "source": [
    "exp._get_experiment_url()"
   ]
  },
  {
   "cell_type": "code",
   "execution_count": 41,
   "metadata": {},
   "outputs": [
    {
     "data": {
      "text/html": [
       "\n",
       "        <iframe\n",
       "            width=\"100%\"\n",
       "            height=\"800px\"\n",
       "            src=\"https://www.comet.ml/cometpublic/comet-notebooks/d21f94a1c71841d2961da1e6ddb5ab20\"\n",
       "            frameborder=\"0\"\n",
       "            allowfullscreen\n",
       "        ></iframe>\n",
       "        "
      ],
      "text/plain": [
       "<IPython.lib.display.IFrame at 0x7f92025637f0>"
      ]
     },
     "metadata": {},
     "output_type": "display_data"
    }
   ],
   "source": [
    "exp.display()"
   ]
  },
  {
   "cell_type": "markdown",
   "metadata": {},
   "source": [
    "You can get an existing experiment:"
   ]
  },
  {
   "cell_type": "code",
   "execution_count": 42,
   "metadata": {},
   "outputs": [
    {
     "name": "stderr",
     "output_type": "stream",
     "text": [
      "COMET INFO: old comet version (1.0.38) detected. current: 1.0.39 please update your comet lib with command: `pip install --no-cache-dir --upgrade comet_ml`\n",
      "COMET INFO: Experiment is live on comet.ml https://www.comet.ml/dsblank/chainer/596d91ae1dbc420c9b13a3ced858de3c\n",
      "\n"
     ]
    }
   ],
   "source": [
    "e = api.workspaces[\"dsblank\"][\"chainer\"][\"596d91ae1dbc420c9b13a3ced858de3c\"]\n",
    "ee = e.existing_experiment"
   ]
  },
  {
   "cell_type": "markdown",
   "metadata": {},
   "source": [
    "You can make changes to the saved data using the existing experiment:\n",
    "\n",
    "https://www.comet.ml/docs/python-sdk/ExistingExperiment/"
   ]
  },
  {
   "cell_type": "code",
   "execution_count": 43,
   "metadata": {},
   "outputs": [
    {
     "name": "stderr",
     "output_type": "stream",
     "text": [
      "COMET INFO: Uploading stats to Comet before program termination (may take several seconds)\n",
      "COMET INFO: Experiment is live on comet.ml https://www.comet.ml/dsblank/chainer/596d91ae1dbc420c9b13a3ced858de3c\n",
      "\n"
     ]
    }
   ],
   "source": [
    "ee.end()"
   ]
  },
  {
   "cell_type": "markdown",
   "metadata": {},
   "source": [
    "### Examples\n",
    "\n",
    "Comet.ml is working on a query API which will allow highly effcient queries of your data. However, you can also write your own query of sorts.\n",
    "\n",
    "Here is some code that prints out the names of experiments that have associated HTML (this can take a long time if you have many experiments):"
   ]
  },
  {
   "cell_type": "code",
   "execution_count": 44,
   "metadata": {},
   "outputs": [
    {
     "name": "stdout",
     "output_type": "stream",
     "text": [
      "processing workspace dsblank ...\n",
      "    processing project pytorch ...\n",
      "       processing experiment 5f540fc7894146f4bbfd21ebe8549fcf ...\n",
      "       processing experiment 1ae244a0423b477b836923084f685b0e ...\n",
      "       processing experiment fa83f339da024d1da838ef6f21bc74ff ...\n",
      "       processing experiment cd19c6d3941e42c1bc939782605b4156 ...\n",
      "       processing experiment 296cc381115a4112984de013e27ae829 ...\n",
      "       processing experiment 62d69106941d4cca92981d38e0db3013 ...\n",
      "       processing experiment 76e370a24dee41d083755a250ef00ddc ...\n",
      "       processing experiment 8b65b7e9d70a4663a0ee0fbc0adfab02 ...\n",
      "       processing experiment 86a3e405c5484ea59e5472b62e2166f4 ...\n",
      "       processing experiment 3a8ff37b0e7846d4a90fdf9e0170dc48 ...\n",
      "       processing experiment 536beec2348849508c6096ab2e56731b ...\n",
      "       processing experiment f920b50cab83443caca71d941bb1e98f ...\n",
      "       processing experiment 40b8cc51ff6a43d98e31e5cb4e987f25 ...\n",
      "       processing experiment 0f2fcba7176143a1a7cffd3d40557a21 ...\n",
      "       processing experiment 7716f6e6c0a34a04a04a8d8c9c0084b7 ...\n",
      "       processing experiment d6d44112066d4510b75ee116efbbdedc ...\n",
      "       processing experiment 79fb7ae6712c4ec8b4fe02fec1d83d60 ...\n",
      "       processing experiment 4166971f02db42bab68647e8ed27df12 ...\n",
      "       processing experiment 63a6609e3d544216b433f4de559e0b58 ...\n",
      "       processing experiment 9a3115a2ff41460d9a9d93c9608934ef ...\n",
      "       processing experiment f2f470141b8040a693122d9a310ffca4 ...\n",
      "       processing experiment 3cff2378eb4f41fbad86d80977b60e28 ...\n",
      "       processing experiment d1c91769b0124cbba6247245388ecf2f ...\n",
      "       processing experiment b2b128ee813149c69311752597f0dcd7 ...\n",
      "       processing experiment c12b4dc99e4e4948a36909872f31876f ...\n",
      "       processing experiment 5c40dd218f064211ac2c1584e5624fe2 ...\n",
      "       processing experiment d60f93eae1ed45e99474b0349d06909d ...\n",
      "       processing experiment e671837177eb4a8fbbb37c5810f429dd ...\n",
      "       processing experiment e5ce94ae516546a496c34c53c5b2adbf ...\n",
      "       processing experiment e7ee21a1868e48f1ae870438b6ac4c8e ...\n",
      "       processing experiment 2dca325c9b3c43edad5c34da845ed1b9 ...\n",
      "       processing experiment e75f3298e3834c06ae7efaaacbe151a0 ...\n",
      "       processing experiment 1030ec6fd2f049659b7718c6f00f0581 ...\n",
      "       processing experiment fbdbfc0747164e1baedd7c6e4d0c7f36 ...\n",
      "       processing experiment 3b56611892b7447aa8c4486a6eeb27d0 ...\n",
      "    processing project mnist-001 ...\n",
      "       processing experiment f49501176bfe45a58aada6f154399ab4 ...\n",
      "       processing experiment 0747e50d7db547fba61a3315f096408c ...\n",
      "       processing experiment 688590883f7c423a95a0030967eb5706 ...\n",
      "       processing experiment 3afc861f54c2467aa69504b0d05b9402 ...\n",
      "       processing experiment 67b2b5473f85416dacaf32f9519e2e77 ...\n",
      "       processing experiment 58a4866606984307aacea3df4e2a352f ...\n",
      "       processing experiment f4d1b092527a42189a98da7ad291e06e ...\n",
      "       processing experiment 5d5712e2726f4ae7a8bf8650cbc62452 ...\n",
      "       processing experiment 1cc499f41ee94822a672afc8f0ca931e ...\n",
      "       processing experiment 8ce1e51e0f4e4bc8b084c9021daf1a50 ...\n",
      "       processing experiment 9092a5290c51488db879dad46df7e13c ...\n",
      "       processing experiment b83d9c2c9f784135a665149dd956d7da ...\n",
      "       processing experiment 2f97667bbdb74eb997ea429d9cf87ac6 ...\n",
      "       processing experiment e809a0c9da5144e98f5d67ba160e754c ...\n",
      "       processing experiment b7ca9fbd35874e9e88d506d6a466f690 ...\n",
      "       processing experiment f1357325fc1c4208b37b626334a07eaf ...\n",
      "       processing experiment faff89d9719b4a32b60ae92a21fd4500 ...\n",
      "       processing experiment 9b12666297aa463da903ae8bbc785fb2 ...\n",
      "       processing experiment 2a1749b6446e42a2838a3e9456f80327 ...\n",
      "       processing experiment 550f698021ad4f039f7190845f3b3b8e ...\n",
      "       processing experiment c3fa10c48355447f920826d74909cefc ...\n",
      "       processing experiment e0a46e7af37e4a97881cb86d1f73a775 ...\n",
      "       processing experiment 855aeb4f3f6e414a8a65c066ca35a011 ...\n",
      "       processing experiment 5b568a680cbd4691a876a2a61d75a59b ...\n",
      "       processing experiment e8e614a75d284619ad2b28fcb8f82f90 ...\n",
      "       processing experiment f9a6833378a24d2a8380e76e0f71072e ...\n",
      "       processing experiment 0fa329532a454513810609af62a72752 ...\n",
      "       processing experiment de25ff64e049486d8277ec19d8947394 ...\n",
      "       processing experiment d0faa097a49244c9963653aa96dae3f7 ...\n",
      "       processing experiment d6ee4a5075914f4aa9c3085977d8ea58 ...\n",
      "       processing experiment 9ec6d01400b0498d85a97b5f24631952 ...\n",
      "       processing experiment 5fb7db3953dd498dade7d70ac5252ee4 ...\n",
      "       processing experiment 1a5da860069640d0a9a8b1d09afebe65 ...\n",
      "       processing experiment 52f1577319294292a6addfcd0526e87d ...\n",
      "       processing experiment 626c69916247434385de3d5a055ce0cb ...\n",
      "       processing experiment 2ffb4a8eac0f478db5e82f57150646d7 ...\n",
      "       processing experiment 300b4dabe45e437cbaa54ac9af8c057a ...\n",
      "       processing experiment 531f13d405144dad95a63a5e601c166f ...\n",
      "       processing experiment 1feaed76bd7645eeac2530609424cf75 ...\n",
      "       processing experiment 49e70ce7840b4609912b378f3379bb45 ...\n",
      "       processing experiment c0a1967475fc4ea98f9999f457298db1 ...\n",
      "       processing experiment 3dcb7bb653034233806fe3c892daccd6 ...\n",
      "       processing experiment 4802e28cbf824b84b3aab65dd260a0a4 ...\n",
      "       processing experiment 9dae14ea4f1d4d5786ecfd47d74c96a3 ...\n",
      "       processing experiment 935c859fc0bf459695d6d8d418f6daaa ...\n",
      "       processing experiment fb0042a1e68a48b2a1de9bf560547869 ...\n",
      "       processing experiment 26bc56168bfe451d9866a73de8743ea9 ...\n",
      "       processing experiment 0e1b2eeaaf334cd6981a16f4f71c1cac ...\n",
      "       processing experiment d0f19820924c4222aa185517d71352f7 ...\n",
      "       processing experiment 70882f1e4bb640cc859aaa06c8f74045 ...\n",
      "       processing experiment 78d9c227dc8b433cbf8654cc53847cfc ...\n",
      "       processing experiment 61e0f27775904b95b4ebd14b624ad1d1 ...\n",
      "       processing experiment 3980b68f17f547259a9a99274ce166db ...\n",
      "       processing experiment 5fa4a913738648fd8660c353238bdd18 ...\n",
      "       processing experiment f95019f18f6b498283f81bcc0b580db3 ...\n",
      "       processing experiment 30f7d7ed9e92437f8451e6356f3b0152 ...\n",
      "       processing experiment e5738f08d93c46ae80579e867a96a21d ...\n",
      "       processing experiment 1b4a20b8939449d7b38f449981414897 ...\n",
      "       processing experiment c881c409e7af408386b5b1eefbd47e59 ...\n",
      "       processing experiment 82ada3cff2db4303be4222defc759baf ...\n",
      "       processing experiment e49ca219a128418f9db7d4c823d6611d ...\n",
      "       processing experiment 03fbc37140f8405c8a08c4bf078889b6 ...\n",
      "       processing experiment 4b770a69fcca4c0da28f9bdef2380c36 ...\n",
      "       processing experiment 2737e9e79869496c8079ed6997a1b81f ...\n",
      "       processing experiment 6c6e513255cd4e788a59878e2c27b232 ...\n",
      "       processing experiment 4e5cb39fc7754760baedfdb913f591c4 ...\n",
      "       processing experiment 8589ceab2604464fb0bee717c7e0d314 ...\n",
      "       processing experiment b939ac85945a485ebc908128797023db ...\n",
      "       processing experiment c58abae0990b4c1d8dbadf8f8dd957dc ...\n",
      "       processing experiment bf07639d76d642ea8ef96d651f1e5ed6 ...\n",
      "       processing experiment 879b19ff89474a9e9e0d75d31564bbf3 ...\n",
      "       processing experiment 2a9c0adbce3b407f8719ce6cbfdf69ef ...\n",
      "       processing experiment 4d3665979fcb45f1bfe7e4e69637e3af ...\n",
      "       processing experiment 116c05b3cc404665806f27b6d526002a ...\n",
      "       processing experiment 5848e46abae849e3ab64683df3cf5248 ...\n",
      "       processing experiment dbff78ae195946978f4d524d6f6bb5e1 ...\n",
      "       processing experiment d80d5e038b9c45bdb644876247c9a1df ...\n",
      "       processing experiment 2317285c44e9445e9bbf802f4c7bb997 ...\n",
      "       processing experiment 5ebd9267b8ee4c6aaea401930f2be543 ...\n",
      "       processing experiment ae1e88fa61554715afdb7805d676c9fc ...\n",
      "    processing project visualizations ...\n",
      "       processing experiment c985bd87e84444f3a517d5c6de0df2ee ...\n",
      "       processing experiment 65cd78eed5754128b0bd101f230b2167 ...\n",
      "       processing experiment 2a72522064d849ff8f4d14753914f3ff ...\n",
      "       processing experiment c055b7cd3bcf4c9ba01fdb02726e4c64 ...\n",
      "       processing experiment 4d5874f065c44a1b8b34f90d6756d6dd ...\n",
      "       processing experiment 1dec67bb02244dc8a3283e6af6597f9b ...\n",
      "       processing experiment 34c414b8cb754836affab7cec4881b14 ...\n"
     ]
    },
    {
     "name": "stdout",
     "output_type": "stream",
     "text": [
      "       processing experiment 64e2f5ba026b441788ab4bf0dc32fd9b ...\n",
      "       processing experiment ffdb848447a94d5d8d2c567d31113b22 ...\n",
      "       processing experiment d5fa87cc396446708100ccf730b40763 ...\n",
      "       processing experiment 0613f07998c14f7683ae58c94c714b65 ...\n",
      "       processing experiment 1a43d7b0d8c34082bc8b412dc27b56de ...\n",
      "       processing experiment 3a35488040d140c18193af8535dde31e ...\n",
      "       processing experiment 0ccad805f527429eb8185ca53f9a27cf ...\n",
      "       processing experiment d2b8807cb52448ba933c3ee43dfd68c6 ...\n",
      "       processing experiment a28551a74f394e7c905cb2153a073ddc ...\n",
      "       processing experiment 4caad03fdb5c454a90b3e330acef9f45 ...\n",
      "       processing experiment b080161dd0a849d1aa2611f47cb97529 ...\n",
      "       processing experiment ad0371eac87342f7bbf3fd0b874b1d3a ...\n",
      "       processing experiment 81ae231790a340e39bfb32545f5ac974 ...\n",
      "       processing experiment 045ce66a1ae74f16aae1b5544d25f758 ...\n",
      "       processing experiment 3ec1076602054917b8782e147f167d33 ...\n",
      "    processing project testing ...\n",
      "       processing experiment 55df712e55584aaabda2f11c7accf392 ...\n",
      "       processing experiment e0bce2485ca04858ba677d915720c02c ...\n",
      "       processing experiment b6e6924647184f2689edf7cf39e4d401 ...\n",
      "       processing experiment 5f8ff4fcfd6a4e83b46dfbaee97615ae ...\n",
      "       processing experiment 3da8c193e26641a6a447e0b8ed8ec3fd ...\n",
      "    processing project pypy ...\n",
      "       processing experiment a31b967ac9324c8da32d468aaefde826 ...\n",
      "    processing project tensorflow ...\n",
      "       processing experiment 8e5bb8d6ddf745f58adb6154e4090114 ...\n",
      "       processing experiment 31219a94c6994aacb85a5d582945ea61 ...\n",
      "       processing experiment d911ba66894d431ab0d8bb2041628cae ...\n",
      "       processing experiment 21281a52338541dea2e5f106cb88aca6 ...\n",
      "       processing experiment 3a9875db46fa46df9eab39586c927b02 ...\n",
      "       processing experiment c5e39aa1f32141aa844cfa008fb022b8 ...\n",
      "    processing project chainer ...\n",
      "       processing experiment 79fe06c23e0a4fbca07a2f91f20f0e35 ...\n",
      "       processing experiment fe1caaa8f70948139c75bf472e180b82 ...\n",
      "       processing experiment 6ee1e7c7c91745c2a94dff299fface1b ...\n",
      "       processing experiment 82b10fabcd9444ca89253aa5f2492a2e ...\n",
      "       processing experiment d43230c29b1641b1b3f573223be30ad8 ...\n",
      "       processing experiment 6ee6373c89344b1796657f3cd5616587 ...\n",
      "       processing experiment 541fd15a5065462482d8d017b91462f3 ...\n",
      "       processing experiment e2ff4d346f214d31b294d872da0e8af8 ...\n",
      "       processing experiment 1f86f0287f0e43ebaf6dfd331dcdf131 ...\n",
      "       processing experiment cd49d12fb9e2415fbc589cce63b63ea1 ...\n",
      "       processing experiment 5bb140bfa45d459e9e4affb34367bfc7 ...\n",
      "       processing experiment a8fdda6247534dcd859e7de986108e34 ...\n",
      "       processing experiment c1454d92522f4fd98d99cabf3fff8147 ...\n",
      "       processing experiment 160e0ecaac304c398a60a09e382f3c5a ...\n",
      "       processing experiment 60a7f53df9a347d0bc6a11934350dc53 ...\n",
      "       processing experiment e1f8a396fab043959b6b00d75f4c3b97 ...\n",
      "       processing experiment 5ebc412631134c60ba7d416fc58efc9a ...\n",
      "       processing experiment 698e577fc880463381e179a2125c679a ...\n",
      "found html!\n",
      "       processing experiment f9fbef4c629848b495050229295d8d9d ...\n",
      "found html!\n",
      "       processing experiment 5b8a2e2d89b44c3fa1e9eb2c6b4d9763 ...\n",
      "found html!\n",
      "       processing experiment dd760f7cafb54bd591fb02ee79e3b328 ...\n",
      "found html!\n",
      "       processing experiment 81b743e020924c399321e3c0a8a8638e ...\n",
      "found html!\n",
      "       processing experiment 87fcbef35def4dc8986cc761c6344486 ...\n",
      "found html!\n",
      "       processing experiment 0a8700299154434898228a47f93f18bf ...\n",
      "found html!\n",
      "       processing experiment 0d1e22d1572f431682904058313e32ef ...\n",
      "found html!\n",
      "       processing experiment 42c666e3632a4975aa09ee955e3813de ...\n",
      "found html!\n",
      "       processing experiment 8bc73ecb2fa943adb8cc949d1888d06d ...\n",
      "found html!\n",
      "       processing experiment 5e5dda92129246f3b54564daac103680 ...\n",
      "       processing experiment 3e7adc06a2584a97b3d58cf5328ac06b ...\n",
      "found html!\n",
      "       processing experiment dcd4fa98e7844d2dbf6b6f88eb706a47 ...\n",
      "       processing experiment edfa1479ae8347a2bd491cfdca1dcd10 ...\n",
      "found html!\n",
      "       processing experiment 901505706082474588f7f6ac6e2acef8 ...\n",
      "       processing experiment a105ebf381e94722835fa4564cee09bb ...\n",
      "       processing experiment 80ac2ab19af3428888ab63576fe23d16 ...\n",
      "found html!\n",
      "       processing experiment 596d91ae1dbc420c9b13a3ced858de3c ...\n",
      "found html!\n",
      "    processing project mnist-014 ...\n",
      "       processing experiment a6b3fb2ab7e34bfe87872a8a343aa8ef ...\n",
      "       processing experiment 7fc6fe107d0e4dadb884857e7ba6ab9c ...\n",
      "       processing experiment abef664008c94e2f816f240de796526d ...\n",
      "       processing experiment 31570056d0904840a286303e0e5b101e ...\n",
      "       processing experiment 42468838e8174e458aff1d7b537fcbef ...\n",
      "       processing experiment 245fbb20cc1e4bfcad3ccfd2e955cb75 ...\n",
      "       processing experiment 88a027137d2f4bc5aad5ab16f258b2da ...\n",
      "       processing experiment 42b03ea5683241c098655fb9b9c8011b ...\n",
      "       processing experiment 18474bc795f441c9a374e6b3ed33eb5a ...\n",
      "    processing project optimizer ...\n",
      "       processing experiment 9fd2f516a5bc4329a9e9726c12690b5f ...\n",
      "       processing experiment 3a4a11a423ee425a93344cd49627d03f ...\n",
      "       processing experiment 8d4268c62ab14c479f95f725f084e6f1 ...\n",
      "       processing experiment 2ff6d6b949e14fe0b0422002823cc4c4 ...\n",
      "       processing experiment 28b9a62e0d8f4d4baef04e2eb5ad75a5 ...\n",
      "       processing experiment 2be8355868624e319c8ff1a4525461a8 ...\n",
      "       processing experiment aa1d412fe8eb4f73887d01548b039c2f ...\n",
      "       processing experiment 81b5ffcf0e384b099319fd156f6cfc94 ...\n",
      "       processing experiment d69b46e3dd374c99970ce12657ac154a ...\n",
      "       processing experiment e5e7477643c14b568a36eb537f737a7e ...\n",
      "       processing experiment 3739f5b0f52f4345bc7b3d331253d94c ...\n",
      "       processing experiment 1893710e1e684d65be3c85db3c7a7609 ...\n",
      "       processing experiment 5cda098834a643e2960680e3d54fe9e3 ...\n",
      "       processing experiment bcdc4d9d853b48c9b52d2ee8df6fd90b ...\n",
      "       processing experiment dc454d270b844f91ba740922a7b6a81b ...\n",
      "       processing experiment 4f44cc809d6d4df498a72f19e4102c9b ...\n",
      "       processing experiment c32ae3242718467080803d7d42edfd81 ...\n",
      "       processing experiment 43888dd842524800a86cadd24d9ff0a8 ...\n",
      "       processing experiment 95745b35df21444ea0d7cc2c3b81d46d ...\n",
      "       processing experiment 4fcb1a3113024aac9294d114e886116a ...\n",
      "       processing experiment 90544b7b7cf7420eb4c65d7d24e8314c ...\n",
      "       processing experiment 124a22e2cf424eca82cc320a3d57446d ...\n",
      "       processing experiment 830a15edbaf64cee88084bdc06852940 ...\n",
      "       processing experiment 9d0387576cdf43e8a0da46ebc32e9f93 ...\n",
      "       processing experiment 293882b207284e9384418034423c433a ...\n",
      "    processing project general ...\n",
      "       processing experiment 42dc6b312e82418092598627cb7782f6 ...\n",
      "       processing experiment 091a7e704354494290a1c32a39230e66 ...\n",
      "       processing experiment 73f9489e35ee4d8a8ed08c8b85725ad0 ...\n",
      "       processing experiment d4d895378ff8487c8c8e15d9fe0aa2fd ...\n",
      "       processing experiment 6d14a832edda42789713e543f4b295db ...\n",
      "       processing experiment 62b5cd994b65408a9d53def2eceb8dfa ...\n",
      "       processing experiment df19873344b84d24b969fdb932fa20f0 ...\n",
      "       processing experiment 4e0492bc94814b6da0fff4fdf2b6cf54 ...\n",
      "    processing project jupyter-experiments ...\n",
      "       processing experiment 82e7d42ccaa840da84a121f6c69a6fd9 ...\n",
      "    processing project keras ...\n",
      "       processing experiment 5dc346a883964bd2b8864c40940fd864 ...\n",
      "       processing experiment 351afa6e498f452ca743c19d3e131767 ...\n",
      "       processing experiment 72b89ab961cd42db91535026687f86fb ...\n",
      "       processing experiment d5d3cf989efd4b5f8841bd64fee5f817 ...\n",
      "       processing experiment 12ab8382de254a9bb678bf3d6131e255 ...\n",
      "       processing experiment example 001 ...\n",
      "    processing project fastai ...\n",
      "       processing experiment 0ba9eef203254bac8adc57ac25c8cd36 ...\n",
      "       processing experiment 6cd767be464b4480afd13ea88046c127 ...\n",
      "       processing experiment c2729f68403f4706b76987b12c8f6675 ...\n",
      "       processing experiment 0c4fdaf066984e2cbc2bec24110759ae ...\n",
      "       processing experiment 920284c4e9d64e05896d943b7f6f9e50 ...\n",
      "       processing experiment 209949fc7a7b46ac9d2e7330f4ee5fff ...\n"
     ]
    },
    {
     "name": "stdout",
     "output_type": "stream",
     "text": [
      "       processing experiment 97775adea4f64247bf1da6c51f7b7823 ...\n",
      "       processing experiment 4d8a2ede92004a37a04336ba97af30fd ...\n",
      "       processing experiment a44c9da445b941baba8fcf84df53fb02 ...\n",
      "       processing experiment 2278f89561dd4d1b9fbecd12823670ad ...\n",
      "       processing experiment db85d048d23049a4998a214a530b9617 ...\n",
      "       processing experiment 77454b71a74c4cf98a8a0faad7639c24 ...\n",
      "       processing experiment 109479625cfc498ca2f99846ba76f258 ...\n",
      "       processing experiment 2b2cbdfd351c4511875f2a0797da5ac0 ...\n",
      "       processing experiment 26690b701ad14289861736fb9311cc46 ...\n",
      "       processing experiment 3dc0cb7f649a402d8cb019e52a96e4b0 ...\n",
      "       processing experiment c3887c74d6db4181b8f866226ac79c6d ...\n",
      "       processing experiment 68ccec72d5574add808eff468ddda969 ...\n",
      "       processing experiment ecb97f587de948398d6f6c7b305e10c7 ...\n",
      "       processing experiment 0052a7906f6949a3abdc3eccb717e9ba ...\n",
      "       processing experiment 17bf8fcbe6774f41a682d9c64acb46ff ...\n",
      "       processing experiment cf421eb6be84482eb4e32bbcf8a56524 ...\n",
      "       processing experiment 16bdb407702f453fa37e0391e48536fb ...\n",
      "       processing experiment c490d0fecd314626b876b29fcc81e075 ...\n",
      "       processing experiment 4952c84ebe8240d4b6eee60d5604820f ...\n",
      "       processing experiment 0a2f8d81aa2547fdb1b06807fc0a8adf ...\n",
      "       processing experiment 0e2e53c91fe0402a97f10773212ab0ae ...\n",
      "       processing experiment c75bb5f4a28843c89f948e4ff3c24995 ...\n",
      "       processing experiment 2aca784cfe3c4f578a0cc13ef0da69ec ...\n",
      "       processing experiment de95961c520b45f6aec6ca92b4c69e0c ...\n",
      "       processing experiment 83123738c50d45b3b98204fff6a2e228 ...\n",
      "       processing experiment 189c4e764df04b89aa61749a5b74d8fe ...\n",
      "       processing experiment c95cbade0ff548d5837279a4af10717f ...\n",
      "       processing experiment 3982022c3a2149eca5d57da267a58fef ...\n",
      "       processing experiment a9e548efbfb343308223c39f2660aa62 ...\n",
      "       processing experiment b231c9800239446fac8098e90d40794f ...\n",
      "       processing experiment 56fa3286151145838727c585b8009c99 ...\n",
      "       processing experiment ae358ab13964401ca98cc15e06f6480c ...\n",
      "       processing experiment 4fe5c09b8d5140078f36d41af22d3e39 ...\n",
      "       processing experiment 48c10836f95441dbb811afe454fd8095 ...\n",
      "       processing experiment 66fb737828664283937021b08f878fd2 ...\n",
      "       processing experiment 9686ebfdd41347818ce282894bd88571 ...\n",
      "       processing experiment 5aabc580c2ca4970af6fe7fd37695113 ...\n",
      "       processing experiment 2b59fe1cd0b74d5e9d2c0e24a3900446 ...\n",
      "       processing experiment 0e82fd9340df4c3da221c664d15b87cd ...\n",
      "       processing experiment 09f37d1a4f1d4a58826b90a9ad8b79a5 ...\n",
      "       processing experiment 9338d7cd92954fde8d4ceaf1789c884f ...\n",
      "       processing experiment 1dd2b758824e400dadefa4c3b42ab530 ...\n",
      "       processing experiment 13a88a8456304dd0903e1e1c8435f1ff ...\n",
      "       processing experiment 33c439092c70429dae57812650665696 ...\n",
      "       processing experiment 210e2dba9bdc460987e635db9f1ae71c ...\n",
      "       processing experiment 6881f4763c664fff95d986927a53ded9 ...\n",
      "       processing experiment 28e8ddfabb9f430081cae67d1183e5c7 ...\n",
      "       processing experiment 91a6f876cf914bb1a5f44a8455b42bd0 ...\n",
      "       processing experiment 5ccc18a4f66a4bae87cb3f69b28fd485 ...\n",
      "       processing experiment ae4e15fb75d14d899c40ada876daf979 ...\n",
      "       processing experiment f4ffe889072c464bafc9d27209f7bbe8 ...\n",
      "       processing experiment 6e089249e5b74fe49108ebadcca2eab8 ...\n",
      "       processing experiment 25beec97df374fabb98b705ffc6d6832 ...\n",
      "       processing experiment 54e81cf09cba418798b79c05f3db4121 ...\n",
      "       processing experiment 6efa368fc18344d89738afd06786e621 ...\n",
      "       processing experiment 9c45ca5fa60d498eb48f15046ee0e900 ...\n",
      "       processing experiment 60961a6758944aba8fb282b8cd42877d ...\n",
      "       processing experiment eb047f76c1ad42239245a5463f87eb43 ...\n",
      "       processing experiment 3870323d6c58489886b0f9e253d293f8 ...\n",
      "       processing experiment 69c142c8330f4b628475393cf8c51b23 ...\n",
      "       processing experiment 6cd19f1c21da4efc9118f54b41863765 ...\n",
      "       processing experiment f06b98a71a404965ab9f6e555f0d3d85 ...\n",
      "       processing experiment fd893a64a87940fb880ed22cc5f8ca4f ...\n",
      "       processing experiment 336a2a65cf2646e1be403e9dac5985eb ...\n",
      "       processing experiment dfc01903c51344d5a460a540740e5aa6 ...\n",
      "       processing experiment 9bf2a504123b430ca214167171bc9f49 ...\n",
      "       processing experiment d1a0691156de45f797ed52f30d9071d0 ...\n",
      "       processing experiment d87182e32fa947768f822ef95258d7c3 ...\n",
      "       processing experiment 43dfc53acfd5462e9d6aa4e601efef17 ...\n",
      "CPU times: user 9.24 s, sys: 468 ms, total: 9.7 s\n",
      "Wall time: 43.4 s\n"
     ]
    }
   ],
   "source": [
    "%%time\n",
    "for workspace in api.workspaces:\n",
    "    print(\"processing workspace\", workspace, \"...\")\n",
    "    for project in api.workspaces[workspace]:\n",
    "        print(\"    processing project\", project, \"...\")\n",
    "        for exp_id in api.workspaces[workspace][project]:\n",
    "            print(\"       processing experiment\", exp_id, \"...\")\n",
    "            exp = api.workspaces[workspace][project][exp_id]\n",
    "            if exp.html != None:\n",
    "                print(\"found html!\")"
   ]
  },
  {
   "cell_type": "markdown",
   "metadata": {},
   "source": [
    "Here is a function that will find the first experiment that has associated images:"
   ]
  },
  {
   "cell_type": "code",
   "execution_count": 45,
   "metadata": {},
   "outputs": [],
   "source": [
    "def find_image():\n",
    "    for workspace in api.workspaces:\n",
    "        for project in api.workspaces[workspace]:\n",
    "            for exp_id in api.workspaces[workspace][project]:\n",
    "                exp = api.workspaces[workspace][project][exp_id]\n",
    "                if exp.images != []:\n",
    "                    return exp"
   ]
  },
  {
   "cell_type": "code",
   "execution_count": 46,
   "metadata": {},
   "outputs": [
    {
     "data": {
      "text/plain": [
       "<Experiment 'dsblank/pytorch/3b56611892b7447aa8c4486a6eeb27d0'>"
      ]
     },
     "execution_count": 46,
     "metadata": {},
     "output_type": "execute_result"
    }
   ],
   "source": [
    "find_image()"
   ]
  },
  {
   "cell_type": "markdown",
   "metadata": {},
   "source": [
    "Now, we get the experiment API, and explore the `.images` property:"
   ]
  },
  {
   "cell_type": "code",
   "execution_count": 47,
   "metadata": {},
   "outputs": [
    {
     "data": {
      "text/plain": [
       "[{'apiKey': 'x0yluTXX4ysG4z1k0FaTAz3qj',\n",
       "  'runId': 'EgBEDhAJMA6OxWXZ1dHv4AkSz',\n",
       "  'experimentKey': '3b56611892b7447aa8c4486a6eeb27d0',\n",
       "  'projectId': '1f1999d917104dbe8b6a17b2c28c171c',\n",
       "  'figCounter': 0,\n",
       "  'figName': 'Exponential Slowdown',\n",
       "  'step': None,\n",
       "  'runContext': None,\n",
       "  'fileName': '4ykmnOHJFZkrRD36KDrTXvHJk.svg',\n",
       "  'fileSize': 0,\n",
       "  'imagePath': 'https://s3.amazonaws.com/comet.ml/4ykmnOHJFZkrRD36KDrTXvHJk.svg',\n",
       "  'createdAt': 1542116223922}]"
      ]
     },
     "execution_count": 47,
     "metadata": {},
     "output_type": "execute_result"
    }
   ],
   "source": [
    "api.workspaces['dsblank/pytorch/3b56611892b7447aa8c4486a6eeb27d0'].images"
   ]
  },
  {
   "cell_type": "markdown",
   "metadata": {},
   "source": [
    "We can get a URL for the image, and display it in the notebook:"
   ]
  },
  {
   "cell_type": "code",
   "execution_count": 48,
   "metadata": {},
   "outputs": [
    {
     "data": {
      "text/plain": [
       "'https://s3.amazonaws.com/comet.ml/4ykmnOHJFZkrRD36KDrTXvHJk.svg'"
      ]
     },
     "execution_count": 48,
     "metadata": {},
     "output_type": "execute_result"
    }
   ],
   "source": [
    "url = api.workspaces['dsblank/pytorch/3b56611892b7447aa8c4486a6eeb27d0'].images[0][\"imagePath\"]\n",
    "url"
   ]
  },
  {
   "cell_type": "code",
   "execution_count": 49,
   "metadata": {},
   "outputs": [],
   "source": [
    "from IPython.display import Image"
   ]
  },
  {
   "cell_type": "code",
   "execution_count": 50,
   "metadata": {},
   "outputs": [
    {
     "data": {
      "text/html": [
       "<img src=\"https://s3.amazonaws.com/comet.ml/4ykmnOHJFZkrRD36KDrTXvHJk.svg\"/>"
      ],
      "text/plain": [
       "<IPython.core.display.Image object>"
      ]
     },
     "execution_count": 50,
     "metadata": {},
     "output_type": "execute_result"
    }
   ],
   "source": [
    "Image(url=url)"
   ]
  },
  {
   "cell_type": "markdown",
   "metadata": {},
   "source": [
    "Now, let's write a short program that will find the run with the best accuracy given a workspace/project string:"
   ]
  },
  {
   "cell_type": "code",
   "execution_count": 52,
   "metadata": {},
   "outputs": [],
   "source": [
    "def find_best_run(project):\n",
    "    runs = []\n",
    "    for exp_id in api.workspaces[project]:\n",
    "        exp = api.workspaces[project][exp_id]\n",
    "        accs = [x[\"valueMax\"] for x in exp.metrics if x[\"name\"] == \"acc\"]\n",
    "        if len(accs) > 0:\n",
    "            runs.append([float(accs[0]), exp])\n",
    "    if runs:\n",
    "        return sorted(runs, key=lambda v: v[0], reverse=True)[0]"
   ]
  },
  {
   "cell_type": "code",
   "execution_count": 53,
   "metadata": {},
   "outputs": [
    {
     "data": {
      "text/plain": [
       "[1.0, <Experiment 'cometpublic/fasttext/44ea2d68794d4c5e9e18b86c30562bf8'>]"
      ]
     },
     "execution_count": 53,
     "metadata": {},
     "output_type": "execute_result"
    }
   ],
   "source": [
    "find_best_run(\"cometpublic/fasttext\")"
   ]
  },
  {
   "cell_type": "markdown",
   "metadata": {},
   "source": [
    "Can we get all of the `hidden_size` parameter values for the experiments in dsblank/pytorch?"
   ]
  },
  {
   "cell_type": "code",
   "execution_count": 54,
   "metadata": {},
   "outputs": [
    {
     "data": {
      "text/plain": [
       "[(<Experiment 'dsblank/pytorch/5f540fc7894146f4bbfd21ebe8549fcf'>,\n",
       "  'hidden_size',\n",
       "  128),\n",
       " (<Experiment 'dsblank/pytorch/1ae244a0423b477b836923084f685b0e'>,\n",
       "  'hidden_size',\n",
       "  128),\n",
       " (<Experiment 'dsblank/pytorch/fa83f339da024d1da838ef6f21bc74ff'>,\n",
       "  'hidden_size',\n",
       "  128),\n",
       " (<Experiment 'dsblank/pytorch/cd19c6d3941e42c1bc939782605b4156'>,\n",
       "  'hidden_size',\n",
       "  128),\n",
       " (<Experiment 'dsblank/pytorch/296cc381115a4112984de013e27ae829'>,\n",
       "  'hidden_size',\n",
       "  128),\n",
       " (<Experiment 'dsblank/pytorch/62d69106941d4cca92981d38e0db3013'>,\n",
       "  'hidden_size',\n",
       "  128),\n",
       " (<Experiment 'dsblank/pytorch/76e370a24dee41d083755a250ef00ddc'>,\n",
       "  'hidden_size',\n",
       "  128),\n",
       " (<Experiment 'dsblank/pytorch/8b65b7e9d70a4663a0ee0fbc0adfab02'>,\n",
       "  'hidden_size',\n",
       "  128),\n",
       " (<Experiment 'dsblank/pytorch/86a3e405c5484ea59e5472b62e2166f4'>,\n",
       "  'hidden_size',\n",
       "  128),\n",
       " (<Experiment 'dsblank/pytorch/3a8ff37b0e7846d4a90fdf9e0170dc48'>,\n",
       "  'hidden_size',\n",
       "  128),\n",
       " (<Experiment 'dsblank/pytorch/536beec2348849508c6096ab2e56731b'>,\n",
       "  'hidden_size',\n",
       "  128),\n",
       " (<Experiment 'dsblank/pytorch/f920b50cab83443caca71d941bb1e98f'>,\n",
       "  'hidden_size',\n",
       "  128),\n",
       " (<Experiment 'dsblank/pytorch/40b8cc51ff6a43d98e31e5cb4e987f25'>,\n",
       "  'hidden_size',\n",
       "  128),\n",
       " (<Experiment 'dsblank/pytorch/0f2fcba7176143a1a7cffd3d40557a21'>,\n",
       "  'hidden_size',\n",
       "  128),\n",
       " (<Experiment 'dsblank/pytorch/7716f6e6c0a34a04a04a8d8c9c0084b7'>,\n",
       "  'hidden_size',\n",
       "  128),\n",
       " (<Experiment 'dsblank/pytorch/d6d44112066d4510b75ee116efbbdedc'>,\n",
       "  'hidden_size',\n",
       "  128),\n",
       " (<Experiment 'dsblank/pytorch/79fb7ae6712c4ec8b4fe02fec1d83d60'>,\n",
       "  'hidden_size',\n",
       "  128),\n",
       " (<Experiment 'dsblank/pytorch/4166971f02db42bab68647e8ed27df12'>,\n",
       "  'hidden_size',\n",
       "  128),\n",
       " (<Experiment 'dsblank/pytorch/63a6609e3d544216b433f4de559e0b58'>,\n",
       "  'hidden_size',\n",
       "  128),\n",
       " (<Experiment 'dsblank/pytorch/9a3115a2ff41460d9a9d93c9608934ef'>,\n",
       "  'hidden_size',\n",
       "  128),\n",
       " (<Experiment 'dsblank/pytorch/f2f470141b8040a693122d9a310ffca4'>,\n",
       "  'hidden_size',\n",
       "  128),\n",
       " (<Experiment 'dsblank/pytorch/3cff2378eb4f41fbad86d80977b60e28'>,\n",
       "  'hidden_size',\n",
       "  128),\n",
       " (<Experiment 'dsblank/pytorch/d1c91769b0124cbba6247245388ecf2f'>,\n",
       "  'hidden_size',\n",
       "  128),\n",
       " (<Experiment 'dsblank/pytorch/b2b128ee813149c69311752597f0dcd7'>,\n",
       "  'hidden_size',\n",
       "  128),\n",
       " (<Experiment 'dsblank/pytorch/c12b4dc99e4e4948a36909872f31876f'>,\n",
       "  'hidden_size',\n",
       "  128),\n",
       " (<Experiment 'dsblank/pytorch/5c40dd218f064211ac2c1584e5624fe2'>,\n",
       "  'hidden_size',\n",
       "  128),\n",
       " (<Experiment 'dsblank/pytorch/d60f93eae1ed45e99474b0349d06909d'>,\n",
       "  'hidden_size',\n",
       "  128),\n",
       " (<Experiment 'dsblank/pytorch/e671837177eb4a8fbbb37c5810f429dd'>,\n",
       "  'hidden_size',\n",
       "  128),\n",
       " (<Experiment 'dsblank/pytorch/e5ce94ae516546a496c34c53c5b2adbf'>,\n",
       "  'hidden_size',\n",
       "  128),\n",
       " (<Experiment 'dsblank/pytorch/e7ee21a1868e48f1ae870438b6ac4c8e'>,\n",
       "  'hidden_size',\n",
       "  128),\n",
       " (<Experiment 'dsblank/pytorch/2dca325c9b3c43edad5c34da845ed1b9'>,\n",
       "  'hidden_size',\n",
       "  128),\n",
       " (<Experiment 'dsblank/pytorch/e75f3298e3834c06ae7efaaacbe151a0'>,\n",
       "  'hidden_size',\n",
       "  128),\n",
       " (<Experiment 'dsblank/pytorch/1030ec6fd2f049659b7718c6f00f0581'>,\n",
       "  'hidden_size',\n",
       "  128),\n",
       " (<Experiment 'dsblank/pytorch/fbdbfc0747164e1baedd7c6e4d0c7f36'>,\n",
       "  'hidden_size',\n",
       "  128),\n",
       " (<Experiment 'dsblank/pytorch/MY-EXPERIMENT-001'>, 'hidden_size', 128)]"
      ]
     },
     "execution_count": 54,
     "metadata": {},
     "output_type": "execute_result"
    }
   ],
   "source": [
    "[[(exp, \"hidden_size\", int(param[\"valueCurrent\"])) for param in exp.parameters \n",
    "  if param[\"name\"] == \"hidden_size\"][0] \n",
    " for exp in api.workspaces[\"dsblank/pytorch/.*\"]]"
   ]
  },
  {
   "cell_type": "markdown",
   "metadata": {},
   "source": [
    "### Assets\n",
    "\n",
    "To get an asset, you need to get the asset_id. You can see all of the assets related to a project using the `Experiment.asset_list`:"
   ]
  },
  {
   "cell_type": "code",
   "execution_count": 7,
   "metadata": {},
   "outputs": [],
   "source": [
    "for exp in api.workspaces['dsblank/visualizations/.*']:\n",
    "    if exp.asset_list != []:\n",
    "        print(exp)"
   ]
  },
  {
   "cell_type": "markdown",
   "metadata": {},
   "source": [
    "From there, you can use the `Experiment.get_asset(asset_id)` method to get the asset."
   ]
  },
  {
   "cell_type": "markdown",
   "metadata": {},
   "source": [
    "## Low-level API\n",
    "\n",
    "If you would prefer a more direct, lower-level API, you can also use the following functions from the API() instance. These correspond to the details in:\n",
    "\n",
    "https://development.comet.ml/docs/rest-api/endpoints/"
   ]
  },
  {
   "cell_type": "markdown",
   "metadata": {},
   "source": [
    "### Utility functions\n",
    "\n",
    "*    get_url(version=None)\n",
    "*    get_url_server(version=None)\n",
    "*    get_url_end_point(end_point, version=None)\n",
    "*    get_request(end_point, params)\n",
    "*    get_version(self)\n",
    "\n",
    "### Access functions\n",
    "*    get_workspaces(workspace_name=None)\n",
    "*    get_projects(workspace)\n",
    "*    get_experiment_keys(project_id)\n",
    "*    get_experiment_data(project_id)\n",
    "*    get_experiment(experiment_key)\n",
    "*    get_experiment_html(experiment_key)\n",
    "*    get_experiment_code(experiment_key)\n",
    "*    get_experiment_stdout(experiment_key)\n",
    "*    get_experiment_installed_packages(experiment_key)\n",
    "*    get_experiment_graph(experiment_key)\n",
    "*    get_experiment_images(experiment_key)\n",
    "*    get_experiment_parameters(experiment_key, param=None)\n",
    "*    get_experiment_metrics(experiment_key, metric=None)\n",
    "*    get_experiment_other(experiment_key, other=None, value=None)\n",
    "*    get_experiment_metrics_raw(experiment_key, metric=None)\n",
    "*    get_experiment_asset_list(experiment_key)\n",
    "*    get_experiment_asset(experiment_key, asset_id)\n",
    "*    get_experiment_git_patch(experiment_key)\n",
    "*    get_experiment_git_metadata(experiment_key)"
   ]
  },
  {
   "cell_type": "markdown",
   "metadata": {},
   "source": [
    "We hope that this gives you some ideas of how you can use the REST API!"
   ]
  }
 ],
 "metadata": {
  "kernelspec": {
   "display_name": "Python 3",
   "language": "python",
   "name": "python3"
  },
  "language_info": {
   "codemirror_mode": {
    "name": "ipython",
    "version": 3
   },
   "file_extension": ".py",
   "mimetype": "text/x-python",
   "name": "python",
   "nbconvert_exporter": "python",
   "pygments_lexer": "ipython3",
   "version": "3.6.7"
  }
 },
 "nbformat": 4,
 "nbformat_minor": 2
}
