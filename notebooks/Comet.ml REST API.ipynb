{
 "cells": [
  {
   "cell_type": "markdown",
   "metadata": {},
   "source": [
    "# Comet.ml REST API\n",
    "\n",
    "Comet.ml has an extensive interface to all of your data via a [REST API](https://en.wikipedia.org/wiki/Representational_state_transfer) through [Comet.ml endpoints](https://www.comet.ml/docs/rest-api/endpoints/). Now, you can access this information easily through the Comet.ml Python SDK.\n",
    "\n",
    "## Setup\n",
    "\n",
    "To run the following experiments, you'll need to set your COMET_API_KEY and COMET_REST_API_KEY. The easiest way to to this is to set the values in a cell like this:\n",
    "\n",
    "```python\n",
    "%%writefile .env\n",
    "COMET_API_KEY=\"...\"\n",
    "COMET_REST_API_KEY=\"..\"\n",
    "```\n",
    "\n",
    "You can get your COMET_API_KEY under your quickstart link:\n",
    "\n",
    "https://www.comet.ml/YOURID/quickstart\n",
    "\n",
    "You can get your COMET_REST_API_KEY under settings\n",
    "\n",
    "https://www.comet.ml/dsblank/settings/account\n",
    "\n",
    "## Quick Overview\n",
    "\n",
    "To access the REST API through the comet.ml SDK, you will need to make an API() instance. First, we import the API class:"
   ]
  },
  {
   "cell_type": "code",
   "execution_count": 1,
   "metadata": {},
   "outputs": [],
   "source": [
    "from comet_ml import API"
   ]
  },
  {
   "cell_type": "markdown",
   "metadata": {},
   "source": [
    "and creat the instance:"
   ]
  },
  {
   "cell_type": "code",
   "execution_count": 2,
   "metadata": {},
   "outputs": [],
   "source": [
    "api = API()"
   ]
  },
  {
   "cell_type": "code",
   "execution_count": 3,
   "metadata": {},
   "outputs": [
    {
     "data": {
      "text/plain": [
       "['dsblank']"
      ]
     },
     "execution_count": 3,
     "metadata": {},
     "output_type": "execute_result"
    }
   ],
   "source": [
    "api.workspaces"
   ]
  },
  {
   "cell_type": "code",
   "execution_count": 4,
   "metadata": {},
   "outputs": [
    {
     "data": {
      "text/plain": [
       "['fasttext', 'comet-notebooks', 'parameter-space-exploration', 'home-credit']"
      ]
     },
     "execution_count": 4,
     "metadata": {},
     "output_type": "execute_result"
    }
   ],
   "source": [
    "api.workspaces[\"cometpublic\"]"
   ]
  },
  {
   "cell_type": "code",
   "execution_count": 5,
   "metadata": {},
   "outputs": [
    {
     "data": {
      "text/plain": [
       "['7092a5e4c362453fb0b3f06785a1d30c', 'd21f94a1c71841d2961da1e6ddb5ab20']"
      ]
     },
     "execution_count": 5,
     "metadata": {},
     "output_type": "execute_result"
    }
   ],
   "source": [
    "api.workspaces[\"cometpublic\"][\"comet-notebooks\"]"
   ]
  },
  {
   "cell_type": "code",
   "execution_count": 6,
   "metadata": {},
   "outputs": [
    {
     "data": {
      "text/plain": [
       "<Experiment 'cometpublic/comet-notebooks/d21f94a1c71841d2961da1e6ddb5ab20'>"
      ]
     },
     "execution_count": 6,
     "metadata": {},
     "output_type": "execute_result"
    }
   ],
   "source": [
    "api.workspaces[\"cometpublic\"][\"comet-notebooks\"]['d21f94a1c71841d2961da1e6ddb5ab20']"
   ]
  },
  {
   "cell_type": "code",
   "execution_count": 7,
   "metadata": {},
   "outputs": [],
   "source": [
    "exp = api.workspaces[\"cometpublic\"][\"comet-notebooks\"]['d21f94a1c71841d2961da1e6ddb5ab20']"
   ]
  },
  {
   "cell_type": "code",
   "execution_count": 8,
   "metadata": {},
   "outputs": [
    {
     "data": {
      "text/plain": [
       "<Experiment 'cometpublic/comet-notebooks/d21f94a1c71841d2961da1e6ddb5ab20'>"
      ]
     },
     "execution_count": 8,
     "metadata": {},
     "output_type": "execute_result"
    }
   ],
   "source": [
    "exp"
   ]
  },
  {
   "cell_type": "code",
   "execution_count": 9,
   "metadata": {},
   "outputs": [
    {
     "data": {
      "text/plain": [
       "[{'name': 'Name',\n",
       "  'valueMax': 'example 001',\n",
       "  'valueMin': 'example 001',\n",
       "  'valueCurrent': 'example 001',\n",
       "  'timestampMax': 1543866627717,\n",
       "  'timestampMin': 1543866627717,\n",
       "  'timestampCurrent': 1543866627717}]"
      ]
     },
     "execution_count": 9,
     "metadata": {},
     "output_type": "execute_result"
    }
   ],
   "source": [
    "exp.other"
   ]
  },
  {
   "cell_type": "code",
   "execution_count": 10,
   "metadata": {},
   "outputs": [
    {
     "data": {
      "text/plain": [
       "<Experiment 'cometpublic/comet-notebooks/example 001'>"
      ]
     },
     "execution_count": 10,
     "metadata": {},
     "output_type": "execute_result"
    }
   ],
   "source": [
    "api.workspaces[\"cometpublic\"][\"comet-notebooks\"]['example 001']"
   ]
  },
  {
   "cell_type": "markdown",
   "metadata": {},
   "source": [
    "## Workspaces"
   ]
  },
  {
   "cell_type": "code",
   "execution_count": 11,
   "metadata": {},
   "outputs": [
    {
     "data": {
      "text/plain": [
       "['dsblank']"
      ]
     },
     "execution_count": 11,
     "metadata": {},
     "output_type": "execute_result"
    }
   ],
   "source": [
    "api.workspaces"
   ]
  },
  {
   "cell_type": "code",
   "execution_count": 12,
   "metadata": {},
   "outputs": [
    {
     "name": "stdout",
     "output_type": "stream",
     "text": [
      "dsblank\n"
     ]
    }
   ],
   "source": [
    "for workspace in api.workspaces:\n",
    "    print(workspace)"
   ]
  },
  {
   "cell_type": "markdown",
   "metadata": {},
   "source": [
    "## Projects"
   ]
  },
  {
   "cell_type": "code",
   "execution_count": 13,
   "metadata": {},
   "outputs": [
    {
     "data": {
      "text/plain": [
       "['fasttext', 'comet-notebooks', 'parameter-space-exploration', 'home-credit']"
      ]
     },
     "execution_count": 13,
     "metadata": {},
     "output_type": "execute_result"
    }
   ],
   "source": [
    "api.workspaces[\"cometpublic\"]"
   ]
  },
  {
   "cell_type": "code",
   "execution_count": 14,
   "metadata": {},
   "outputs": [],
   "source": [
    "project = api.workspaces[\"cometpublic\"][\"comet-notebooks\"]"
   ]
  },
  {
   "cell_type": "code",
   "execution_count": 15,
   "metadata": {},
   "outputs": [
    {
     "data": {
      "text/plain": [
       "['7092a5e4c362453fb0b3f06785a1d30c', 'd21f94a1c71841d2961da1e6ddb5ab20']"
      ]
     },
     "execution_count": 15,
     "metadata": {},
     "output_type": "execute_result"
    }
   ],
   "source": [
    "project"
   ]
  },
  {
   "cell_type": "code",
   "execution_count": 16,
   "metadata": {},
   "outputs": [
    {
     "data": {
      "text/plain": [
       "{'project_id': '63776506878949eb9ac225a2a24b87f6',\n",
       " 'user_name': 'cometpublic',\n",
       " 'project_name': 'comet-notebooks',\n",
       " 'project_desc': '',\n",
       " 'team_id': 'cometpublic-default',\n",
       " 'is_owner': False,\n",
       " 'is_public': True,\n",
       " 'is_shared': False,\n",
       " 'num_of_experiments': 2,\n",
       " 'last_updated': 1543867086997,\n",
       " 'team_name': 'cometpublic',\n",
       " 'experiments': ['7092a5e4c362453fb0b3f06785a1d30c',\n",
       "  'd21f94a1c71841d2961da1e6ddb5ab20']}"
      ]
     },
     "execution_count": 16,
     "metadata": {},
     "output_type": "execute_result"
    }
   ],
   "source": [
    "project.data"
   ]
  },
  {
   "cell_type": "markdown",
   "metadata": {},
   "source": [
    "## Experiments"
   ]
  },
  {
   "cell_type": "code",
   "execution_count": 17,
   "metadata": {},
   "outputs": [
    {
     "data": {
      "text/plain": [
       "['7092a5e4c362453fb0b3f06785a1d30c', 'd21f94a1c71841d2961da1e6ddb5ab20']"
      ]
     },
     "execution_count": 17,
     "metadata": {},
     "output_type": "execute_result"
    }
   ],
   "source": [
    "api.workspaces[\"cometpublic\"][\"comet-notebooks\"]"
   ]
  },
  {
   "cell_type": "code",
   "execution_count": 18,
   "metadata": {},
   "outputs": [],
   "source": [
    "exp = api.workspaces[\"cometpublic\"][\"comet-notebooks\"]['d21f94a1c71841d2961da1e6ddb5ab20']"
   ]
  },
  {
   "cell_type": "code",
   "execution_count": 19,
   "metadata": {},
   "outputs": [
    {
     "data": {
      "text/plain": [
       "{'code_sha': '66e8551f',\n",
       " 'file_name': 'Jupyter interactive',\n",
       " 'file_path': 'Jupyter interactive',\n",
       " 'duration_millis': 1043394000,\n",
       " 'start_server_timestamp': 1542823692825,\n",
       " 'end_server_timestamp': 1543867086997,\n",
       " 'has_images': False,\n",
       " 'experiment_key': 'd21f94a1c71841d2961da1e6ddb5ab20',\n",
       " 'metrics': ['train_accuracy',\n",
       "  'train_curr_epoch',\n",
       "  'train_loss',\n",
       "  'train_val_loss'],\n",
       " 'other': ['Name'],\n",
       " 'parameters': ['f']}"
      ]
     },
     "execution_count": 19,
     "metadata": {},
     "output_type": "execute_result"
    }
   ],
   "source": [
    "exp.data"
   ]
  },
  {
   "cell_type": "code",
   "execution_count": 20,
   "metadata": {},
   "outputs": [
    {
     "data": {
      "text/plain": [
       "[{'name': 'Name',\n",
       "  'valueMax': 'example 001',\n",
       "  'valueMin': 'example 001',\n",
       "  'valueCurrent': 'example 001',\n",
       "  'timestampMax': 1543866627717,\n",
       "  'timestampMin': 1543866627717,\n",
       "  'timestampCurrent': 1543866627717}]"
      ]
     },
     "execution_count": 20,
     "metadata": {},
     "output_type": "execute_result"
    }
   ],
   "source": [
    "exp.other"
   ]
  },
  {
   "cell_type": "code",
   "execution_count": 21,
   "metadata": {},
   "outputs": [
    {
     "data": {
      "text/html": [
       "\n",
       "        <iframe\n",
       "            width=\"100%\"\n",
       "            height=\"800px\"\n",
       "            src=\"https://www.comet.ml/cometpublic/comet-notebooks/d21f94a1c71841d2961da1e6ddb5ab20\"\n",
       "            frameborder=\"0\"\n",
       "            allowfullscreen\n",
       "        ></iframe>\n",
       "        "
      ],
      "text/plain": [
       "<IPython.lib.display.IFrame at 0x7fdea8da0da0>"
      ]
     },
     "metadata": {},
     "output_type": "display_data"
    }
   ],
   "source": [
    "exp.display()"
   ]
  },
  {
   "cell_type": "code",
   "execution_count": null,
   "metadata": {},
   "outputs": [],
   "source": []
  }
 ],
 "metadata": {
  "kernelspec": {
   "display_name": "Python 3",
   "language": "python",
   "name": "python3"
  },
  "language_info": {
   "codemirror_mode": {
    "name": "ipython",
    "version": 3
   },
   "file_extension": ".py",
   "mimetype": "text/x-python",
   "name": "python",
   "nbconvert_exporter": "python",
   "pygments_lexer": "ipython3",
   "version": "3.6.7"
  }
 },
 "nbformat": 4,
 "nbformat_minor": 2
}
