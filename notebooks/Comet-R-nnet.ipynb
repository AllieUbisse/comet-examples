{
 "cells": [
  {
   "cell_type": "markdown",
   "metadata": {},
   "source": [
    "# Comet + R with nnet\n",
    "\n",
    "This notebook is based on:\n",
    "\n",
    "* https://www.rdocumentation.org/packages/nnet/versions/7.3-13/topics/nnet\n",
    "\n",
    "To get started with Comet and R, please see:\n",
    "https://www.comet.ml/docs/r-sdk/getting-started/\n",
    "\n",
    "Specifically, you need to create a .comet.yml file\n",
    "or add your Comet API key to create_experiment()\n",
    "\n",
    "```r\n",
    "install.packages(\"cometr\")\n",
    "```"
   ]
  },
  {
   "cell_type": "markdown",
   "metadata": {},
   "source": [
    "First we identify which libraries we wish to use:"
   ]
  },
  {
   "cell_type": "code",
   "execution_count": 1,
   "metadata": {},
   "outputs": [],
   "source": [
    "library(cometr)\n",
    "library(nnet)\n",
    "library(stringr)"
   ]
  },
  {
   "cell_type": "markdown",
   "metadata": {},
   "source": [
    "Next, we create a Comet experiment marking what we would like to log to the server:"
   ]
  },
  {
   "cell_type": "code",
   "execution_count": 2,
   "metadata": {},
   "outputs": [
    {
     "name": "stdout",
     "output_type": "stream",
     "text": [
      "Experiment created: https://www.comet.ml/dsblank/cometr/7e1ea5611977445e9c9041b8eb293714 \n"
     ]
    }
   ],
   "source": [
    "exp <- create_experiment(\n",
    "  keep_active = TRUE,\n",
    "  log_output = FALSE,\n",
    "  log_error = FALSE,\n",
    "  log_code = TRUE,\n",
    "  log_system_details = TRUE,\n",
    "  log_git_info = TRUE\n",
    ")"
   ]
  },
  {
   "cell_type": "markdown",
   "metadata": {},
   "source": [
    "Note: the notebook source isn't logged through the experiment. "
   ]
  },
  {
   "cell_type": "code",
   "execution_count": 3,
   "metadata": {},
   "outputs": [],
   "source": [
    "exp$add_tags(c(\"made with nnet\"))"
   ]
  },
  {
   "cell_type": "code",
   "execution_count": 4,
   "metadata": {},
   "outputs": [],
   "source": [
    "# sample the iris data:\n",
    "\n",
    "sample_size <- 25 # of each iris type\n",
    "total_size <- 50\n",
    "total_size2 <- total_size * 2"
   ]
  },
  {
   "cell_type": "code",
   "execution_count": 5,
   "metadata": {},
   "outputs": [],
   "source": [
    "exp$log_parameter(\"sample_size\", sample_size)"
   ]
  },
  {
   "cell_type": "code",
   "execution_count": 6,
   "metadata": {},
   "outputs": [],
   "source": [
    "ir <- rbind(iris3[,,1], iris3[,,2], iris3[,,3])\n",
    "targets <- class.ind(c(\n",
    "  rep(\"s\", total_size),\n",
    "  rep(\"c\", total_size),\n",
    "  rep(\"v\", total_size))\n",
    ")\n",
    "samp <- c(\n",
    "  sample(1:total_size, sample_size),\n",
    "  sample((total_size + 1):(total_size * 2), sample_size),\n",
    "  sample(((total_size * 2) + 1):(total_size * 3), sample_size)\n",
    ")\n",
    "\n",
    "weight_decay <- 5e-4\n",
    "epochs <- 200\n",
    "hidden_layer_size <- 2\n",
    "initial_random_weight_range <- 0.1"
   ]
  },
  {
   "cell_type": "code",
   "execution_count": 7,
   "metadata": {},
   "outputs": [],
   "source": [
    "exp$log_parameter(\"weight_decay\", weight_decay)\n",
    "exp$log_parameter(\"epochs\", epochs)\n",
    "exp$log_parameter(\"hidden_layer_size\", hidden_layer_size)\n",
    "exp$log_parameter(\"initial_random_weight_range\", initial_random_weight_range)"
   ]
  },
  {
   "cell_type": "markdown",
   "metadata": {},
   "source": [
    "Ideally, all we need to do next is:\n",
    "\n",
    "```r\n",
    "nnet(\n",
    "    ir[samp,],\n",
    "    targets[samp,],\n",
    "    size = hidden_layer_size,\n",
    "    rang = initial_random_weight_range,\n",
    "    decay = weight_decay,\n",
    "    maxit = epochs\n",
    ")\n",
    "```\n",
    "\n",
    "However, we wish to log the \"loss\" values from the training. Unfortunately, the loop that does the processing is in C. But we can grab the output, parse it, and then log it."
   ]
  },
  {
   "cell_type": "code",
   "execution_count": 8,
   "metadata": {},
   "outputs": [
    {
     "name": "stdout",
     "output_type": "stream",
     "text": [
      "# weights:  19\n",
      "initial  value 55.315165 \n",
      "iter  10 value 34.877822\n",
      "iter  20 value 0.745746\n",
      "iter  30 value 0.458811\n",
      "iter  40 value 0.420603\n",
      "iter  50 value 0.398487\n",
      "iter  60 value 0.392074\n",
      "iter  70 value 0.387933\n",
      "iter  80 value 0.384593\n",
      "iter  90 value 0.383557\n",
      "iter 100 value 0.383034\n",
      "iter 110 value 0.382928\n",
      "iter 120 value 0.382837\n",
      "iter 130 value 0.382762\n",
      "iter 140 value 0.382754\n",
      "iter 150 value 0.382749\n",
      "iter 160 value 0.382748\n",
      "final  value 0.382747 \n",
      "converged\n",
      "a 4-2-3 network with 19 weights\n",
      "options were - decay=5e-04\n"
     ]
    }
   ],
   "source": [
    "ir1 <- NULL\n",
    "\n",
    "train <- function() {\n",
    "  ir1 <<- nnet(\n",
    "    ir[samp,],\n",
    "    targets[samp,],\n",
    "    size = hidden_layer_size,\n",
    "    rang = initial_random_weight_range,\n",
    "    decay = weight_decay,\n",
    "    maxit = epochs)\n",
    "    ir1\n",
    "}\n",
    "\n",
    "output <- capture.output(train(), split = TRUE)\n",
    "output <- strsplit(output, \"\\n\")\n",
    "\n",
    "# \"initial  value 57.703088 \"\n",
    "for (match in str_match(output, \"^initial\\\\s+value\\\\s+([-+]?[0-9]*\\\\.?[0-9]+)\")[,2]) {\n",
    "  if (!is.na(match)) {\n",
    "     exp$log_metric(\"loss\", match, step=0)\n",
    "  }\n",
    "}\n",
    "\n",
    "# \"iter  10 value 46.803951\"\n",
    "matrix = str_match(output, \"^iter\\\\s+(\\\\d+)\\\\s+value\\\\s+([-+]?[0-9]*\\\\.?[0-9]+)\")\n",
    "for (i in 1:nrow(matrix)) {\n",
    "  match = matrix[i,]\n",
    "  if (!is.na(match[2])) {\n",
    "     exp$log_metric(\"loss\", match[3], step=match[2])\n",
    "  }\n",
    "}"
   ]
  },
  {
   "cell_type": "markdown",
   "metadata": {},
   "source": [
    "Now, we'll test the trained model by creating a confusion matrix:"
   ]
  },
  {
   "cell_type": "code",
   "execution_count": 9,
   "metadata": {},
   "outputs": [
    {
     "data": {
      "text/plain": [
       "    cres\n",
       "true  1  2  3\n",
       "   1 22  0  3\n",
       "   2  0 25  0\n",
       "   3  0  0 25"
      ]
     },
     "metadata": {},
     "output_type": "display_data"
    }
   ],
   "source": [
    "test.cl <- function(true, pred) {\n",
    "    true <- max.col(true)\n",
    "    cres <- max.col(pred)\n",
    "    table(true, cres)\n",
    "}\n",
    "test.cl(targets[-samp,], predict(ir1, ir[-samp,]))"
   ]
  },
  {
   "cell_type": "code",
   "execution_count": 10,
   "metadata": {},
   "outputs": [],
   "source": [
    "exp$log_html(\"\n",
    "<h1>Comet nnet Example</h1>\n",
    "\n",
    "<p>This example demonstrates using the nnet library on the iris dataset.</p>\n",
    "\n",
    "<p>See the Output tab for confusion matrix.</p>\n",
    "\n",
    "<ul>\n",
    "<li><a href=https://github.com/comet-ml/cometr/blob/master/inst/train-examples/nnet-example.R>github.com/comet-ml/cometr/inst/train-example/nnet-example.R</a></li>\n",
    "</ul>\n",
    "\n",
    "<p>For help on the Comet R SDK, please see: <a href=https://www.comet.ml/docs/r-sdk/getting-started/>www.comet.ml/docs/r-sdk/getting-started/</a></p>\n",
    "\")"
   ]
  },
  {
   "cell_type": "code",
   "execution_count": 11,
   "metadata": {},
   "outputs": [],
   "source": [
    "exp$log_other(key = \"Created by\", value = \"cometr\")"
   ]
  },
  {
   "cell_type": "markdown",
   "metadata": {},
   "source": [
    "At this point, save your notebook. We'll then upload it as an asset:"
   ]
  },
  {
   "cell_type": "code",
   "execution_count": 12,
   "metadata": {},
   "outputs": [],
   "source": [
    "exp$upload_asset(\n",
    "  \"nnet-example.ipynb\",\n",
    "  type = \"notebook\",\n",
    ")"
   ]
  },
  {
   "cell_type": "code",
   "execution_count": 13,
   "metadata": {},
   "outputs": [
    {
     "name": "stdout",
     "output_type": "stream",
     "text": [
      "Comet experiment https://www.comet.ml/dsblank/cometr/7e1ea5611977445e9c9041b8eb293714 \n"
     ]
    }
   ],
   "source": [
    "exp$print()\n",
    "exp$stop()"
   ]
  },
  {
   "cell_type": "code",
   "execution_count": null,
   "metadata": {},
   "outputs": [],
   "source": []
  }
 ],
 "metadata": {
  "kernelspec": {
   "display_name": "R",
   "language": "R",
   "name": "ir"
  },
  "language_info": {
   "codemirror_mode": "r",
   "file_extension": ".r",
   "mimetype": "text/x-r-source",
   "name": "R",
   "pygments_lexer": "r",
   "version": "3.6.3"
  }
 },
 "nbformat": 4,
 "nbformat_minor": 4
}
