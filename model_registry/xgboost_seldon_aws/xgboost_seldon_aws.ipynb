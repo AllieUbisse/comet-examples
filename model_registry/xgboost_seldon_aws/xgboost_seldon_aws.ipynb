{
 "cells": [
  {
   "cell_type": "markdown",
   "metadata": {},
   "source": [
    "# XGBoost Boston Model\n",
    "\n",
    " * Wrap a xgboost python model for use as a prediction microservice in seldon-core\n",
    "   * Run locally on Docker to test\n",
    "   * Deploy on seldon-core running on a Kubernetes cluster\n",
    " \n",
    "## Dependencies\n",
    "\n",
    " * [S2I](https://github.com/openshift/source-to-image) "
   ]
  },
  {
   "cell_type": "code",
   "execution_count": null,
   "metadata": {},
   "outputs": [],
   "source": [
    "!pip install -r requirements.txt"
   ]
  },
  {
   "cell_type": "markdown",
   "metadata": {},
   "source": [
    "## Train locally"
   ]
  },
  {
   "cell_type": "code",
   "execution_count": null,
   "metadata": {},
   "outputs": [],
   "source": [
    "#### Import Comet ####\n",
    "from comet_ml import Experiment\n",
    "\n",
    "#### Import Dependencies ####\n",
    "import xgboost as xgb\n",
    "from sklearn.datasets import load_boston\n",
    "from sklearn.model_selection import train_test_split\n",
    "import pandas as pd\n",
    "import os"
   ]
  },
  {
   "cell_type": "markdown",
   "metadata": {},
   "source": [
    "Let's create a Comet Experiment so we can track both XGBoost hyperparameters, metrics, and save the trained model."
   ]
  },
  {
   "cell_type": "code",
   "execution_count": null,
   "metadata": {},
   "outputs": [],
   "source": [
    "API_KEY = \"TODO_REPLACE_ME\"\n",
    "\n",
    "experiment = Experiment(project_name=\"xgboost_seldon\", api_key=API_KEY)"
   ]
  },
  {
   "cell_type": "markdown",
   "metadata": {},
   "source": [
    "Then load and prepare the data:"
   ]
  },
  {
   "cell_type": "code",
   "execution_count": null,
   "metadata": {},
   "outputs": [],
   "source": [
    "#### Load and configure boston housing dataset ####\n",
    "boston = load_boston()\n",
    "data = pd.DataFrame(boston.data)\n",
    "data.columns = boston.feature_names\n",
    "data[\"Price\"] = boston.target\n",
    "X, y = data.iloc[:, :-1], data.iloc[:, -1]\n",
    "\n",
    "#### Split data into train and test sets ####\n",
    "X_train, X_test, y_train, y_test = train_test_split(\n",
    "    X, y, test_size=0.2, random_state=123\n",
    ")"
   ]
  },
  {
   "cell_type": "markdown",
   "metadata": {},
   "source": [
    "Then train the model:"
   ]
  },
  {
   "cell_type": "code",
   "execution_count": null,
   "metadata": {},
   "outputs": [],
   "source": [
    "#### Define hyperparameters for model ####\n",
    "param = {\n",
    "    \"objective\": \"reg:squarederror\",\n",
    "    \"colsample_bytree\": 0.3,\n",
    "    \"learning_rate\": 0.1,\n",
    "    \"max_depth\": 5,\n",
    "    \"alpha\": 10,\n",
    "    \"n_estimators\": 50,\n",
    "}\n",
    "\n",
    "#### Initialize XGBoost Regressor ####\n",
    "xg_reg = xgb.XGBRegressor(**param)\n",
    "\n",
    "#### Train model ####\n",
    "xg_reg.fit(\n",
    "    X_train,\n",
    "    y_train,\n",
    "    eval_set=[(X_train, y_train), (X_test, y_test)],\n",
    "    eval_metric=\"rmse\",\n",
    ")"
   ]
  },
  {
   "cell_type": "markdown",
   "metadata": {},
   "source": [
    "Finally, save the model to Comet.ml:"
   ]
  },
  {
   "cell_type": "code",
   "execution_count": null,
   "metadata": {},
   "outputs": [],
   "source": [
    "os.makedirs(\"output\", exist_ok=True)\n",
    "\n",
    "xg_reg.save_model(\"output/0001.model\")\n",
    "\n",
    "model_name = \"XGBoost Model (Boston)\"\n",
    "\n",
    "experiment.log_model(model_name, \"output/0001.model\")\n",
    "\n",
    "experiment.end()"
   ]
  },
  {
   "cell_type": "code",
   "execution_count": null,
   "metadata": {},
   "outputs": [],
   "source": [
    "experiment.display(tab=\"assets\")"
   ]
  },
  {
   "cell_type": "markdown",
   "metadata": {},
   "source": [
    "You can check out the experiment assets above. To register an experiment model as a registry model, select the model and click `Register` to register it. Refers to [the documentation](https://www.comet.ml/docs/user-interface/models/) for more informations."
   ]
  },
  {
   "cell_type": "markdown",
   "metadata": {},
   "source": [
    "## Wrap model with Python Wrapper Class\n",
    "\n",
    "Now that we got a trained model logged to Comet, let's see how to retrieve it and wrapt it with Seldon.\n",
    "\n",
    "To retrieve the model, you can use the following command, replace the model version in the command below:"
   ]
  },
  {
   "cell_type": "code",
   "execution_count": null,
   "metadata": {},
   "outputs": [],
   "source": [
    "%%bash -s \"{experiment.workspace}\" \"{API_KEY}\"\n",
    "export WORKSPACE=\"$1\"\n",
    "export REGISTRY_MODEL_NAME=\"TODO_REPLACE_ME\"\n",
    "export REGISTRY_MODEL_VERSION=\"TODO_REPLACE_ME\"\n",
    "\n",
    "env COMET_API_KEY=\"$2\" python download_model.py --workspace \"$WORKSPACE\" --registry_name \"$REGISTRY_MODEL_NAME\" --model_version \"$REGISTRY_MODEL_VERSION\""
   ]
  },
  {
   "cell_type": "markdown",
   "metadata": {},
   "source": [
    "Then we need to define few files for building Seldon compatible Docker container, first the Model Python file:"
   ]
  },
  {
   "cell_type": "code",
   "execution_count": null,
   "metadata": {},
   "outputs": [],
   "source": [
    "%%writefile MyModel.py\n",
    "import xgboost as xgb\n",
    "import numpy as np\n",
    "from typing import Dict, List, Union, Iterable\n",
    "\n",
    "\n",
    "class MyModel:\n",
    "\n",
    "    def __init__(self):\n",
    "        \"\"\"\n",
    "        Add any initialization parameters.\n",
    "        These will be passed at runtime from the graph definition parameters defined in your seldondeployment kubernetes resource manifest.\n",
    "        \"\"\"\n",
    "        self._model = xgb.Booster(model_file=\"model/0001.model\")\n",
    "\n",
    "    def predict(\n",
    "        self, X: np.ndarray, names: Iterable[str], meta: Dict = None\n",
    "    ) -> Union[np.ndarray, List, str, bytes]:\n",
    "        \"\"\"\n",
    "        Return a prediction.\n",
    "\n",
    "        Parameters\n",
    "        ----------\n",
    "        X : array-like\n",
    "        feature_names : array of feature names (optional)\n",
    "        \"\"\"\n",
    "    \n",
    "        dmatrix = xgb.DMatrix(X)\n",
    "        result: np.ndarray = self._model.predict(dmatrix)\n",
    "        return result\n"
   ]
  },
  {
   "cell_type": "markdown",
   "metadata": {},
   "source": [
    "Checking the syntax of the model file:"
   ]
  },
  {
   "cell_type": "code",
   "execution_count": null,
   "metadata": {},
   "outputs": [],
   "source": [
    "!python MyModel.py"
   ]
  },
  {
   "cell_type": "markdown",
   "metadata": {},
   "source": [
    "Then the Python dependencies:"
   ]
  },
  {
   "cell_type": "code",
   "execution_count": null,
   "metadata": {},
   "outputs": [],
   "source": [
    "%%writefile requirements.txt\n",
    "xgboost\n",
    "pip\n",
    "seldon_core"
   ]
  },
  {
   "cell_type": "markdown",
   "metadata": {},
   "source": [
    "And finally the definition file for Seldon:"
   ]
  },
  {
   "cell_type": "code",
   "execution_count": null,
   "metadata": {},
   "outputs": [],
   "source": [
    "%%bash\n",
    "mkdir -p .s2i"
   ]
  },
  {
   "cell_type": "code",
   "execution_count": null,
   "metadata": {},
   "outputs": [],
   "source": [
    "%%writefile .s2i/environment\n",
    "MODEL_NAME=MyModel\n",
    "API_TYPE=REST\n",
    "SERVICE_TYPE=MODEL\n",
    "PERSISTENCE=0"
   ]
  },
  {
   "cell_type": "markdown",
   "metadata": {},
   "source": [
    "## Build the Docker image\n",
    "\n",
    "The recommended way of building Seldon images is to use [s2i](https://github.com/openshift/source-to-image) with official ready-to-use definition images. Please refer to [the Seldon documentation](https://docs.seldon.io/projects/seldon-core/en/latest/python/python_wrapping_s2i.html) for more information."
   ]
  },
  {
   "cell_type": "code",
   "execution_count": null,
   "metadata": {},
   "outputs": [],
   "source": [
    "!s2i build . seldonio/seldon-core-s2i-python3:1.1.1-rc comet_ml/xgboost_seldon:0.1"
   ]
  },
  {
   "cell_type": "markdown",
   "metadata": {},
   "source": [
    "## Test locally\n",
    "\n",
    "Once the Docker image has been built, we can start it locally and test it:"
   ]
  },
  {
   "cell_type": "code",
   "execution_count": null,
   "metadata": {},
   "outputs": [],
   "source": [
    "!docker run --name \"xgboost_predictor\" -d --rm -p 5000:5000 comet_ml/xgboost_seldon:0.1"
   ]
  },
  {
   "cell_type": "markdown",
   "metadata": {},
   "source": [
    "Send some random features that conform to the contract:"
   ]
  },
  {
   "cell_type": "code",
   "execution_count": null,
   "metadata": {},
   "outputs": [],
   "source": [
    "!curl -g http://localhost:5000/predict --data-urlencode 'json={\"data\": {\"names\": [\"message\"], \"ndarray\": [[0.00632, 18.0, 2.31, 0.0, 0.538, 6.575, 65.2, 4.09, 1.0, 296.0, 15.3, 396.9, 4.98]]}}'"
   ]
  },
  {
   "cell_type": "code",
   "execution_count": null,
   "metadata": {},
   "outputs": [],
   "source": [
    "!docker rm xgboost_predictor --force"
   ]
  },
  {
   "cell_type": "markdown",
   "metadata": {},
   "source": [
    "## Push to production\n",
    "\n",
    "Once you validated locally that your model is correctly predicting, you need to push your Docker image to a Kubernetes Cluster where Seldon is installed.\n",
    "\n",
    "Installing and configuring Seldon is out of the scope of this notebook but you can, you can refer to the [Seldon-Core installation page](https://docs.seldon.io/projects/seldon-core/en/latest/workflow/install.html).\n",
    "\n",
    "Once your Kubernetes cluster is ready, you can follow one of the [cloud-specific example notebooks](https://docs.seldon.io/projects/seldon-core/en/latest/examples/notebooks.html#cloud-specific-examples) to learn how to push the built Docker image and deploy it to your cluster."
   ]
  }
 ],
 "metadata": {
  "kernelspec": {
   "display_name": "'Python Interactive'",
   "language": "python",
   "name": "5993dd66-eda5-4671-83ae-60178ed6f369"
  },
  "language_info": {
   "codemirror_mode": {
    "name": "ipython",
    "version": 3
   },
   "file_extension": ".py",
   "mimetype": "text/x-python",
   "name": "python",
   "nbconvert_exporter": "python",
   "pygments_lexer": "ipython3",
   "version": "3.7.5-final"
  },
  "varInspector": {
   "cols": {
    "lenName": 16,
    "lenType": 16,
    "lenVar": 40
   },
   "kernels_config": {
    "python": {
     "delete_cmd_postfix": "",
     "delete_cmd_prefix": "del ",
     "library": "var_list.py",
     "varRefreshCmd": "print(var_dic_list())"
    },
    "r": {
     "delete_cmd_postfix": ") ",
     "delete_cmd_prefix": "rm(",
     "library": "var_list.r",
     "varRefreshCmd": "cat(var_dic_list()) "
    }
   },
   "types_to_exclude": [
    "module",
    "function",
    "builtin_function_or_method",
    "instance",
    "_Feature"
   ],
   "window_display": false
  }
 },
 "nbformat": 4,
 "nbformat_minor": 4
}